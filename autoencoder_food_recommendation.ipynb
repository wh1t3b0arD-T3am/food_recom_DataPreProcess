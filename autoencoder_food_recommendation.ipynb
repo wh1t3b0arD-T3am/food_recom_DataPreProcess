{
  "nbformat": 4,
  "nbformat_minor": 0,
  "metadata": {
    "colab": {
      "name": "autoencoder_food_recommendation.ipynb",
      "provenance": []
    },
    "kernelspec": {
      "name": "python3",
      "display_name": "Python 3"
    },
    "language_info": {
      "name": "python"
    },
    "accelerator": "GPU"
  },
  "cells": [
    {
      "cell_type": "code",
      "metadata": {
        "id": "MWgmdXSCaJ26"
      },
      "source": [
        "import tensorflow as tf\n",
        "import pandas as pd\n",
        "import numpy as np\n",
        "import matplotlib.pyplot as plt\n",
        "import matplotlib as mpl \n",
        "from tensorflow.keras.models import Model \n",
        "from sklearn.preprocessing import StandardScaler, MinMaxScaler\n",
        "from sklearn.decomposition import PCA\n",
        "from numpy.random import seed\n",
        "from sklearn.model_selection import train_test_split\n",
        "from keras.layers import Input, Dense\n",
        "from keras.models import Model\n",
        "import seaborn as sns"
      ],
      "execution_count": 1,
      "outputs": []
    },
    {
      "cell_type": "code",
      "metadata": {
        "id": "bIOdr5pIaMON"
      },
      "source": [
        "df = pd.read_csv(\"/content/allrecipe_0-1000_merge.csv\")"
      ],
      "execution_count": 2,
      "outputs": []
    },
    {
      "cell_type": "code",
      "metadata": {
        "colab": {
          "base_uri": "https://localhost:8080/",
          "height": 576
        },
        "id": "UbpxigZoaU1e",
        "outputId": "4ca4a7b9-f5e9-4e13-df28-90e3b4c2d3e4"
      },
      "source": [
        "df.head()"
      ],
      "execution_count": 3,
      "outputs": [
        {
          "output_type": "execute_result",
          "data": {
            "text/html": [
              "<div>\n",
              "<style scoped>\n",
              "    .dataframe tbody tr th:only-of-type {\n",
              "        vertical-align: middle;\n",
              "    }\n",
              "\n",
              "    .dataframe tbody tr th {\n",
              "        vertical-align: top;\n",
              "    }\n",
              "\n",
              "    .dataframe thead th {\n",
              "        text-align: right;\n",
              "    }\n",
              "</style>\n",
              "<table border=\"1\" class=\"dataframe\">\n",
              "  <thead>\n",
              "    <tr style=\"text-align: right;\">\n",
              "      <th></th>\n",
              "      <th>ingredients</th>\n",
              "      <th>url</th>\n",
              "      <th>partition</th>\n",
              "      <th>title</th>\n",
              "      <th>id</th>\n",
              "      <th>instructions</th>\n",
              "      <th>Unnamed: 0</th>\n",
              "      <th>calories</th>\n",
              "      <th>protein</th>\n",
              "      <th>carbohydrates</th>\n",
              "      <th>dietary fiber</th>\n",
              "      <th>sugars</th>\n",
              "      <th>fat</th>\n",
              "      <th>saturated fat</th>\n",
              "      <th>cholesterol</th>\n",
              "      <th>vitamin a iu</th>\n",
              "      <th>niacin equivalents</th>\n",
              "      <th>folate</th>\n",
              "      <th>calcium</th>\n",
              "      <th>iron</th>\n",
              "      <th>magnesium</th>\n",
              "      <th>potassium</th>\n",
              "      <th>sodium</th>\n",
              "      <th>calories from fat</th>\n",
              "    </tr>\n",
              "  </thead>\n",
              "  <tbody>\n",
              "    <tr>\n",
              "      <th>0</th>\n",
              "      <td>[{'text': '1 pound dried red beans, soaked ove...</td>\n",
              "      <td>http://allrecipes.com/recipe/authentic-no-shor...</td>\n",
              "      <td>val</td>\n",
              "      <td>Authentic, No Shortcuts, Louisiana Red Beans a...</td>\n",
              "      <td>587c9a00a9</td>\n",
              "      <td>[{'text': 'Place the beans and water into a sl...</td>\n",
              "      <td>0.0</td>\n",
              "      <td>285</td>\n",
              "      <td>5</td>\n",
              "      <td>22</td>\n",
              "      <td>1</td>\n",
              "      <td>20</td>\n",
              "      <td>21</td>\n",
              "      <td>12</td>\n",
              "      <td>148</td>\n",
              "      <td>571</td>\n",
              "      <td>1</td>\n",
              "      <td>17</td>\n",
              "      <td>28</td>\n",
              "      <td>2</td>\n",
              "      <td>31</td>\n",
              "      <td>114</td>\n",
              "      <td>142</td>\n",
              "      <td>190</td>\n",
              "    </tr>\n",
              "    <tr>\n",
              "      <th>1</th>\n",
              "      <td>[{'text': '1 (14 ounce) bag green split peas, ...</td>\n",
              "      <td>http://allrecipes.com/recipe/ricks-yummy-split...</td>\n",
              "      <td>train</td>\n",
              "      <td>Rick's Yummy Split Pea Soup with Ham</td>\n",
              "      <td>587f0bd408</td>\n",
              "      <td>[{'text': 'Place the split peas into a large c...</td>\n",
              "      <td>1.0</td>\n",
              "      <td>166</td>\n",
              "      <td>1</td>\n",
              "      <td>31</td>\n",
              "      <td>2</td>\n",
              "      <td>16</td>\n",
              "      <td>5</td>\n",
              "      <td>0</td>\n",
              "      <td>2</td>\n",
              "      <td>1062</td>\n",
              "      <td>0</td>\n",
              "      <td>20</td>\n",
              "      <td>7</td>\n",
              "      <td>0</td>\n",
              "      <td>34</td>\n",
              "      <td>461</td>\n",
              "      <td>11</td>\n",
              "      <td>47</td>\n",
              "    </tr>\n",
              "    <tr>\n",
              "      <th>2</th>\n",
              "      <td>[{'text': '1 1/4 cups milk'}, {'text': '1 cup ...</td>\n",
              "      <td>http://allrecipes.com/recipe/skillet-corn-brea...</td>\n",
              "      <td>train</td>\n",
              "      <td>Skillet Corn Bread</td>\n",
              "      <td>587fca5893</td>\n",
              "      <td>[{'text': 'Preheat oven to 425 degrees F (220 ...</td>\n",
              "      <td>2.0</td>\n",
              "      <td>552</td>\n",
              "      <td>25</td>\n",
              "      <td>67</td>\n",
              "      <td>5</td>\n",
              "      <td>5</td>\n",
              "      <td>19</td>\n",
              "      <td>6</td>\n",
              "      <td>71</td>\n",
              "      <td>1556</td>\n",
              "      <td>13</td>\n",
              "      <td>238</td>\n",
              "      <td>150</td>\n",
              "      <td>8</td>\n",
              "      <td>84</td>\n",
              "      <td>786</td>\n",
              "      <td>324</td>\n",
              "      <td>171</td>\n",
              "    </tr>\n",
              "    <tr>\n",
              "      <th>3</th>\n",
              "      <td>[{'text': '4 fluid ounces amaretto (almond fla...</td>\n",
              "      <td>http://allrecipes.com/recipe/the-emily/</td>\n",
              "      <td>train</td>\n",
              "      <td>The Emily</td>\n",
              "      <td>5881213bc1</td>\n",
              "      <td>[{'text': 'Combine the amaretto and sweetened ...</td>\n",
              "      <td>3.0</td>\n",
              "      <td>360</td>\n",
              "      <td>23</td>\n",
              "      <td>37</td>\n",
              "      <td>4</td>\n",
              "      <td>11</td>\n",
              "      <td>12</td>\n",
              "      <td>5</td>\n",
              "      <td>44</td>\n",
              "      <td>613</td>\n",
              "      <td>8</td>\n",
              "      <td>25</td>\n",
              "      <td>223</td>\n",
              "      <td>1</td>\n",
              "      <td>35</td>\n",
              "      <td>475</td>\n",
              "      <td>737</td>\n",
              "      <td>109</td>\n",
              "    </tr>\n",
              "    <tr>\n",
              "      <th>4</th>\n",
              "      <td>[{'text': '1 pound bulk mild Italian sausage'}...</td>\n",
              "      <td>http://allrecipes.com/recipe/quick-super-delic...</td>\n",
              "      <td>train</td>\n",
              "      <td>Quick Super-Delicious Zuppa Toscana</td>\n",
              "      <td>588170fd85</td>\n",
              "      <td>[{'text': 'Cook and stir Italian sausage and r...</td>\n",
              "      <td>4.0</td>\n",
              "      <td>154</td>\n",
              "      <td>8</td>\n",
              "      <td>19</td>\n",
              "      <td>1</td>\n",
              "      <td>16</td>\n",
              "      <td>5</td>\n",
              "      <td>3</td>\n",
              "      <td>19</td>\n",
              "      <td>474</td>\n",
              "      <td>1</td>\n",
              "      <td>14</td>\n",
              "      <td>304</td>\n",
              "      <td>0</td>\n",
              "      <td>35</td>\n",
              "      <td>427</td>\n",
              "      <td>104</td>\n",
              "      <td>47</td>\n",
              "    </tr>\n",
              "  </tbody>\n",
              "</table>\n",
              "</div>"
            ],
            "text/plain": [
              "                                         ingredients  ... calories from fat\n",
              "0  [{'text': '1 pound dried red beans, soaked ove...  ...               190\n",
              "1  [{'text': '1 (14 ounce) bag green split peas, ...  ...                47\n",
              "2  [{'text': '1 1/4 cups milk'}, {'text': '1 cup ...  ...               171\n",
              "3  [{'text': '4 fluid ounces amaretto (almond fla...  ...               109\n",
              "4  [{'text': '1 pound bulk mild Italian sausage'}...  ...                47\n",
              "\n",
              "[5 rows x 24 columns]"
            ]
          },
          "metadata": {
            "tags": []
          },
          "execution_count": 3
        }
      ]
    },
    {
      "cell_type": "code",
      "metadata": {
        "id": "qR2esMkXbYfF"
      },
      "source": [
        "df_nutrients = [df[\"calories\"], df[\"carbohydrates\"], df[\"cholesterol\"], df[\"fat\"], df[\"protein\"]]\n",
        "\n",
        "df_nutrients = pd.concat(df_nutrients, axis=1)"
      ],
      "execution_count": 4,
      "outputs": []
    },
    {
      "cell_type": "code",
      "metadata": {
        "colab": {
          "base_uri": "https://localhost:8080/",
          "height": 417
        },
        "id": "aEEzEsMhbfNp",
        "outputId": "64273e71-1a69-4927-c26b-6e2e23ebc2c6"
      },
      "source": [
        "df_nutrients"
      ],
      "execution_count": 5,
      "outputs": [
        {
          "output_type": "execute_result",
          "data": {
            "text/html": [
              "<div>\n",
              "<style scoped>\n",
              "    .dataframe tbody tr th:only-of-type {\n",
              "        vertical-align: middle;\n",
              "    }\n",
              "\n",
              "    .dataframe tbody tr th {\n",
              "        vertical-align: top;\n",
              "    }\n",
              "\n",
              "    .dataframe thead th {\n",
              "        text-align: right;\n",
              "    }\n",
              "</style>\n",
              "<table border=\"1\" class=\"dataframe\">\n",
              "  <thead>\n",
              "    <tr style=\"text-align: right;\">\n",
              "      <th></th>\n",
              "      <th>calories</th>\n",
              "      <th>carbohydrates</th>\n",
              "      <th>cholesterol</th>\n",
              "      <th>fat</th>\n",
              "      <th>protein</th>\n",
              "    </tr>\n",
              "  </thead>\n",
              "  <tbody>\n",
              "    <tr>\n",
              "      <th>0</th>\n",
              "      <td>285</td>\n",
              "      <td>22</td>\n",
              "      <td>148</td>\n",
              "      <td>21</td>\n",
              "      <td>5</td>\n",
              "    </tr>\n",
              "    <tr>\n",
              "      <th>1</th>\n",
              "      <td>166</td>\n",
              "      <td>31</td>\n",
              "      <td>2</td>\n",
              "      <td>5</td>\n",
              "      <td>1</td>\n",
              "    </tr>\n",
              "    <tr>\n",
              "      <th>2</th>\n",
              "      <td>552</td>\n",
              "      <td>67</td>\n",
              "      <td>71</td>\n",
              "      <td>19</td>\n",
              "      <td>25</td>\n",
              "    </tr>\n",
              "    <tr>\n",
              "      <th>3</th>\n",
              "      <td>360</td>\n",
              "      <td>37</td>\n",
              "      <td>44</td>\n",
              "      <td>12</td>\n",
              "      <td>23</td>\n",
              "    </tr>\n",
              "    <tr>\n",
              "      <th>4</th>\n",
              "      <td>154</td>\n",
              "      <td>19</td>\n",
              "      <td>19</td>\n",
              "      <td>5</td>\n",
              "      <td>8</td>\n",
              "    </tr>\n",
              "    <tr>\n",
              "      <th>...</th>\n",
              "      <td>...</td>\n",
              "      <td>...</td>\n",
              "      <td>...</td>\n",
              "      <td>...</td>\n",
              "      <td>...</td>\n",
              "    </tr>\n",
              "    <tr>\n",
              "      <th>963</th>\n",
              "      <td>159</td>\n",
              "      <td>13</td>\n",
              "      <td>110</td>\n",
              "      <td>9</td>\n",
              "      <td>5</td>\n",
              "    </tr>\n",
              "    <tr>\n",
              "      <th>964</th>\n",
              "      <td>270</td>\n",
              "      <td>30</td>\n",
              "      <td>25</td>\n",
              "      <td>11</td>\n",
              "      <td>12</td>\n",
              "    </tr>\n",
              "    <tr>\n",
              "      <th>965</th>\n",
              "      <td>139</td>\n",
              "      <td>16</td>\n",
              "      <td>34</td>\n",
              "      <td>6</td>\n",
              "      <td>4</td>\n",
              "    </tr>\n",
              "    <tr>\n",
              "      <th>966</th>\n",
              "      <td>108</td>\n",
              "      <td>13</td>\n",
              "      <td>35</td>\n",
              "      <td>2</td>\n",
              "      <td>7</td>\n",
              "    </tr>\n",
              "    <tr>\n",
              "      <th>967</th>\n",
              "      <td>338</td>\n",
              "      <td>33</td>\n",
              "      <td>50</td>\n",
              "      <td>8</td>\n",
              "      <td>29</td>\n",
              "    </tr>\n",
              "  </tbody>\n",
              "</table>\n",
              "<p>968 rows × 5 columns</p>\n",
              "</div>"
            ],
            "text/plain": [
              "     calories  carbohydrates  cholesterol  fat  protein\n",
              "0         285             22          148   21        5\n",
              "1         166             31            2    5        1\n",
              "2         552             67           71   19       25\n",
              "3         360             37           44   12       23\n",
              "4         154             19           19    5        8\n",
              "..        ...            ...          ...  ...      ...\n",
              "963       159             13          110    9        5\n",
              "964       270             30           25   11       12\n",
              "965       139             16           34    6        4\n",
              "966       108             13           35    2        7\n",
              "967       338             33           50    8       29\n",
              "\n",
              "[968 rows x 5 columns]"
            ]
          },
          "metadata": {
            "tags": []
          },
          "execution_count": 5
        }
      ]
    },
    {
      "cell_type": "code",
      "metadata": {
        "id": "WtEnFC0ibjRQ"
      },
      "source": [
        "#MinMaxScaling to dataset\n",
        "\n",
        "sc_X = MinMaxScaler()\n",
        "df_reduced =  pd.DataFrame((sc_X.fit_transform(df_nutrients)), columns=['calories', 'carbohydrates', 'cholesterol', 'fat', 'protein'])"
      ],
      "execution_count": 6,
      "outputs": []
    },
    {
      "cell_type": "code",
      "metadata": {
        "colab": {
          "base_uri": "https://localhost:8080/",
          "height": 417
        },
        "id": "EtOd3lPhckMr",
        "outputId": "7fb77bcc-358b-4cf2-f8b0-4f8266f6cde7"
      },
      "source": [
        "df_reduced"
      ],
      "execution_count": 7,
      "outputs": [
        {
          "output_type": "execute_result",
          "data": {
            "text/html": [
              "<div>\n",
              "<style scoped>\n",
              "    .dataframe tbody tr th:only-of-type {\n",
              "        vertical-align: middle;\n",
              "    }\n",
              "\n",
              "    .dataframe tbody tr th {\n",
              "        vertical-align: top;\n",
              "    }\n",
              "\n",
              "    .dataframe thead th {\n",
              "        text-align: right;\n",
              "    }\n",
              "</style>\n",
              "<table border=\"1\" class=\"dataframe\">\n",
              "  <thead>\n",
              "    <tr style=\"text-align: right;\">\n",
              "      <th></th>\n",
              "      <th>calories</th>\n",
              "      <th>carbohydrates</th>\n",
              "      <th>cholesterol</th>\n",
              "      <th>fat</th>\n",
              "      <th>protein</th>\n",
              "    </tr>\n",
              "  </thead>\n",
              "  <tbody>\n",
              "    <tr>\n",
              "      <th>0</th>\n",
              "      <td>0.140737</td>\n",
              "      <td>0.045455</td>\n",
              "      <td>0.209929</td>\n",
              "      <td>0.146853</td>\n",
              "      <td>0.042735</td>\n",
              "    </tr>\n",
              "    <tr>\n",
              "      <th>1</th>\n",
              "      <td>0.079836</td>\n",
              "      <td>0.064050</td>\n",
              "      <td>0.002837</td>\n",
              "      <td>0.034965</td>\n",
              "      <td>0.008547</td>\n",
              "    </tr>\n",
              "    <tr>\n",
              "      <th>2</th>\n",
              "      <td>0.277380</td>\n",
              "      <td>0.138430</td>\n",
              "      <td>0.100709</td>\n",
              "      <td>0.132867</td>\n",
              "      <td>0.213675</td>\n",
              "    </tr>\n",
              "    <tr>\n",
              "      <th>3</th>\n",
              "      <td>0.179120</td>\n",
              "      <td>0.076446</td>\n",
              "      <td>0.062411</td>\n",
              "      <td>0.083916</td>\n",
              "      <td>0.196581</td>\n",
              "    </tr>\n",
              "    <tr>\n",
              "      <th>4</th>\n",
              "      <td>0.073695</td>\n",
              "      <td>0.039256</td>\n",
              "      <td>0.026950</td>\n",
              "      <td>0.034965</td>\n",
              "      <td>0.068376</td>\n",
              "    </tr>\n",
              "    <tr>\n",
              "      <th>...</th>\n",
              "      <td>...</td>\n",
              "      <td>...</td>\n",
              "      <td>...</td>\n",
              "      <td>...</td>\n",
              "      <td>...</td>\n",
              "    </tr>\n",
              "    <tr>\n",
              "      <th>963</th>\n",
              "      <td>0.076254</td>\n",
              "      <td>0.026860</td>\n",
              "      <td>0.156028</td>\n",
              "      <td>0.062937</td>\n",
              "      <td>0.042735</td>\n",
              "    </tr>\n",
              "    <tr>\n",
              "      <th>964</th>\n",
              "      <td>0.133060</td>\n",
              "      <td>0.061983</td>\n",
              "      <td>0.035461</td>\n",
              "      <td>0.076923</td>\n",
              "      <td>0.102564</td>\n",
              "    </tr>\n",
              "    <tr>\n",
              "      <th>965</th>\n",
              "      <td>0.066018</td>\n",
              "      <td>0.033058</td>\n",
              "      <td>0.048227</td>\n",
              "      <td>0.041958</td>\n",
              "      <td>0.034188</td>\n",
              "    </tr>\n",
              "    <tr>\n",
              "      <th>966</th>\n",
              "      <td>0.050154</td>\n",
              "      <td>0.026860</td>\n",
              "      <td>0.049645</td>\n",
              "      <td>0.013986</td>\n",
              "      <td>0.059829</td>\n",
              "    </tr>\n",
              "    <tr>\n",
              "      <th>967</th>\n",
              "      <td>0.167861</td>\n",
              "      <td>0.068182</td>\n",
              "      <td>0.070922</td>\n",
              "      <td>0.055944</td>\n",
              "      <td>0.247863</td>\n",
              "    </tr>\n",
              "  </tbody>\n",
              "</table>\n",
              "<p>968 rows × 5 columns</p>\n",
              "</div>"
            ],
            "text/plain": [
              "     calories  carbohydrates  cholesterol       fat   protein\n",
              "0    0.140737       0.045455     0.209929  0.146853  0.042735\n",
              "1    0.079836       0.064050     0.002837  0.034965  0.008547\n",
              "2    0.277380       0.138430     0.100709  0.132867  0.213675\n",
              "3    0.179120       0.076446     0.062411  0.083916  0.196581\n",
              "4    0.073695       0.039256     0.026950  0.034965  0.068376\n",
              "..        ...            ...          ...       ...       ...\n",
              "963  0.076254       0.026860     0.156028  0.062937  0.042735\n",
              "964  0.133060       0.061983     0.035461  0.076923  0.102564\n",
              "965  0.066018       0.033058     0.048227  0.041958  0.034188\n",
              "966  0.050154       0.026860     0.049645  0.013986  0.059829\n",
              "967  0.167861       0.068182     0.070922  0.055944  0.247863\n",
              "\n",
              "[968 rows x 5 columns]"
            ]
          },
          "metadata": {
            "tags": []
          },
          "execution_count": 7
        }
      ]
    },
    {
      "cell_type": "code",
      "metadata": {
        "id": "2r0sB95e6Db8"
      },
      "source": [
        "#splitting the dataset and then on X_test we will perform k-means and on X_train we will do autoencoder\n",
        "\n",
        "X = df_reduced.iloc[:, :4]\n",
        "Y = df_reduced.iloc[:,4]\n",
        "# Split data set in train and test data\n",
        "X_train, X_test, Y_train, Y_test = train_test_split(X, Y, test_size=0.5, random_state=1)\n"
      ],
      "execution_count": 8,
      "outputs": []
    },
    {
      "cell_type": "code",
      "metadata": {
        "id": "sP-CcszDAS6h",
        "colab": {
          "base_uri": "https://localhost:8080/"
        },
        "outputId": "8d227aee-f777-4cf6-a478-d1dc1a5e7e1d"
      },
      "source": [
        "X_test_demo = X_test.copy(deep=True)\n",
        "X_test_demo.shape"
      ],
      "execution_count": 9,
      "outputs": [
        {
          "output_type": "execute_result",
          "data": {
            "text/plain": [
              "(484, 4)"
            ]
          },
          "metadata": {
            "tags": []
          },
          "execution_count": 9
        }
      ]
    },
    {
      "cell_type": "code",
      "metadata": {
        "colab": {
          "base_uri": "https://localhost:8080/"
        },
        "id": "4PAAWSu2_kp8",
        "outputId": "584dff88-1253-4868-c686-239f5dbc7462"
      },
      "source": [
        "#performing k-means on the X_test data\n",
        "\n",
        "from sklearn.cluster import KMeans\n",
        "clustering_kmeans = KMeans(n_clusters=4, precompute_distances=\"auto\", n_jobs=-1)\n",
        "X_test['clusters']= clustering_kmeans.fit_predict(X_test)"
      ],
      "execution_count": 10,
      "outputs": [
        {
          "output_type": "stream",
          "text": [
            "/usr/local/lib/python3.7/dist-packages/ipykernel_launcher.py:5: SettingWithCopyWarning: \n",
            "A value is trying to be set on a copy of a slice from a DataFrame.\n",
            "Try using .loc[row_indexer,col_indexer] = value instead\n",
            "\n",
            "See the caveats in the documentation: https://pandas.pydata.org/pandas-docs/stable/user_guide/indexing.html#returning-a-view-versus-a-copy\n",
            "  \"\"\"\n"
          ],
          "name": "stderr"
        }
      ]
    },
    {
      "cell_type": "code",
      "metadata": {
        "colab": {
          "base_uri": "https://localhost:8080/",
          "height": 203
        },
        "id": "7KkUD4vBAtEp",
        "outputId": "e3324a21-8aaf-4529-8623-820075cda501"
      },
      "source": [
        "X_test.head()"
      ],
      "execution_count": 11,
      "outputs": [
        {
          "output_type": "execute_result",
          "data": {
            "text/html": [
              "<div>\n",
              "<style scoped>\n",
              "    .dataframe tbody tr th:only-of-type {\n",
              "        vertical-align: middle;\n",
              "    }\n",
              "\n",
              "    .dataframe tbody tr th {\n",
              "        vertical-align: top;\n",
              "    }\n",
              "\n",
              "    .dataframe thead th {\n",
              "        text-align: right;\n",
              "    }\n",
              "</style>\n",
              "<table border=\"1\" class=\"dataframe\">\n",
              "  <thead>\n",
              "    <tr style=\"text-align: right;\">\n",
              "      <th></th>\n",
              "      <th>calories</th>\n",
              "      <th>carbohydrates</th>\n",
              "      <th>cholesterol</th>\n",
              "      <th>fat</th>\n",
              "      <th>clusters</th>\n",
              "    </tr>\n",
              "  </thead>\n",
              "  <tbody>\n",
              "    <tr>\n",
              "      <th>773</th>\n",
              "      <td>0.184749</td>\n",
              "      <td>0.109504</td>\n",
              "      <td>0.000000</td>\n",
              "      <td>0.111888</td>\n",
              "      <td>1</td>\n",
              "    </tr>\n",
              "    <tr>\n",
              "      <th>877</th>\n",
              "      <td>0.302456</td>\n",
              "      <td>0.128099</td>\n",
              "      <td>0.119149</td>\n",
              "      <td>0.174825</td>\n",
              "      <td>3</td>\n",
              "    </tr>\n",
              "    <tr>\n",
              "      <th>301</th>\n",
              "      <td>0.101842</td>\n",
              "      <td>0.000000</td>\n",
              "      <td>0.117730</td>\n",
              "      <td>0.055944</td>\n",
              "      <td>0</td>\n",
              "    </tr>\n",
              "    <tr>\n",
              "      <th>238</th>\n",
              "      <td>0.119754</td>\n",
              "      <td>0.004132</td>\n",
              "      <td>0.107801</td>\n",
              "      <td>0.076923</td>\n",
              "      <td>0</td>\n",
              "    </tr>\n",
              "    <tr>\n",
              "      <th>255</th>\n",
              "      <td>0.015865</td>\n",
              "      <td>0.002066</td>\n",
              "      <td>0.012766</td>\n",
              "      <td>0.020979</td>\n",
              "      <td>0</td>\n",
              "    </tr>\n",
              "  </tbody>\n",
              "</table>\n",
              "</div>"
            ],
            "text/plain": [
              "     calories  carbohydrates  cholesterol       fat  clusters\n",
              "773  0.184749       0.109504     0.000000  0.111888         1\n",
              "877  0.302456       0.128099     0.119149  0.174825         3\n",
              "301  0.101842       0.000000     0.117730  0.055944         0\n",
              "238  0.119754       0.004132     0.107801  0.076923         0\n",
              "255  0.015865       0.002066     0.012766  0.020979         0"
            ]
          },
          "metadata": {
            "tags": []
          },
          "execution_count": 11
        }
      ]
    },
    {
      "cell_type": "code",
      "metadata": {
        "colab": {
          "base_uri": "https://localhost:8080/"
        },
        "id": "V0dkDL1cBgoM",
        "outputId": "253e048f-b236-486d-f321-51e454301b59"
      },
      "source": [
        "print(X_test_demo.shape)\n",
        "print(X_test.shape)"
      ],
      "execution_count": 12,
      "outputs": [
        {
          "output_type": "stream",
          "text": [
            "(484, 4)\n",
            "(484, 5)\n"
          ],
          "name": "stdout"
        }
      ]
    },
    {
      "cell_type": "code",
      "metadata": {
        "id": "ea2QI5yBAvPg",
        "colab": {
          "base_uri": "https://localhost:8080/"
        },
        "outputId": "33ebf85c-e85a-4c51-e53e-ec7b2fa5e27d"
      },
      "source": [
        "X_test.clusters.value_counts()"
      ],
      "execution_count": 13,
      "outputs": [
        {
          "output_type": "execute_result",
          "data": {
            "text/plain": [
              "0    235\n",
              "1    168\n",
              "3     70\n",
              "2     11\n",
              "Name: clusters, dtype: int64"
            ]
          },
          "metadata": {
            "tags": []
          },
          "execution_count": 13
        }
      ]
    },
    {
      "cell_type": "code",
      "metadata": {
        "colab": {
          "base_uri": "https://localhost:8080/",
          "height": 295
        },
        "id": "dTKqLEKMBwkV",
        "outputId": "7f55327c-ea96-417e-8328-9791a4a9ab34"
      },
      "source": [
        "#just to visualize after k-means on X_test\n",
        "\n",
        "reduced_data = PCA(n_components=2).fit_transform(X_test)\n",
        "results = pd.DataFrame(reduced_data,columns=['pca1','pca2'])\n",
        "\n",
        "sns.scatterplot(x=\"pca1\", y=\"pca2\", data=results)\n",
        "plt.title('K-means Clustering with 2 dimensions')\n",
        "plt.show()"
      ],
      "execution_count": 14,
      "outputs": [
        {
          "output_type": "display_data",
          "data": {
            "image/png": "[encoded data removed]",
            "text/plain": [
              "<Figure size 432x288 with 1 Axes>"
            ]
          },
          "metadata": {
            "tags": [],
            "needs_background": "light"
          }
        }
      ]
    },
    {
      "cell_type": "code",
      "metadata": {
        "colab": {
          "base_uri": "https://localhost:8080/",
          "height": 119
        },
        "id": "hW9ZBL_kEVp7",
        "outputId": "956e1fdf-afdd-4a15-cb15-7303748b66c9"
      },
      "source": [
        "'''class AutoEncoder(Model):\n",
        "  def __init__(self):\n",
        "    super(AutoEncoder, self).__init__()\n",
        "    self.encoder = tf.keras.Sequential([tf.keras.layers.Dense(64, activation = \"relu\"),\n",
        "      tf.keras.layers.Dense(32, activation = \"relu\"),\n",
        "      tf.keras.layers.Dense(16, activation = \"relu\"),\n",
        "      tf.keras.layers.Dense(8, activation = \"relu\")])\n",
        "    \n",
        "\n",
        "    self.decoder = tf.keras.Sequential([tf.keras.layers.Dense(16, activation = \"relu\"),\n",
        "      tf.keras.layers.Dense(32, activation = \"relu\"),\n",
        "      tf.keras.layers.Dense(64, activation = \"relu\"),\n",
        "      tf.keras.layers.Dense(5, activation = \"sigmoid\")]) \n",
        "\n",
        "  def call(self, x):\n",
        "    encoded = self.encoder(x)\n",
        "    decoded = self.decoder(encoded)    \n",
        "    return encoded\n",
        "\n",
        "'''"
      ],
      "execution_count": 15,
      "outputs": [
        {
          "output_type": "execute_result",
          "data": {
            "application/vnd.google.colaboratory.intrinsic+json": {
              "type": "string"
            },
            "text/plain": [
              "'class AutoEncoder(Model):\\n  def __init__(self):\\n    super(AutoEncoder, self).__init__()\\n    self.encoder = tf.keras.Sequential([tf.keras.layers.Dense(64, activation = \"relu\"),\\n      tf.keras.layers.Dense(32, activation = \"relu\"),\\n      tf.keras.layers.Dense(16, activation = \"relu\"),\\n      tf.keras.layers.Dense(8, activation = \"relu\")])\\n    \\n\\n    self.decoder = tf.keras.Sequential([tf.keras.layers.Dense(16, activation = \"relu\"),\\n      tf.keras.layers.Dense(32, activation = \"relu\"),\\n      tf.keras.layers.Dense(64, activation = \"relu\"),\\n      tf.keras.layers.Dense(5, activation = \"sigmoid\")]) \\n\\n  def call(self, x):\\n    encoded = self.encoder(x)\\n    decoded = self.decoder(encoded)    \\n    return encoded\\n\\n'"
            ]
          },
          "metadata": {
            "tags": []
          },
          "execution_count": 15
        }
      ]
    },
    {
      "cell_type": "code",
      "metadata": {
        "colab": {
          "base_uri": "https://localhost:8080/"
        },
        "id": "JUDOqsFZHLrK",
        "outputId": "7f64c08a-7c56-4272-d0d6-2dd2e3eb0a2c"
      },
      "source": [
        "#performing AutoEncoder on X_train\n",
        "\n",
        "\n",
        "# Input information\n",
        "col_num = X_train.shape[1]\n",
        "input_dim = Input(shape=(col_num,))\n",
        "\n",
        "# Encoding information\n",
        "\n",
        "encoded = Dense(64, activation='sigmoid')(input_dim)\n",
        "encoded = Dense(32, activation='sigmoid')(encoded)\n",
        "encoded = Dense(16, activation='sigmoid')(encoded)\n",
        "encoded = Dense(8, activation='sigmoid')(encoded)\n",
        "encoded = Dense(4, activation='sigmoid')(encoded)\n",
        "encoded = Dense(2, activation='sigmoid')(encoded)\n",
        "\n",
        "# Decoding information\n",
        "\n",
        "decoded = Dense(4, activation='sigmoid')(encoded)\n",
        "decoded = Dense(8, activation='sigmoid')(decoded)\n",
        "decoded = Dense(16, activation='sigmoid')(decoded)\n",
        "decoded = Dense(32, activation='sigmoid')(decoded)\n",
        "decoded = Dense(64, activation='sigmoid')(decoded)\n",
        "decoded = Dense(4, activation='sigmoid')(decoded)\n",
        "\n",
        "# Autoencoder information (encoder + decoder)\n",
        "\n",
        "autoencoder = Model(input_dim, decoded)\n",
        "\n",
        "# Train the autoencoder\n",
        "\n",
        "autoencoder.compile(optimizer='adam', loss='mean_squared_error')\n",
        "autoencoder.fit(X_train, X_train, epochs=150, batch_size=100, shuffle=True )\n",
        "\n",
        "\n"
      ],
      "execution_count": 16,
      "outputs": [
        {
          "output_type": "stream",
          "text": [
            "Epoch 1/150\n",
            "5/5 [==============================] - 11s 4ms/step - loss: 0.1643\n",
            "Epoch 2/150\n",
            "5/5 [==============================] - 0s 3ms/step - loss: 0.1174\n",
            "Epoch 3/150\n",
            "5/5 [==============================] - 0s 3ms/step - loss: 0.0852\n",
            "Epoch 4/150\n",
            "5/5 [==============================] - 0s 3ms/step - loss: 0.0550\n",
            "Epoch 5/150\n",
            "5/5 [==============================] - 0s 3ms/step - loss: 0.0377\n",
            "Epoch 6/150\n",
            "5/5 [==============================] - 0s 3ms/step - loss: 0.0269\n",
            "Epoch 7/150\n",
            "5/5 [==============================] - 0s 3ms/step - loss: 0.0197\n",
            "Epoch 8/150\n",
            "5/5 [==============================] - 0s 3ms/step - loss: 0.0144\n",
            "Epoch 9/150\n",
            "5/5 [==============================] - 0s 3ms/step - loss: 0.0125\n",
            "Epoch 10/150\n",
            "5/5 [==============================] - 0s 3ms/step - loss: 0.0112\n",
            "Epoch 11/150\n",
            "5/5 [==============================] - 0s 3ms/step - loss: 0.0096\n",
            "Epoch 12/150\n",
            "5/5 [==============================] - 0s 3ms/step - loss: 0.0091\n",
            "Epoch 13/150\n",
            "5/5 [==============================] - 0s 3ms/step - loss: 0.0087\n",
            "Epoch 14/150\n",
            "5/5 [==============================] - 0s 3ms/step - loss: 0.0094\n",
            "Epoch 15/150\n",
            "5/5 [==============================] - 0s 3ms/step - loss: 0.0096\n",
            "Epoch 16/150\n",
            "5/5 [==============================] - 0s 3ms/step - loss: 0.0093\n",
            "Epoch 17/150\n",
            "5/5 [==============================] - 0s 3ms/step - loss: 0.0086\n",
            "Epoch 18/150\n",
            "5/5 [==============================] - 0s 3ms/step - loss: 0.0086\n",
            "Epoch 19/150\n",
            "5/5 [==============================] - 0s 3ms/step - loss: 0.0079\n",
            "Epoch 20/150\n",
            "5/5 [==============================] - 0s 3ms/step - loss: 0.0088\n",
            "Epoch 21/150\n",
            "5/5 [==============================] - 0s 5ms/step - loss: 0.0082\n",
            "Epoch 22/150\n",
            "5/5 [==============================] - 0s 3ms/step - loss: 0.0074\n",
            "Epoch 23/150\n",
            "5/5 [==============================] - 0s 3ms/step - loss: 0.0095\n",
            "Epoch 24/150\n",
            "5/5 [==============================] - 0s 3ms/step - loss: 0.0077\n",
            "Epoch 25/150\n",
            "5/5 [==============================] - 0s 3ms/step - loss: 0.0078\n",
            "Epoch 26/150\n",
            "5/5 [==============================] - 0s 4ms/step - loss: 0.0084\n",
            "Epoch 27/150\n",
            "5/5 [==============================] - 0s 3ms/step - loss: 0.0080\n",
            "Epoch 28/150\n",
            "5/5 [==============================] - 0s 4ms/step - loss: 0.0097\n",
            "Epoch 29/150\n",
            "5/5 [==============================] - 0s 5ms/step - loss: 0.0084\n",
            "Epoch 30/150\n",
            "5/5 [==============================] - 0s 3ms/step - loss: 0.0087\n",
            "Epoch 31/150\n",
            "5/5 [==============================] - 0s 3ms/step - loss: 0.0090\n",
            "Epoch 32/150\n",
            "5/5 [==============================] - 0s 3ms/step - loss: 0.0087\n",
            "Epoch 33/150\n",
            "5/5 [==============================] - 0s 3ms/step - loss: 0.0084\n",
            "Epoch 34/150\n",
            "5/5 [==============================] - 0s 3ms/step - loss: 0.0080\n",
            "Epoch 35/150\n",
            "5/5 [==============================] - 0s 3ms/step - loss: 0.0087\n",
            "Epoch 36/150\n",
            "5/5 [==============================] - 0s 3ms/step - loss: 0.0083\n",
            "Epoch 37/150\n",
            "5/5 [==============================] - 0s 4ms/step - loss: 0.0087\n",
            "Epoch 38/150\n",
            "5/5 [==============================] - 0s 4ms/step - loss: 0.0079\n",
            "Epoch 39/150\n",
            "5/5 [==============================] - 0s 4ms/step - loss: 0.0091\n",
            "Epoch 40/150\n",
            "5/5 [==============================] - 0s 3ms/step - loss: 0.0095\n",
            "Epoch 41/150\n",
            "5/5 [==============================] - 0s 4ms/step - loss: 0.0072\n",
            "Epoch 42/150\n",
            "5/5 [==============================] - 0s 3ms/step - loss: 0.0084\n",
            "Epoch 43/150\n",
            "5/5 [==============================] - 0s 3ms/step - loss: 0.0091\n",
            "Epoch 44/150\n",
            "5/5 [==============================] - 0s 3ms/step - loss: 0.0079\n",
            "Epoch 45/150\n",
            "5/5 [==============================] - 0s 3ms/step - loss: 0.0087\n",
            "Epoch 46/150\n",
            "5/5 [==============================] - 0s 3ms/step - loss: 0.0086\n",
            "Epoch 47/150\n",
            "5/5 [==============================] - 0s 3ms/step - loss: 0.0085\n",
            "Epoch 48/150\n",
            "5/5 [==============================] - 0s 3ms/step - loss: 0.0085\n",
            "Epoch 49/150\n",
            "5/5 [==============================] - 0s 3ms/step - loss: 0.0081\n",
            "Epoch 50/150\n",
            "5/5 [==============================] - 0s 3ms/step - loss: 0.0075\n",
            "Epoch 51/150\n",
            "5/5 [==============================] - 0s 4ms/step - loss: 0.0089\n",
            "Epoch 52/150\n",
            "5/5 [==============================] - 0s 3ms/step - loss: 0.0083\n",
            "Epoch 53/150\n",
            "5/5 [==============================] - 0s 4ms/step - loss: 0.0086\n",
            "Epoch 54/150\n",
            "5/5 [==============================] - 0s 3ms/step - loss: 0.0091\n",
            "Epoch 55/150\n",
            "5/5 [==============================] - 0s 3ms/step - loss: 0.0078\n",
            "Epoch 56/150\n",
            "5/5 [==============================] - 0s 6ms/step - loss: 0.0071\n",
            "Epoch 57/150\n",
            "5/5 [==============================] - 0s 4ms/step - loss: 0.0076\n",
            "Epoch 58/150\n",
            "5/5 [==============================] - 0s 3ms/step - loss: 0.0082\n",
            "Epoch 59/150\n",
            "5/5 [==============================] - 0s 3ms/step - loss: 0.0095\n",
            "Epoch 60/150\n",
            "5/5 [==============================] - 0s 3ms/step - loss: 0.0082\n",
            "Epoch 61/150\n",
            "5/5 [==============================] - 0s 3ms/step - loss: 0.0078\n",
            "Epoch 62/150\n",
            "5/5 [==============================] - 0s 3ms/step - loss: 0.0080\n",
            "Epoch 63/150\n",
            "5/5 [==============================] - 0s 3ms/step - loss: 0.0094\n",
            "Epoch 64/150\n",
            "5/5 [==============================] - 0s 3ms/step - loss: 0.0087\n",
            "Epoch 65/150\n",
            "5/5 [==============================] - 0s 3ms/step - loss: 0.0083\n",
            "Epoch 66/150\n",
            "5/5 [==============================] - 0s 3ms/step - loss: 0.0092\n",
            "Epoch 67/150\n",
            "5/5 [==============================] - 0s 3ms/step - loss: 0.0073\n",
            "Epoch 68/150\n",
            "5/5 [==============================] - 0s 3ms/step - loss: 0.0083\n",
            "Epoch 69/150\n",
            "5/5 [==============================] - 0s 3ms/step - loss: 0.0080\n",
            "Epoch 70/150\n",
            "5/5 [==============================] - 0s 3ms/step - loss: 0.0089\n",
            "Epoch 71/150\n",
            "5/5 [==============================] - 0s 3ms/step - loss: 0.0097\n",
            "Epoch 72/150\n",
            "5/5 [==============================] - 0s 4ms/step - loss: 0.0078\n",
            "Epoch 73/150\n",
            "5/5 [==============================] - 0s 4ms/step - loss: 0.0083\n",
            "Epoch 74/150\n",
            "5/5 [==============================] - 0s 3ms/step - loss: 0.0085\n",
            "Epoch 75/150\n",
            "5/5 [==============================] - 0s 4ms/step - loss: 0.0080\n",
            "Epoch 76/150\n",
            "5/5 [==============================] - 0s 4ms/step - loss: 0.0086\n",
            "Epoch 77/150\n",
            "5/5 [==============================] - 0s 3ms/step - loss: 0.0084\n",
            "Epoch 78/150\n",
            "5/5 [==============================] - 0s 3ms/step - loss: 0.0081\n",
            "Epoch 79/150\n",
            "5/5 [==============================] - 0s 3ms/step - loss: 0.0083\n",
            "Epoch 80/150\n",
            "5/5 [==============================] - 0s 3ms/step - loss: 0.0086\n",
            "Epoch 81/150\n",
            "5/5 [==============================] - 0s 3ms/step - loss: 0.0078\n",
            "Epoch 82/150\n",
            "5/5 [==============================] - 0s 3ms/step - loss: 0.0083\n",
            "Epoch 83/150\n",
            "5/5 [==============================] - 0s 4ms/step - loss: 0.0087\n",
            "Epoch 84/150\n",
            "5/5 [==============================] - 0s 4ms/step - loss: 0.0088\n",
            "Epoch 85/150\n",
            "5/5 [==============================] - 0s 4ms/step - loss: 0.0088\n",
            "Epoch 86/150\n",
            "5/5 [==============================] - 0s 4ms/step - loss: 0.0092\n",
            "Epoch 87/150\n",
            "5/5 [==============================] - 0s 5ms/step - loss: 0.0098\n",
            "Epoch 88/150\n",
            "5/5 [==============================] - 0s 4ms/step - loss: 0.0079\n",
            "Epoch 89/150\n",
            "5/5 [==============================] - 0s 4ms/step - loss: 0.0087\n",
            "Epoch 90/150\n",
            "5/5 [==============================] - 0s 3ms/step - loss: 0.0080\n",
            "Epoch 91/150\n",
            "5/5 [==============================] - 0s 4ms/step - loss: 0.0085\n",
            "Epoch 92/150\n",
            "5/5 [==============================] - 0s 3ms/step - loss: 0.0084\n",
            "Epoch 93/150\n",
            "5/5 [==============================] - 0s 3ms/step - loss: 0.0076\n",
            "Epoch 94/150\n",
            "5/5 [==============================] - 0s 3ms/step - loss: 0.0088\n",
            "Epoch 95/150\n",
            "5/5 [==============================] - 0s 4ms/step - loss: 0.0086\n",
            "Epoch 96/150\n",
            "5/5 [==============================] - 0s 3ms/step - loss: 0.0092\n",
            "Epoch 97/150\n",
            "5/5 [==============================] - 0s 4ms/step - loss: 0.0094\n",
            "Epoch 98/150\n",
            "5/5 [==============================] - 0s 3ms/step - loss: 0.0077\n",
            "Epoch 99/150\n",
            "5/5 [==============================] - 0s 4ms/step - loss: 0.0081\n",
            "Epoch 100/150\n",
            "5/5 [==============================] - 0s 4ms/step - loss: 0.0075\n",
            "Epoch 101/150\n",
            "5/5 [==============================] - 0s 4ms/step - loss: 0.0079\n",
            "Epoch 102/150\n",
            "5/5 [==============================] - 0s 3ms/step - loss: 0.0079\n",
            "Epoch 103/150\n",
            "5/5 [==============================] - 0s 3ms/step - loss: 0.0085\n",
            "Epoch 104/150\n",
            "5/5 [==============================] - 0s 3ms/step - loss: 0.0089\n",
            "Epoch 105/150\n",
            "5/5 [==============================] - 0s 3ms/step - loss: 0.0089\n",
            "Epoch 106/150\n",
            "5/5 [==============================] - 0s 4ms/step - loss: 0.0081\n",
            "Epoch 107/150\n",
            "5/5 [==============================] - 0s 4ms/step - loss: 0.0085\n",
            "Epoch 108/150\n",
            "5/5 [==============================] - 0s 3ms/step - loss: 0.0084\n",
            "Epoch 109/150\n",
            "5/5 [==============================] - 0s 3ms/step - loss: 0.0086\n",
            "Epoch 110/150\n",
            "5/5 [==============================] - 0s 3ms/step - loss: 0.0091\n",
            "Epoch 111/150\n",
            "5/5 [==============================] - 0s 4ms/step - loss: 0.0085\n",
            "Epoch 112/150\n",
            "5/5 [==============================] - 0s 5ms/step - loss: 0.0094\n",
            "Epoch 113/150\n",
            "5/5 [==============================] - 0s 4ms/step - loss: 0.0096\n",
            "Epoch 114/150\n",
            "5/5 [==============================] - 0s 4ms/step - loss: 0.0092\n",
            "Epoch 115/150\n",
            "5/5 [==============================] - 0s 4ms/step - loss: 0.0089\n",
            "Epoch 116/150\n",
            "5/5 [==============================] - 0s 3ms/step - loss: 0.0089\n",
            "Epoch 117/150\n",
            "5/5 [==============================] - 0s 3ms/step - loss: 0.0079\n",
            "Epoch 118/150\n",
            "5/5 [==============================] - 0s 4ms/step - loss: 0.0079\n",
            "Epoch 119/150\n",
            "5/5 [==============================] - 0s 4ms/step - loss: 0.0088\n",
            "Epoch 120/150\n",
            "5/5 [==============================] - 0s 5ms/step - loss: 0.0093\n",
            "Epoch 121/150\n",
            "5/5 [==============================] - 0s 3ms/step - loss: 0.0092\n",
            "Epoch 122/150\n",
            "5/5 [==============================] - 0s 3ms/step - loss: 0.0078\n",
            "Epoch 123/150\n",
            "5/5 [==============================] - 0s 3ms/step - loss: 0.0083\n",
            "Epoch 124/150\n",
            "5/5 [==============================] - 0s 3ms/step - loss: 0.0083\n",
            "Epoch 125/150\n",
            "5/5 [==============================] - 0s 3ms/step - loss: 0.0090\n",
            "Epoch 126/150\n",
            "5/5 [==============================] - 0s 3ms/step - loss: 0.0081\n",
            "Epoch 127/150\n",
            "5/5 [==============================] - 0s 3ms/step - loss: 0.0078\n",
            "Epoch 128/150\n",
            "5/5 [==============================] - 0s 4ms/step - loss: 0.0091\n",
            "Epoch 129/150\n",
            "5/5 [==============================] - 0s 4ms/step - loss: 0.0089\n",
            "Epoch 130/150\n",
            "5/5 [==============================] - 0s 3ms/step - loss: 0.0080\n",
            "Epoch 131/150\n",
            "5/5 [==============================] - 0s 3ms/step - loss: 0.0094\n",
            "Epoch 132/150\n",
            "5/5 [==============================] - 0s 4ms/step - loss: 0.0074\n",
            "Epoch 133/150\n",
            "5/5 [==============================] - 0s 4ms/step - loss: 0.0073\n",
            "Epoch 134/150\n",
            "5/5 [==============================] - 0s 4ms/step - loss: 0.0083\n",
            "Epoch 135/150\n",
            "5/5 [==============================] - 0s 4ms/step - loss: 0.0078\n",
            "Epoch 136/150\n",
            "5/5 [==============================] - 0s 3ms/step - loss: 0.0092\n",
            "Epoch 137/150\n",
            "5/5 [==============================] - 0s 3ms/step - loss: 0.0081\n",
            "Epoch 138/150\n",
            "5/5 [==============================] - 0s 5ms/step - loss: 0.0079\n",
            "Epoch 139/150\n",
            "5/5 [==============================] - 0s 4ms/step - loss: 0.0087\n",
            "Epoch 140/150\n",
            "5/5 [==============================] - 0s 4ms/step - loss: 0.0089\n",
            "Epoch 141/150\n",
            "5/5 [==============================] - 0s 3ms/step - loss: 0.0089\n",
            "Epoch 142/150\n",
            "5/5 [==============================] - 0s 3ms/step - loss: 0.0081\n",
            "Epoch 143/150\n",
            "5/5 [==============================] - 0s 5ms/step - loss: 0.0091\n",
            "Epoch 144/150\n",
            "5/5 [==============================] - 0s 3ms/step - loss: 0.0088\n",
            "Epoch 145/150\n",
            "5/5 [==============================] - 0s 3ms/step - loss: 0.0085\n",
            "Epoch 146/150\n",
            "5/5 [==============================] - 0s 4ms/step - loss: 0.0090\n",
            "Epoch 147/150\n",
            "5/5 [==============================] - 0s 3ms/step - loss: 0.0081\n",
            "Epoch 148/150\n",
            "5/5 [==============================] - 0s 3ms/step - loss: 0.0086\n",
            "Epoch 149/150\n",
            "5/5 [==============================] - 0s 3ms/step - loss: 0.0088\n",
            "Epoch 150/150\n",
            "5/5 [==============================] - 0s 4ms/step - loss: 0.0079\n"
          ],
          "name": "stdout"
        },
        {
          "output_type": "execute_result",
          "data": {
            "text/plain": [
              "<keras.callbacks.History at 0x7fbe7c7cdd90>"
            ]
          },
          "metadata": {
            "tags": []
          },
          "execution_count": 16
        }
      ]
    },
    {
      "cell_type": "code",
      "metadata": {
        "colab": {
          "base_uri": "https://localhost:8080/"
        },
        "id": "ZjeZS_ldcdua",
        "outputId": "49b99ad8-564a-4796-ca25-1b086219ebe4"
      },
      "source": [
        "# Encoder information for feature extraction\n",
        "\n",
        "encoder = Model(inputs=input_dim, outputs=encoded)\n",
        "encoded_input = Input(shape=(2,))\n",
        "encoded_output = encoder.predict(X_test_demo) #using X_test_demo bcz its no of columns is 4 which matches with X_train no of columns\n",
        "\n",
        "\n",
        "# Show the encoded values\n",
        "print(encoded_output[:5])\n"
      ],
      "execution_count": 17,
      "outputs": [
        {
          "output_type": "stream",
          "text": [
            "[[0.63386434 0.37061715]\n",
            " [0.63387144 0.3706201 ]\n",
            " [0.6338641  0.37061223]\n",
            " [0.6338653  0.37061328]\n",
            " [0.633859   0.37061054]]\n"
          ],
          "name": "stdout"
        }
      ]
    },
    {
      "cell_type": "code",
      "metadata": {
        "colab": {
          "base_uri": "https://localhost:8080/"
        },
        "id": "AYmSRj00AOag",
        "outputId": "a07f6b94-acea-4248-d8b8-3cff5bbbbe0f"
      },
      "source": [
        "#converting encoded_output into DataFrame\n",
        "\n",
        "after_encoding = pd.DataFrame({'Column1': encoded_output[:, 0], 'Column2': encoded_output[:, 1]})\n",
        "print(after_encoding)\n",
        "   "
      ],
      "execution_count": 18,
      "outputs": [
        {
          "output_type": "stream",
          "text": [
            "      Column1   Column2\n",
            "0    0.633864  0.370617\n",
            "1    0.633871  0.370620\n",
            "2    0.633864  0.370612\n",
            "3    0.633865  0.370613\n",
            "4    0.633859  0.370611\n",
            "..        ...       ...\n",
            "479  0.633867  0.370616\n",
            "480  0.633868  0.370615\n",
            "481  0.633866  0.370616\n",
            "482  0.633859  0.370613\n",
            "483  0.633862  0.370613\n",
            "\n",
            "[484 rows x 2 columns]\n"
          ],
          "name": "stdout"
        }
      ]
    },
    {
      "cell_type": "code",
      "metadata": {
        "colab": {
          "base_uri": "https://localhost:8080/",
          "height": 295
        },
        "id": "Tq7A2HNTBYUv",
        "outputId": "25c0d26f-767f-4db9-ea71-d5a0064ceffd"
      },
      "source": [
        "#visualizing after autoencoding\n",
        "\n",
        "sns.scatterplot(x=\"Column1\", y=\"Column2\", data=after_encoding)\n",
        "plt.title('AutoEncoding with 2 dimensions')\n",
        "plt.show()"
      ],
      "execution_count": 19,
      "outputs": [
        {
          "output_type": "display_data",
          "data": {
            "image/png": "[encoded data removed]",
            "text/plain": [
              "<Figure size 432x288 with 1 Axes>"
            ]
          },
          "metadata": {
            "tags": [],
            "needs_background": "light"
          }
        }
      ]
    },
    {
      "cell_type": "code",
      "metadata": {
        "id": "ZIm3EMqpGE0Q"
      },
      "source": [
        "after_encoding_demo = after_encoding.copy(deep = True)"
      ],
      "execution_count": 20,
      "outputs": []
    },
    {
      "cell_type": "code",
      "metadata": {
        "id": "GiyIOjwPd7Fe"
      },
      "source": [
        "#now doing k-means on 'after_encoding' dataset\n",
        "\n",
        "clustering_autoencoder = KMeans(n_clusters=4, precompute_distances=\"auto\", n_jobs=-1)\n",
        "after_encoding['clusters'] = clustering_autoencoder.fit_predict(after_encoding)"
      ],
      "execution_count": 21,
      "outputs": []
    },
    {
      "cell_type": "code",
      "metadata": {
        "colab": {
          "base_uri": "https://localhost:8080/",
          "height": 203
        },
        "id": "IxCtEHT1d9dW",
        "outputId": "4f62259c-9d0a-4dd5-c4c0-d38cbbce521f"
      },
      "source": [
        "after_encoding.head()"
      ],
      "execution_count": 22,
      "outputs": [
        {
          "output_type": "execute_result",
          "data": {
            "text/html": [
              "<div>\n",
              "<style scoped>\n",
              "    .dataframe tbody tr th:only-of-type {\n",
              "        vertical-align: middle;\n",
              "    }\n",
              "\n",
              "    .dataframe tbody tr th {\n",
              "        vertical-align: top;\n",
              "    }\n",
              "\n",
              "    .dataframe thead th {\n",
              "        text-align: right;\n",
              "    }\n",
              "</style>\n",
              "<table border=\"1\" class=\"dataframe\">\n",
              "  <thead>\n",
              "    <tr style=\"text-align: right;\">\n",
              "      <th></th>\n",
              "      <th>Column1</th>\n",
              "      <th>Column2</th>\n",
              "      <th>clusters</th>\n",
              "    </tr>\n",
              "  </thead>\n",
              "  <tbody>\n",
              "    <tr>\n",
              "      <th>0</th>\n",
              "      <td>0.633864</td>\n",
              "      <td>0.370617</td>\n",
              "      <td>3</td>\n",
              "    </tr>\n",
              "    <tr>\n",
              "      <th>1</th>\n",
              "      <td>0.633871</td>\n",
              "      <td>0.370620</td>\n",
              "      <td>3</td>\n",
              "    </tr>\n",
              "    <tr>\n",
              "      <th>2</th>\n",
              "      <td>0.633864</td>\n",
              "      <td>0.370612</td>\n",
              "      <td>1</td>\n",
              "    </tr>\n",
              "    <tr>\n",
              "      <th>3</th>\n",
              "      <td>0.633865</td>\n",
              "      <td>0.370613</td>\n",
              "      <td>3</td>\n",
              "    </tr>\n",
              "    <tr>\n",
              "      <th>4</th>\n",
              "      <td>0.633859</td>\n",
              "      <td>0.370611</td>\n",
              "      <td>1</td>\n",
              "    </tr>\n",
              "  </tbody>\n",
              "</table>\n",
              "</div>"
            ],
            "text/plain": [
              "    Column1   Column2  clusters\n",
              "0  0.633864  0.370617         3\n",
              "1  0.633871  0.370620         3\n",
              "2  0.633864  0.370612         1\n",
              "3  0.633865  0.370613         3\n",
              "4  0.633859  0.370611         1"
            ]
          },
          "metadata": {
            "tags": []
          },
          "execution_count": 22
        }
      ]
    },
    {
      "cell_type": "code",
      "metadata": {
        "colab": {
          "base_uri": "https://localhost:8080/"
        },
        "id": "EwFlQ0Tdpo1a",
        "outputId": "4c9b7983-45d0-4b03-800f-72bc29144814"
      },
      "source": [
        "after_encoding.clusters.value_counts()"
      ],
      "execution_count": 23,
      "outputs": [
        {
          "output_type": "execute_result",
          "data": {
            "text/plain": [
              "1    258\n",
              "3    161\n",
              "0     59\n",
              "2      6\n",
              "Name: clusters, dtype: int64"
            ]
          },
          "metadata": {
            "tags": []
          },
          "execution_count": 23
        }
      ]
    },
    {
      "cell_type": "code",
      "metadata": {
        "id": "rMD-DlQao89r"
      },
      "source": [
        "#now we will split df into df_train and df_test so that we can add cluster column into new df_train dataset after performing k_means on 'after_encoding'\n",
        "\n",
        "df_train, df_test = train_test_split(df, test_size =0.5, random_state = 1)"
      ],
      "execution_count": 24,
      "outputs": []
    },
    {
      "cell_type": "code",
      "metadata": {
        "colab": {
          "base_uri": "https://localhost:8080/",
          "height": 559
        },
        "id": "CSFMigLipkwR",
        "outputId": "14921d4c-f971-4928-eb9f-e8dd930b12f6"
      },
      "source": [
        "df_test.head()"
      ],
      "execution_count": 25,
      "outputs": [
        {
          "output_type": "execute_result",
          "data": {
            "text/html": [
              "<div>\n",
              "<style scoped>\n",
              "    .dataframe tbody tr th:only-of-type {\n",
              "        vertical-align: middle;\n",
              "    }\n",
              "\n",
              "    .dataframe tbody tr th {\n",
              "        vertical-align: top;\n",
              "    }\n",
              "\n",
              "    .dataframe thead th {\n",
              "        text-align: right;\n",
              "    }\n",
              "</style>\n",
              "<table border=\"1\" class=\"dataframe\">\n",
              "  <thead>\n",
              "    <tr style=\"text-align: right;\">\n",
              "      <th></th>\n",
              "      <th>ingredients</th>\n",
              "      <th>url</th>\n",
              "      <th>partition</th>\n",
              "      <th>title</th>\n",
              "      <th>id</th>\n",
              "      <th>instructions</th>\n",
              "      <th>Unnamed: 0</th>\n",
              "      <th>calories</th>\n",
              "      <th>protein</th>\n",
              "      <th>carbohydrates</th>\n",
              "      <th>dietary fiber</th>\n",
              "      <th>sugars</th>\n",
              "      <th>fat</th>\n",
              "      <th>saturated fat</th>\n",
              "      <th>cholesterol</th>\n",
              "      <th>vitamin a iu</th>\n",
              "      <th>niacin equivalents</th>\n",
              "      <th>folate</th>\n",
              "      <th>calcium</th>\n",
              "      <th>iron</th>\n",
              "      <th>magnesium</th>\n",
              "      <th>potassium</th>\n",
              "      <th>sodium</th>\n",
              "      <th>calories from fat</th>\n",
              "    </tr>\n",
              "  </thead>\n",
              "  <tbody>\n",
              "    <tr>\n",
              "      <th>773</th>\n",
              "      <td>[{'text': '1 pound penne pasta'}, {'text': '1/...</td>\n",
              "      <td>http://allrecipes.com/recipe/katies-chicken-an...</td>\n",
              "      <td>train</td>\n",
              "      <td>Katie's Chicken and Broccoli Pasta</td>\n",
              "      <td>5c9e66187d</td>\n",
              "      <td>[{'text': 'Fill a large pot with lightly salte...</td>\n",
              "      <td>788.0</td>\n",
              "      <td>371</td>\n",
              "      <td>3</td>\n",
              "      <td>53</td>\n",
              "      <td>2</td>\n",
              "      <td>27</td>\n",
              "      <td>16</td>\n",
              "      <td>4</td>\n",
              "      <td>0</td>\n",
              "      <td>54</td>\n",
              "      <td>2</td>\n",
              "      <td>44</td>\n",
              "      <td>23</td>\n",
              "      <td>1</td>\n",
              "      <td>12</td>\n",
              "      <td>119</td>\n",
              "      <td>294</td>\n",
              "      <td>148</td>\n",
              "    </tr>\n",
              "    <tr>\n",
              "      <th>877</th>\n",
              "      <td>[{'text': '1 cup water, or more as needed'}, {...</td>\n",
              "      <td>http://allrecipes.com/recipe/ginger-berry-smoo...</td>\n",
              "      <td>val</td>\n",
              "      <td>Ginger Berry Smoothie</td>\n",
              "      <td>5d33382f12</td>\n",
              "      <td>[{'text': 'Blend water, blueberries, strawberr...</td>\n",
              "      <td>892.0</td>\n",
              "      <td>601</td>\n",
              "      <td>32</td>\n",
              "      <td>62</td>\n",
              "      <td>7</td>\n",
              "      <td>22</td>\n",
              "      <td>25</td>\n",
              "      <td>8</td>\n",
              "      <td>84</td>\n",
              "      <td>62</td>\n",
              "      <td>13</td>\n",
              "      <td>46</td>\n",
              "      <td>136</td>\n",
              "      <td>5</td>\n",
              "      <td>84</td>\n",
              "      <td>835</td>\n",
              "      <td>1580</td>\n",
              "      <td>227</td>\n",
              "    </tr>\n",
              "    <tr>\n",
              "      <th>301</th>\n",
              "      <td>[{'text': '1 (750 milliliter) bottle dry white...</td>\n",
              "      <td>http://allrecipes.com/recipe/peach-sangria-wit...</td>\n",
              "      <td>val</td>\n",
              "      <td>Peach Sangria with Raspberries</td>\n",
              "      <td>5a09088d7e</td>\n",
              "      <td>[{'text': 'Stir white wine, peach schnapps, an...</td>\n",
              "      <td>308.0</td>\n",
              "      <td>209</td>\n",
              "      <td>31</td>\n",
              "      <td>0</td>\n",
              "      <td>0</td>\n",
              "      <td>0</td>\n",
              "      <td>8</td>\n",
              "      <td>3</td>\n",
              "      <td>83</td>\n",
              "      <td>1012</td>\n",
              "      <td>19</td>\n",
              "      <td>8</td>\n",
              "      <td>151</td>\n",
              "      <td>0</td>\n",
              "      <td>39</td>\n",
              "      <td>341</td>\n",
              "      <td>126</td>\n",
              "      <td>73</td>\n",
              "    </tr>\n",
              "    <tr>\n",
              "      <th>238</th>\n",
              "      <td>[{'text': '1 1/4 cups white sugar'}, {'text': ...</td>\n",
              "      <td>http://allrecipes.com/recipe/screw-pine-cake/</td>\n",
              "      <td>train</td>\n",
              "      <td>Screw Pine Cake</td>\n",
              "      <td>59b3af4834</td>\n",
              "      <td>[{'text': 'Preheat oven to 400 degrees F (200 ...</td>\n",
              "      <td>242.0</td>\n",
              "      <td>244</td>\n",
              "      <td>27</td>\n",
              "      <td>2</td>\n",
              "      <td>0</td>\n",
              "      <td>1</td>\n",
              "      <td>11</td>\n",
              "      <td>3</td>\n",
              "      <td>76</td>\n",
              "      <td>114</td>\n",
              "      <td>18</td>\n",
              "      <td>10</td>\n",
              "      <td>21</td>\n",
              "      <td>1</td>\n",
              "      <td>36</td>\n",
              "      <td>345</td>\n",
              "      <td>98</td>\n",
              "      <td>100</td>\n",
              "    </tr>\n",
              "    <tr>\n",
              "      <th>255</th>\n",
              "      <td>[{'text': '2 tablespoons butter, softened'}, {...</td>\n",
              "      <td>http://allrecipes.com/recipe/rotisserie-ham/</td>\n",
              "      <td>test</td>\n",
              "      <td>Rotisserie Ham</td>\n",
              "      <td>59c9ecf780</td>\n",
              "      <td>[{'text': 'Preheat rotisserie oven to 250 degr...</td>\n",
              "      <td>260.0</td>\n",
              "      <td>41</td>\n",
              "      <td>1</td>\n",
              "      <td>1</td>\n",
              "      <td>0</td>\n",
              "      <td>0</td>\n",
              "      <td>3</td>\n",
              "      <td>1</td>\n",
              "      <td>9</td>\n",
              "      <td>142</td>\n",
              "      <td>0</td>\n",
              "      <td>3</td>\n",
              "      <td>38</td>\n",
              "      <td>0</td>\n",
              "      <td>5</td>\n",
              "      <td>59</td>\n",
              "      <td>124</td>\n",
              "      <td>28</td>\n",
              "    </tr>\n",
              "  </tbody>\n",
              "</table>\n",
              "</div>"
            ],
            "text/plain": [
              "                                           ingredients  ... calories from fat\n",
              "773  [{'text': '1 pound penne pasta'}, {'text': '1/...  ...               148\n",
              "877  [{'text': '1 cup water, or more as needed'}, {...  ...               227\n",
              "301  [{'text': '1 (750 milliliter) bottle dry white...  ...                73\n",
              "238  [{'text': '1 1/4 cups white sugar'}, {'text': ...  ...               100\n",
              "255  [{'text': '2 tablespoons butter, softened'}, {...  ...                28\n",
              "\n",
              "[5 rows x 24 columns]"
            ]
          },
          "metadata": {
            "tags": []
          },
          "execution_count": 25
        }
      ]
    },
    {
      "cell_type": "code",
      "metadata": {
        "id": "P8wCgswvqA_K"
      },
      "source": [
        ""
      ],
      "execution_count": 25,
      "outputs": []
    },
    {
      "cell_type": "code",
      "metadata": {
        "colab": {
          "base_uri": "https://localhost:8080/"
        },
        "id": "n2xdhktfGmMq",
        "outputId": "2c34fe84-06a0-4eb5-a24a-24ab3d3f3152"
      },
      "source": [
        "print(after_encoding.shape)\n",
        "print(after_encoding_demo.shape)"
      ],
      "execution_count": 26,
      "outputs": [
        {
          "output_type": "stream",
          "text": [
            "(484, 3)\n",
            "(484, 2)\n"
          ],
          "name": "stdout"
        }
      ]
    },
    {
      "cell_type": "code",
      "metadata": {
        "colab": {
          "base_uri": "https://localhost:8080/",
          "height": 203
        },
        "id": "p7vpUGyweD0V",
        "outputId": "52878fd9-5f74-4052-de9c-d89c748c75f4"
      },
      "source": [
        "X_test.head()"
      ],
      "execution_count": 27,
      "outputs": [
        {
          "output_type": "execute_result",
          "data": {
            "text/html": [
              "<div>\n",
              "<style scoped>\n",
              "    .dataframe tbody tr th:only-of-type {\n",
              "        vertical-align: middle;\n",
              "    }\n",
              "\n",
              "    .dataframe tbody tr th {\n",
              "        vertical-align: top;\n",
              "    }\n",
              "\n",
              "    .dataframe thead th {\n",
              "        text-align: right;\n",
              "    }\n",
              "</style>\n",
              "<table border=\"1\" class=\"dataframe\">\n",
              "  <thead>\n",
              "    <tr style=\"text-align: right;\">\n",
              "      <th></th>\n",
              "      <th>calories</th>\n",
              "      <th>carbohydrates</th>\n",
              "      <th>cholesterol</th>\n",
              "      <th>fat</th>\n",
              "      <th>clusters</th>\n",
              "    </tr>\n",
              "  </thead>\n",
              "  <tbody>\n",
              "    <tr>\n",
              "      <th>773</th>\n",
              "      <td>0.184749</td>\n",
              "      <td>0.109504</td>\n",
              "      <td>0.000000</td>\n",
              "      <td>0.111888</td>\n",
              "      <td>1</td>\n",
              "    </tr>\n",
              "    <tr>\n",
              "      <th>877</th>\n",
              "      <td>0.302456</td>\n",
              "      <td>0.128099</td>\n",
              "      <td>0.119149</td>\n",
              "      <td>0.174825</td>\n",
              "      <td>3</td>\n",
              "    </tr>\n",
              "    <tr>\n",
              "      <th>301</th>\n",
              "      <td>0.101842</td>\n",
              "      <td>0.000000</td>\n",
              "      <td>0.117730</td>\n",
              "      <td>0.055944</td>\n",
              "      <td>0</td>\n",
              "    </tr>\n",
              "    <tr>\n",
              "      <th>238</th>\n",
              "      <td>0.119754</td>\n",
              "      <td>0.004132</td>\n",
              "      <td>0.107801</td>\n",
              "      <td>0.076923</td>\n",
              "      <td>0</td>\n",
              "    </tr>\n",
              "    <tr>\n",
              "      <th>255</th>\n",
              "      <td>0.015865</td>\n",
              "      <td>0.002066</td>\n",
              "      <td>0.012766</td>\n",
              "      <td>0.020979</td>\n",
              "      <td>0</td>\n",
              "    </tr>\n",
              "  </tbody>\n",
              "</table>\n",
              "</div>"
            ],
            "text/plain": [
              "     calories  carbohydrates  cholesterol       fat  clusters\n",
              "773  0.184749       0.109504     0.000000  0.111888         1\n",
              "877  0.302456       0.128099     0.119149  0.174825         3\n",
              "301  0.101842       0.000000     0.117730  0.055944         0\n",
              "238  0.119754       0.004132     0.107801  0.076923         0\n",
              "255  0.015865       0.002066     0.012766  0.020979         0"
            ]
          },
          "metadata": {
            "tags": []
          },
          "execution_count": 27
        }
      ]
    },
    {
      "cell_type": "code",
      "metadata": {
        "id": "7tWbE32jp4Ur"
      },
      "source": [
        "#calculating score between k-means and AutoEncoder"
      ],
      "execution_count": 28,
      "outputs": []
    },
    {
      "cell_type": "code",
      "metadata": {
        "colab": {
          "base_uri": "https://localhost:8080/"
        },
        "id": "REl36mN7D4ph",
        "outputId": "afb4a277-6889-4a81-e0a1-0648080323d7"
      },
      "source": [
        "#db index before autoencoder\n",
        "\n",
        "from sklearn import datasets\n",
        "from sklearn.cluster import KMeans\n",
        "from sklearn.metrics import davies_bouldin_score\n",
        "from sklearn.datasets.samples_generator import make_blobs\n",
        "  \n",
        "no_of_clusters = [2, 3, 4, 5, 6, 7, 8, 9, 10]\n",
        "  \n",
        "for n_clusters in no_of_clusters:\n",
        "  \n",
        "    cluster = KMeans(n_clusters = n_clusters, precompute_distances=\"auto\", n_jobs=-1).fit(X_test_demo)\n",
        "    cluster_labels = cluster.labels_\n",
        "\n",
        "    db_index = davies_bouldin_score(X_test_demo, cluster_labels)\n",
        "  \n",
        "    print(\"For no of clusters =\", n_clusters,\n",
        "          \" The db_index_score before AutoEncoder :\", db_index)\n",
        "  \n"
      ],
      "execution_count": 32,
      "outputs": [
        {
          "output_type": "stream",
          "text": [
            "For no of clusters = 2  The db_index_score before AutoEncoder : 0.8646731608143786\n",
            "For no of clusters = 3  The db_index_score before AutoEncoder : 0.9705511869514956\n",
            "For no of clusters = 4  The db_index_score before AutoEncoder : 1.0524980274706972\n",
            "For no of clusters = 5  The db_index_score before AutoEncoder : 0.8597169985257415\n",
            "For no of clusters = 6  The db_index_score before AutoEncoder : 0.9125273961796125\n",
            "For no of clusters = 7  The db_index_score before AutoEncoder : 0.909975457976269\n",
            "For no of clusters = 8  The db_index_score before AutoEncoder : 0.91194525116984\n",
            "For no of clusters = 9  The db_index_score before AutoEncoder : 0.8716031496562657\n",
            "For no of clusters = 10  The db_index_score before AutoEncoder : 0.8914832389202767\n"
          ],
          "name": "stdout"
        }
      ]
    },
    {
      "cell_type": "code",
      "metadata": {
        "colab": {
          "base_uri": "https://localhost:8080/"
        },
        "id": "j4NV-Zk_RN70",
        "outputId": "7be0c057-d39e-4b94-8e41-b8e4827f63cf"
      },
      "source": [
        "#db index after autoencoder\n",
        "\n",
        "from sklearn import datasets\n",
        "from sklearn.cluster import KMeans\n",
        "from sklearn.metrics import davies_bouldin_score\n",
        "from sklearn.datasets.samples_generator import make_blobs\n",
        "  \n",
        "no_of_clusters = [2, 3, 4, 5, 6, 7, 8, 9, 10]\n",
        "  \n",
        "for n_clusters in no_of_clusters:\n",
        "  \n",
        "    cluster = KMeans(n_clusters = n_clusters, precompute_distances=\"auto\", n_jobs=-1).fit(after_encoding_demo)\n",
        "    cluster_labels = cluster.labels_\n",
        "\n",
        "    db_index = davies_bouldin_score(after_encoding_demo, cluster_labels)\n",
        "  \n",
        "    print(\"For no of clusters =\", n_clusters,\n",
        "          \" The db_index_score after AutoEncoder :\", db_index)\n",
        "  \n"
      ],
      "execution_count": 33,
      "outputs": [
        {
          "output_type": "stream",
          "text": [
            "For no of clusters = 2  The db_index_score after AutoEncoder : 0.6474060188415016\n",
            "For no of clusters = 3  The db_index_score after AutoEncoder : 0.6895819853072916\n",
            "For no of clusters = 4  The db_index_score after AutoEncoder : 0.6545028166411392\n",
            "For no of clusters = 5  The db_index_score after AutoEncoder : 0.5728746731924467\n",
            "For no of clusters = 6  The db_index_score after AutoEncoder : 0.631515890265726\n",
            "For no of clusters = 7  The db_index_score after AutoEncoder : 0.6772280919618784\n",
            "For no of clusters = 8  The db_index_score after AutoEncoder : 0.7314954983748818\n",
            "For no of clusters = 9  The db_index_score after AutoEncoder : 0.7589193471649749\n",
            "For no of clusters = 10  The db_index_score after AutoEncoder : 0.7393129801200893\n"
          ],
          "name": "stdout"
        }
      ]
    },
    {
      "cell_type": "code",
      "metadata": {
        "colab": {
          "base_uri": "https://localhost:8080/"
        },
        "id": "_C6yNjZ-N036",
        "outputId": "4b889e6e-5cf2-45b7-b281-73b216ef0151"
      },
      "source": [
        "#silhouette index before autoencoder\n",
        "\n",
        "from sklearn.datasets import make_blobs\n",
        "from sklearn.cluster import KMeans\n",
        "from sklearn.metrics import silhouette_score\n",
        "  \n",
        "  \n",
        "no_of_clusters = [2, 3, 4, 5, 6, 7, 8, 9, 10]\n",
        "  \n",
        "for n_clusters in no_of_clusters:\n",
        "  \n",
        "    cluster = KMeans(n_clusters = n_clusters)\n",
        "    cluster_labels = cluster.fit_predict(X_test_demo)\n",
        "  \n",
        "    # The silhouette_score gives the \n",
        "    # average value for all the samples.\n",
        "    silhouette_avg = silhouette_score(X_test_demo, cluster_labels)\n",
        "  \n",
        "    print(\"For no of clusters =\", n_clusters,\n",
        "          \" The average silhouette_score before AutoEncoder :\", silhouette_avg)"
      ],
      "execution_count": 34,
      "outputs": [
        {
          "output_type": "stream",
          "text": [
            "For no of clusters = 2  The average silhouette_score before AutoEncoder : 0.5394737496887219\n",
            "For no of clusters = 3  The average silhouette_score before AutoEncoder : 0.45651890555046865\n",
            "For no of clusters = 4  The average silhouette_score before AutoEncoder : 0.38110419755407854\n",
            "For no of clusters = 5  The average silhouette_score before AutoEncoder : 0.38364114411607186\n",
            "For no of clusters = 6  The average silhouette_score before AutoEncoder : 0.3714232966812937\n",
            "For no of clusters = 7  The average silhouette_score before AutoEncoder : 0.3650248909947813\n",
            "For no of clusters = 8  The average silhouette_score before AutoEncoder : 0.29243582808451096\n",
            "For no of clusters = 9  The average silhouette_score before AutoEncoder : 0.28744274187439445\n",
            "For no of clusters = 10  The average silhouette_score before AutoEncoder : 0.29983300396334805\n"
          ],
          "name": "stdout"
        }
      ]
    },
    {
      "cell_type": "code",
      "metadata": {
        "colab": {
          "base_uri": "https://localhost:8080/"
        },
        "id": "mbC7ekOeOFBk",
        "outputId": "ce52ee72-3204-4209-cabb-28c205120541"
      },
      "source": [
        "#silhouette index after autoencoder\n",
        "\n",
        "from sklearn.datasets import make_blobs\n",
        "from sklearn.cluster import KMeans\n",
        "from sklearn.metrics import silhouette_score\n",
        "  \n",
        "  \n",
        "no_of_clusters = [2, 3, 4, 5, 6, 7, 8, 9, 10]\n",
        "  \n",
        "for n_clusters in no_of_clusters:\n",
        "  \n",
        "    cluster = KMeans(n_clusters = n_clusters)\n",
        "    cluster_labels = cluster.fit_predict(after_encoding_demo)\n",
        "  \n",
        "    # The silhouette_score gives the \n",
        "    # average value for all the samples.\n",
        "    silhouette_avg = silhouette_score(after_encoding_demo, cluster_labels)\n",
        "  \n",
        "    print(\"For no of clusters =\", n_clusters,\n",
        "          \" The average silhouette_score after AutoEncoding :\", silhouette_avg)"
      ],
      "execution_count": 36,
      "outputs": [
        {
          "output_type": "stream",
          "text": [
            "For no of clusters = 2  The average silhouette_score after AutoEncoding : 0.6141077\n",
            "For no of clusters = 3  The average silhouette_score after AutoEncoding : 0.5456895\n",
            "For no of clusters = 4  The average silhouette_score after AutoEncoding : 0.5295841\n",
            "For no of clusters = 5  The average silhouette_score after AutoEncoding : 0.49137878\n",
            "For no of clusters = 6  The average silhouette_score after AutoEncoding : 0.44478366\n",
            "For no of clusters = 7  The average silhouette_score after AutoEncoding : 0.38701904\n",
            "For no of clusters = 8  The average silhouette_score after AutoEncoding : 0.3980403\n",
            "For no of clusters = 9  The average silhouette_score after AutoEncoding : 0.3854467\n",
            "For no of clusters = 10  The average silhouette_score after AutoEncoding : 0.3785114\n"
          ],
          "name": "stdout"
        }
      ]
    },
    {
      "cell_type": "code",
      "metadata": {
        "id": "nFK1wi2_D6J9",
        "colab": {
          "base_uri": "https://localhost:8080/"
        },
        "outputId": "77f63f77-b275-43ae-a6ed-23e36c495069"
      },
      "source": [
        "#adding cluster column on df_test \n",
        "\n",
        "df_test['clusters'] = after_encoding['clusters'].values   "
      ],
      "execution_count": 37,
      "outputs": [
        {
          "output_type": "stream",
          "text": [
            "/usr/local/lib/python3.7/dist-packages/ipykernel_launcher.py:3: SettingWithCopyWarning: \n",
            "A value is trying to be set on a copy of a slice from a DataFrame.\n",
            "Try using .loc[row_indexer,col_indexer] = value instead\n",
            "\n",
            "See the caveats in the documentation: https://pandas.pydata.org/pandas-docs/stable/user_guide/indexing.html#returning-a-view-versus-a-copy\n",
            "  This is separate from the ipykernel package so we can avoid doing imports until\n"
          ],
          "name": "stderr"
        }
      ]
    },
    {
      "cell_type": "code",
      "metadata": {
        "id": "btRdYdrvE4Th",
        "colab": {
          "base_uri": "https://localhost:8080/",
          "height": 559
        },
        "outputId": "ab1af1e8-bf6c-47ce-e40d-2a9ff9b19438"
      },
      "source": [
        "df_test.head()"
      ],
      "execution_count": 38,
      "outputs": [
        {
          "output_type": "execute_result",
          "data": {
            "text/html": [
              "<div>\n",
              "<style scoped>\n",
              "    .dataframe tbody tr th:only-of-type {\n",
              "        vertical-align: middle;\n",
              "    }\n",
              "\n",
              "    .dataframe tbody tr th {\n",
              "        vertical-align: top;\n",
              "    }\n",
              "\n",
              "    .dataframe thead th {\n",
              "        text-align: right;\n",
              "    }\n",
              "</style>\n",
              "<table border=\"1\" class=\"dataframe\">\n",
              "  <thead>\n",
              "    <tr style=\"text-align: right;\">\n",
              "      <th></th>\n",
              "      <th>ingredients</th>\n",
              "      <th>url</th>\n",
              "      <th>partition</th>\n",
              "      <th>title</th>\n",
              "      <th>id</th>\n",
              "      <th>instructions</th>\n",
              "      <th>Unnamed: 0</th>\n",
              "      <th>calories</th>\n",
              "      <th>protein</th>\n",
              "      <th>carbohydrates</th>\n",
              "      <th>dietary fiber</th>\n",
              "      <th>sugars</th>\n",
              "      <th>fat</th>\n",
              "      <th>saturated fat</th>\n",
              "      <th>cholesterol</th>\n",
              "      <th>vitamin a iu</th>\n",
              "      <th>niacin equivalents</th>\n",
              "      <th>folate</th>\n",
              "      <th>calcium</th>\n",
              "      <th>iron</th>\n",
              "      <th>magnesium</th>\n",
              "      <th>potassium</th>\n",
              "      <th>sodium</th>\n",
              "      <th>calories from fat</th>\n",
              "      <th>clusters</th>\n",
              "    </tr>\n",
              "  </thead>\n",
              "  <tbody>\n",
              "    <tr>\n",
              "      <th>773</th>\n",
              "      <td>[{'text': '1 pound penne pasta'}, {'text': '1/...</td>\n",
              "      <td>http://allrecipes.com/recipe/katies-chicken-an...</td>\n",
              "      <td>train</td>\n",
              "      <td>Katie's Chicken and Broccoli Pasta</td>\n",
              "      <td>5c9e66187d</td>\n",
              "      <td>[{'text': 'Fill a large pot with lightly salte...</td>\n",
              "      <td>788.0</td>\n",
              "      <td>371</td>\n",
              "      <td>3</td>\n",
              "      <td>53</td>\n",
              "      <td>2</td>\n",
              "      <td>27</td>\n",
              "      <td>16</td>\n",
              "      <td>4</td>\n",
              "      <td>0</td>\n",
              "      <td>54</td>\n",
              "      <td>2</td>\n",
              "      <td>44</td>\n",
              "      <td>23</td>\n",
              "      <td>1</td>\n",
              "      <td>12</td>\n",
              "      <td>119</td>\n",
              "      <td>294</td>\n",
              "      <td>148</td>\n",
              "      <td>3</td>\n",
              "    </tr>\n",
              "    <tr>\n",
              "      <th>877</th>\n",
              "      <td>[{'text': '1 cup water, or more as needed'}, {...</td>\n",
              "      <td>http://allrecipes.com/recipe/ginger-berry-smoo...</td>\n",
              "      <td>val</td>\n",
              "      <td>Ginger Berry Smoothie</td>\n",
              "      <td>5d33382f12</td>\n",
              "      <td>[{'text': 'Blend water, blueberries, strawberr...</td>\n",
              "      <td>892.0</td>\n",
              "      <td>601</td>\n",
              "      <td>32</td>\n",
              "      <td>62</td>\n",
              "      <td>7</td>\n",
              "      <td>22</td>\n",
              "      <td>25</td>\n",
              "      <td>8</td>\n",
              "      <td>84</td>\n",
              "      <td>62</td>\n",
              "      <td>13</td>\n",
              "      <td>46</td>\n",
              "      <td>136</td>\n",
              "      <td>5</td>\n",
              "      <td>84</td>\n",
              "      <td>835</td>\n",
              "      <td>1580</td>\n",
              "      <td>227</td>\n",
              "      <td>3</td>\n",
              "    </tr>\n",
              "    <tr>\n",
              "      <th>301</th>\n",
              "      <td>[{'text': '1 (750 milliliter) bottle dry white...</td>\n",
              "      <td>http://allrecipes.com/recipe/peach-sangria-wit...</td>\n",
              "      <td>val</td>\n",
              "      <td>Peach Sangria with Raspberries</td>\n",
              "      <td>5a09088d7e</td>\n",
              "      <td>[{'text': 'Stir white wine, peach schnapps, an...</td>\n",
              "      <td>308.0</td>\n",
              "      <td>209</td>\n",
              "      <td>31</td>\n",
              "      <td>0</td>\n",
              "      <td>0</td>\n",
              "      <td>0</td>\n",
              "      <td>8</td>\n",
              "      <td>3</td>\n",
              "      <td>83</td>\n",
              "      <td>1012</td>\n",
              "      <td>19</td>\n",
              "      <td>8</td>\n",
              "      <td>151</td>\n",
              "      <td>0</td>\n",
              "      <td>39</td>\n",
              "      <td>341</td>\n",
              "      <td>126</td>\n",
              "      <td>73</td>\n",
              "      <td>1</td>\n",
              "    </tr>\n",
              "    <tr>\n",
              "      <th>238</th>\n",
              "      <td>[{'text': '1 1/4 cups white sugar'}, {'text': ...</td>\n",
              "      <td>http://allrecipes.com/recipe/screw-pine-cake/</td>\n",
              "      <td>train</td>\n",
              "      <td>Screw Pine Cake</td>\n",
              "      <td>59b3af4834</td>\n",
              "      <td>[{'text': 'Preheat oven to 400 degrees F (200 ...</td>\n",
              "      <td>242.0</td>\n",
              "      <td>244</td>\n",
              "      <td>27</td>\n",
              "      <td>2</td>\n",
              "      <td>0</td>\n",
              "      <td>1</td>\n",
              "      <td>11</td>\n",
              "      <td>3</td>\n",
              "      <td>76</td>\n",
              "      <td>114</td>\n",
              "      <td>18</td>\n",
              "      <td>10</td>\n",
              "      <td>21</td>\n",
              "      <td>1</td>\n",
              "      <td>36</td>\n",
              "      <td>345</td>\n",
              "      <td>98</td>\n",
              "      <td>100</td>\n",
              "      <td>3</td>\n",
              "    </tr>\n",
              "    <tr>\n",
              "      <th>255</th>\n",
              "      <td>[{'text': '2 tablespoons butter, softened'}, {...</td>\n",
              "      <td>http://allrecipes.com/recipe/rotisserie-ham/</td>\n",
              "      <td>test</td>\n",
              "      <td>Rotisserie Ham</td>\n",
              "      <td>59c9ecf780</td>\n",
              "      <td>[{'text': 'Preheat rotisserie oven to 250 degr...</td>\n",
              "      <td>260.0</td>\n",
              "      <td>41</td>\n",
              "      <td>1</td>\n",
              "      <td>1</td>\n",
              "      <td>0</td>\n",
              "      <td>0</td>\n",
              "      <td>3</td>\n",
              "      <td>1</td>\n",
              "      <td>9</td>\n",
              "      <td>142</td>\n",
              "      <td>0</td>\n",
              "      <td>3</td>\n",
              "      <td>38</td>\n",
              "      <td>0</td>\n",
              "      <td>5</td>\n",
              "      <td>59</td>\n",
              "      <td>124</td>\n",
              "      <td>28</td>\n",
              "      <td>1</td>\n",
              "    </tr>\n",
              "  </tbody>\n",
              "</table>\n",
              "</div>"
            ],
            "text/plain": [
              "                                           ingredients  ... clusters\n",
              "773  [{'text': '1 pound penne pasta'}, {'text': '1/...  ...        3\n",
              "877  [{'text': '1 cup water, or more as needed'}, {...  ...        3\n",
              "301  [{'text': '1 (750 milliliter) bottle dry white...  ...        1\n",
              "238  [{'text': '1 1/4 cups white sugar'}, {'text': ...  ...        3\n",
              "255  [{'text': '2 tablespoons butter, softened'}, {...  ...        1\n",
              "\n",
              "[5 rows x 25 columns]"
            ]
          },
          "metadata": {
            "tags": []
          },
          "execution_count": 38
        }
      ]
    },
    {
      "cell_type": "code",
      "metadata": {
        "id": "gVu_1U_v42tJ"
      },
      "source": [
        ""
      ],
      "execution_count": 39,
      "outputs": []
    },
    {
      "cell_type": "code",
      "metadata": {
        "id": "5sNgZzZq51eb"
      },
      "source": [
        "#total calorie count from each cluster\n",
        "calorie_sum_of_each_cluster = []\n",
        "\n",
        "for i in range(4):\n",
        "    sum = 0\n",
        "    c = df_test[df_test['clusters'] == i]\n",
        "    for j in c.index:\n",
        "      sum = sum + c.loc[j].calories\n",
        "    calorie_sum_of_each_cluster.append(sum)  \n",
        "    \n",
        "      "
      ],
      "execution_count": 53,
      "outputs": []
    },
    {
      "cell_type": "code",
      "metadata": {
        "colab": {
          "base_uri": "https://localhost:8080/"
        },
        "id": "uMGwdU5h6Tlr",
        "outputId": "53e7ceaa-b40f-49e2-e888-81a22291b4ba"
      },
      "source": [
        "calorie_sum_of_each_cluster "
      ],
      "execution_count": 54,
      "outputs": [
        {
          "output_type": "execute_result",
          "data": {
            "text/plain": [
              "[39331, 46857, 7298, 66142]"
            ]
          },
          "metadata": {
            "tags": []
          },
          "execution_count": 54
        }
      ]
    },
    {
      "cell_type": "code",
      "metadata": {
        "colab": {
          "base_uri": "https://localhost:8080/"
        },
        "id": "z-kUBZ5o_Qi2",
        "outputId": "acfe268f-acf5-4eb8-f72a-13f6031ff555"
      },
      "source": [
        "#total sum of calories of all clusters\n",
        "\n",
        "total_sum = 0\n",
        "for i in calorie_sum_of_each_cluster:\n",
        "    total_sum = total_sum + i\n",
        "print(total_sum)"
      ],
      "execution_count": 55,
      "outputs": [
        {
          "output_type": "stream",
          "text": [
            "159628\n"
          ],
          "name": "stdout"
        }
      ]
    },
    {
      "cell_type": "code",
      "metadata": {
        "id": "xlNCBinD_QlC"
      },
      "source": [
        "#suppose BMR of user is 3000\n",
        "BMR = 3000"
      ],
      "execution_count": 56,
      "outputs": []
    },
    {
      "cell_type": "code",
      "metadata": {
        "id": "Cbk7yQrq_QnG"
      },
      "source": [
        "#calorie count chosen from each cluster is divided into ratios:\n",
        "#suppose BMR is 200\n",
        "#if cluster 1 has 100 calorie, cluster 2 has 300 calorie, 3 has 200 and 4 has 400 calorie then\n",
        "# from cluster 1 we would select (100/1000)* BMR = 20calorie.. so we will choose 20 calorie food randomly from cluster1.. similarly for other clusters\n",
        "\n",
        "each_cluster_calories_after_ratio = []\n",
        "for i in range(len(calorie_sum_of_each_cluster)):\n",
        "    ratio = (calorie_sum_of_each_cluster[i]/(total_sum))* BMR\n",
        "    each_cluster_calories_after_ratio.append(ratio)\n",
        "    "
      ],
      "execution_count": 57,
      "outputs": []
    },
    {
      "cell_type": "code",
      "metadata": {
        "colab": {
          "base_uri": "https://localhost:8080/"
        },
        "id": "yBBzn7Ee_Qos",
        "outputId": "05253fb2-318b-46be-ceba-db1a37b2d4a2"
      },
      "source": [
        "each_cluster_calories_after_ratio    #so we will select total 739 calorie foods randomly from cluster 0, 880 from cluster 1 and so on.."
      ],
      "execution_count": 58,
      "outputs": [
        {
          "output_type": "execute_result",
          "data": {
            "text/plain": [
              "[739.1748314831984, 880.6161826246021, 137.15638860350313, 1243.0525972886962]"
            ]
          },
          "metadata": {
            "tags": []
          },
          "execution_count": 58
        }
      ]
    },
    {
      "cell_type": "code",
      "metadata": {
        "id": "CKnhTASY_Qr-"
      },
      "source": [
        "#putting index values from each cluster into list\n",
        "\n",
        "df_index_list = []\n",
        "for i in range(4):\n",
        "    df_index_list.append(df_test[df_test['clusters'] == i].index.tolist())\n",
        "    \n",
        "    "
      ],
      "execution_count": 59,
      "outputs": []
    },
    {
      "cell_type": "code",
      "metadata": {
        "colab": {
          "base_uri": "https://localhost:8080/"
        },
        "id": "AlQKVAOj_Qyu",
        "outputId": "f71df5fb-27a1-42ad-9e5c-3acea3425e54"
      },
      "source": [
        "%%time\n",
        "\n",
        "import random\n",
        "\n",
        "top_5 = []    #list to append all index values \n",
        "for x in range(5):   # 5 coz we want to recommend 4 dishes, depends on how many we want to recommend\n",
        "    cal_list = []\n",
        "    for i in range(len(df_index_list)):\n",
        "        observe = 0\n",
        "        sum = 0\n",
        "        count = 0\n",
        "        while(True):\n",
        "            x = random.choice(df_index_list[i])   #choosing randomly any index from df_index_list\n",
        "            j = df_test.loc[x]   #getting the series based on random value x\n",
        "\n",
        "            if j.calories > each_cluster_calories_after_ratio[i]:  # if calorie value after choosing random index > how much we need then continue\n",
        "                observe = observe + 1\n",
        "                if observe <= 5:\n",
        "                    continue\n",
        "                else:\n",
        "                    break\n",
        "            count = count + 1   # if cal value less than required then increment +1 to count\n",
        "            if sum + j.calories <= each_cluster_calories_after_ratio[i]:    # if sum value + cal value less than required value then again append j.calories\n",
        "                sum = sum + j.calories\n",
        "                cal_list.append(x) #apending the index \n",
        "\n",
        "            elif ((sum + j.calories - each_cluster_calories_after_ratio[i]) <= 300):   #we will stop when sum exceedes 300\n",
        "                sum = sum + j.calories\n",
        "                cal_list.append(x)\n",
        "                break\n",
        "\n",
        "            elif count > len(df_index_list[i]):    #to stop infinite loop when count > len of index list we will break from loop\n",
        "                break\n",
        "    top_5.append(cal_list) "
      ],
      "execution_count": 60,
      "outputs": [
        {
          "output_type": "stream",
          "text": [
            "CPU times: user 39.6 ms, sys: 0 ns, total: 39.6 ms\n",
            "Wall time: 39.8 ms\n"
          ],
          "name": "stdout"
        }
      ]
    },
    {
      "cell_type": "code",
      "metadata": {
        "colab": {
          "base_uri": "https://localhost:8080/"
        },
        "id": "3jIKBidaLMw1",
        "outputId": "9cfa27b1-e016-4799-9668-fa000507f272"
      },
      "source": [
        "top_5    #list of index values from where we will collect the titles, ingredients etc."
      ],
      "execution_count": 61,
      "outputs": [
        {
          "output_type": "execute_result",
          "data": {
            "text/plain": [
              "[[757, 538, 192, 915, 872, 963, 918, 433, 725, 938, 267],\n",
              " [95, 194, 758, 502, 639, 487, 125, 593, 228, 553, 76, 479],\n",
              " [594, 768, 940, 110, 430, 494, 361, 101, 259, 371, 5],\n",
              " [552, 949, 785, 885, 509, 374, 74, 267, 631, 31],\n",
              " [363, 759, 301, 823, 34, 258, 294, 439, 531, 283, 200]]"
            ]
          },
          "metadata": {
            "tags": []
          },
          "execution_count": 61
        }
      ]
    },
    {
      "cell_type": "code",
      "metadata": {
        "id": "Y2aa9faQMqHB"
      },
      "source": [
        "title = []   #to get the title of foods\n",
        "\n",
        "ingredients = []   #to get ingredients of foods\n",
        "for i in range(len(top_5)):\n",
        "    title_0 = []\n",
        "    for k in top_5[i]:\n",
        "        j = df_test.loc[k]\n",
        "        title_0.append(j.title)\n",
        "        ingredients.append(j.ingredients)\n",
        "    title.append(title_0)"
      ],
      "execution_count": 63,
      "outputs": []
    },
    {
      "cell_type": "code",
      "metadata": {
        "colab": {
          "base_uri": "https://localhost:8080/"
        },
        "id": "x-XvdbDwM0Ct",
        "outputId": "b9405135-89a2-4801-ff2f-6ce644728efc"
      },
      "source": [
        "title[0]"
      ],
      "execution_count": 64,
      "outputs": [
        {
          "output_type": "execute_result",
          "data": {
            "text/plain": [
              "['Strawberry Kiwi Milkshakes',\n",
              " 'Pecan Tarts',\n",
              " 'Green Monster Smoothie',\n",
              " 'Savory Roll Ups',\n",
              " \"Eileen's Meatloaf\",\n",
              " 'Red Velvet Brownies with Cream Cheese Frosting',\n",
              " 'My Favorite Cookie',\n",
              " 'Spinach Mushroom and Ricotta Fettuccine',\n",
              " 'Peri Peri Chicken Livers',\n",
              " 'Malabari Chicken Stew',\n",
              " 'Baked Pork Chops II']"
            ]
          },
          "metadata": {
            "tags": []
          },
          "execution_count": 64
        }
      ]
    },
    {
      "cell_type": "code",
      "metadata": {
        "colab": {
          "base_uri": "https://localhost:8080/"
        },
        "id": "sjCE5qe6M4ZK",
        "outputId": "10005fe1-d3f9-4adb-bdad-90ae889fe2bc"
      },
      "source": [
        "print(\"the person can try: \")\n",
        "print(\"---------------------\")\n",
        "for i in title[0]:\n",
        "    print(i)\n",
        "  \n",
        "print(\"\\n\")\n",
        "print(\"recommendations are :\")\n",
        "print(\"---------------------\")\n",
        "for i in range(1,len(title)):\n",
        "    print(title[i])"
      ],
      "execution_count": 65,
      "outputs": [
        {
          "output_type": "stream",
          "text": [
            "the person can try: \n",
            "---------------------\n",
            "Strawberry Kiwi Milkshakes\n",
            "Pecan Tarts\n",
            "Green Monster Smoothie\n",
            "Savory Roll Ups\n",
            "Eileen's Meatloaf\n",
            "Red Velvet Brownies with Cream Cheese Frosting\n",
            "My Favorite Cookie\n",
            "Spinach Mushroom and Ricotta Fettuccine\n",
            "Peri Peri Chicken Livers\n",
            "Malabari Chicken Stew\n",
            "Baked Pork Chops II\n",
            "\n",
            "\n",
            "recommendations are :\n",
            "---------------------\n",
            "['Chocolate Mint Cookies II', 'Prosciutto-Wrapped Chicken Breasts with Herbed Goat Cheese', 'Candied Nuts', 'Sweet Italian Green Beans', 'Apple Martini', 'Baked Apple Turnovers', 'Spicy Chunks of Stewed Beef Soup', 'Fast and Easy Zucchini Soup', 'Monster Cookies I', 'Baked Cinnamon Apple French Toast', 'Ensalada Roja con Pollo (Red Salad with Chicken)', 'Traditional Swedish Pepparkakor']\n",
            "[\"Suzy's Green Tomato Relish\", 'Fresh Shrimp Boil', \"Burn Ban S'mores\", 'Really Fast Zucchini Soup', 'Cranberry Salad IV', \"Dad's Down Home Cornbread and Jalapeno Meatloaf\", 'Balsamic Butternut Squash with Kale', 'Shrimp in Lobster Sauce', 'Chocolate Soup II', 'Puff Pastry Roll', 'Kansas City Steak Soup']\n",
            "['White Wedding Cake', 'Phyllo Turnovers with Shrimp and Ricotta Filling', 'Winter Harvest Curry Stew', 'Best in Show Blackberry Cobbler', \"O'Malin's Irish Cream\", 'Filled Apricot Cookies', 'Southern Red Velvet Cake', 'Baked Pork Chops II', 'Jalapeno Popper Dip', 'Bread Pretzels']\n",
            "['Hot Dog a la Potato', 'Rice and Lentil Soup in a Jar', 'Peach Sangria with Raspberries', 'Strawberry-Asparagus Pasta Salad', 'Creamy Fruit Salad II', 'Sizzling Southwest Burgers', 'Chicken and Broccoli Alfredo Orzo', 'Tomato Cucumber Salad II', 'Swedish Meat Pies', \"Sue's Oatmeal Macadamia Nut Cookies\", 'Seattle Nicoise']\n"
          ],
          "name": "stdout"
        }
      ]
    },
    {
      "cell_type": "code",
      "metadata": {
        "id": "Gb1080UuNBKi"
      },
      "source": [
        ""
      ],
      "execution_count": null,
      "outputs": []
    }
  ]
}