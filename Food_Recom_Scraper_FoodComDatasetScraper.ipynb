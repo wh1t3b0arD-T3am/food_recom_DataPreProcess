{
  "nbformat": 4,
  "nbformat_minor": 0,
  "metadata": {
    "colab": {
      "name": "Food_Recom_Scraper_FoodComDatasetScraper.ipynb",
      "provenance": []
    },
    "kernelspec": {
      "name": "python3",
      "display_name": "Python 3"
    },
    "language_info": {
      "name": "python"
    }
  },
  "cells": [
    {
      "cell_type": "code",
      "metadata": {
        "id": "AnYIfCwukrLF"
      },
      "source": [
        "import pandas as pd\n",
        "import json\n",
        "import numpy as np"
      ],
      "execution_count": 1,
      "outputs": []
    },
    {
      "cell_type": "code",
      "metadata": {
        "id": "OAaB2YDck4qb"
      },
      "source": [
        "! pip install recipe_scrapers"
      ],
      "execution_count": null,
      "outputs": []
    },
    {
      "cell_type": "code",
      "metadata": {
        "id": "XaxqozlCk5bd"
      },
      "source": [
        "from recipe_scrapers import scrape_me\n",
        "import pandas as pd\n",
        "import re\n",
        "import requests\n",
        "from bs4 import BeautifulSoup as bs\n",
        "import numpy as np\n"
      ],
      "execution_count": null,
      "outputs": []
    },
    {
      "cell_type": "code",
      "metadata": {
        "id": "naZSHIXMkskm"
      },
      "source": [
        "# Importing data\n",
        "\n",
        "layer1_food_dataset = pd.read_csv()\n",
        "\n"
      ],
      "execution_count": null,
      "outputs": []
    },
    {
      "cell_type": "code",
      "metadata": {
        "id": "uFNE2W67k-DO"
      },
      "source": [
        "%%time\n",
        "Nutritions=[]\n",
        "\n",
        "for url,title in layer1_food_dataset[['url','title']][0:100].itertuples(index=False):\n",
        "  try:\n",
        "      scraper = scrape_me(url)\n",
        "      nutrition = scraper.nutrients()\n",
        "      nutrition['title'] = title\n",
        "      Nutritions.append(nutrition)\n",
        "\n",
        "  except:\n",
        "      \n",
        "      Nutritions.append(np.nan)"
      ],
      "execution_count": null,
      "outputs": []
    }
  ]
}