{
 "cells": [
  {
   "cell_type": "code",
   "execution_count": 1,
   "id": "operating-george",
   "metadata": {},
   "outputs": [],
   "source": [
    "import pandas as pd\n",
    "import numpy as np\n",
    "import seaborn as sns\n",
    "import matplotlib.pyplot as plt\n",
    "from sklearn.decomposition import PCA\n",
    "from sklearn.cluster import KMeans"
   ]
  },
  {
   "cell_type": "code",
   "execution_count": 2,
   "id": "coral-assistant",
   "metadata": {},
   "outputs": [],
   "source": [
    "df = pd.read_csv(r\"C:\\Users\\ankur\\OneDrive\\Desktop\\Internship\\allrecipe_afterCleaning\\allrecipe_0-1000_merge.csv\")"
   ]
  },
  {
   "cell_type": "code",
   "execution_count": 4,
   "id": "little-heating",
   "metadata": {},
   "outputs": [
    {
     "data": {
      "text/html": [
       "<div>\n",
       "<style scoped>\n",
       "    .dataframe tbody tr th:only-of-type {\n",
       "        vertical-align: middle;\n",
       "    }\n",
       "\n",
       "    .dataframe tbody tr th {\n",
       "        vertical-align: top;\n",
       "    }\n",
       "\n",
       "    .dataframe thead th {\n",
       "        text-align: right;\n",
       "    }\n",
       "</style>\n",
       "<table border=\"1\" class=\"dataframe\">\n",
       "  <thead>\n",
       "    <tr style=\"text-align: right;\">\n",
       "      <th></th>\n",
       "      <th>ingredients</th>\n",
       "      <th>url</th>\n",
       "      <th>partition</th>\n",
       "      <th>title</th>\n",
       "      <th>id</th>\n",
       "      <th>instructions</th>\n",
       "      <th>Unnamed: 0</th>\n",
       "      <th>calories</th>\n",
       "      <th>protein</th>\n",
       "      <th>carbohydrates</th>\n",
       "      <th>...</th>\n",
       "      <th>cholesterol</th>\n",
       "      <th>vitamin a iu</th>\n",
       "      <th>niacin equivalents</th>\n",
       "      <th>folate</th>\n",
       "      <th>calcium</th>\n",
       "      <th>iron</th>\n",
       "      <th>magnesium</th>\n",
       "      <th>potassium</th>\n",
       "      <th>sodium</th>\n",
       "      <th>calories from fat</th>\n",
       "    </tr>\n",
       "  </thead>\n",
       "  <tbody>\n",
       "    <tr>\n",
       "      <th>0</th>\n",
       "      <td>[{'text': '1 pound dried red beans, soaked ove...</td>\n",
       "      <td>http://allrecipes.com/recipe/authentic-no-shor...</td>\n",
       "      <td>val</td>\n",
       "      <td>Authentic, No Shortcuts, Louisiana Red Beans a...</td>\n",
       "      <td>587c9a00a9</td>\n",
       "      <td>[{'text': 'Place the beans and water into a sl...</td>\n",
       "      <td>0.0</td>\n",
       "      <td>285</td>\n",
       "      <td>5</td>\n",
       "      <td>22</td>\n",
       "      <td>...</td>\n",
       "      <td>148</td>\n",
       "      <td>571</td>\n",
       "      <td>1</td>\n",
       "      <td>17</td>\n",
       "      <td>28</td>\n",
       "      <td>2</td>\n",
       "      <td>31</td>\n",
       "      <td>114</td>\n",
       "      <td>142</td>\n",
       "      <td>190</td>\n",
       "    </tr>\n",
       "    <tr>\n",
       "      <th>1</th>\n",
       "      <td>[{'text': '1 (14 ounce) bag green split peas, ...</td>\n",
       "      <td>http://allrecipes.com/recipe/ricks-yummy-split...</td>\n",
       "      <td>train</td>\n",
       "      <td>Rick's Yummy Split Pea Soup with Ham</td>\n",
       "      <td>587f0bd408</td>\n",
       "      <td>[{'text': 'Place the split peas into a large c...</td>\n",
       "      <td>1.0</td>\n",
       "      <td>166</td>\n",
       "      <td>1</td>\n",
       "      <td>31</td>\n",
       "      <td>...</td>\n",
       "      <td>2</td>\n",
       "      <td>1062</td>\n",
       "      <td>0</td>\n",
       "      <td>20</td>\n",
       "      <td>7</td>\n",
       "      <td>0</td>\n",
       "      <td>34</td>\n",
       "      <td>461</td>\n",
       "      <td>11</td>\n",
       "      <td>47</td>\n",
       "    </tr>\n",
       "    <tr>\n",
       "      <th>2</th>\n",
       "      <td>[{'text': '1 1/4 cups milk'}, {'text': '1 cup ...</td>\n",
       "      <td>http://allrecipes.com/recipe/skillet-corn-brea...</td>\n",
       "      <td>train</td>\n",
       "      <td>Skillet Corn Bread</td>\n",
       "      <td>587fca5893</td>\n",
       "      <td>[{'text': 'Preheat oven to 425 degrees F (220 ...</td>\n",
       "      <td>2.0</td>\n",
       "      <td>552</td>\n",
       "      <td>25</td>\n",
       "      <td>67</td>\n",
       "      <td>...</td>\n",
       "      <td>71</td>\n",
       "      <td>1556</td>\n",
       "      <td>13</td>\n",
       "      <td>238</td>\n",
       "      <td>150</td>\n",
       "      <td>8</td>\n",
       "      <td>84</td>\n",
       "      <td>786</td>\n",
       "      <td>324</td>\n",
       "      <td>171</td>\n",
       "    </tr>\n",
       "    <tr>\n",
       "      <th>3</th>\n",
       "      <td>[{'text': '4 fluid ounces amaretto (almond fla...</td>\n",
       "      <td>http://allrecipes.com/recipe/the-emily/</td>\n",
       "      <td>train</td>\n",
       "      <td>The Emily</td>\n",
       "      <td>5881213bc1</td>\n",
       "      <td>[{'text': 'Combine the amaretto and sweetened ...</td>\n",
       "      <td>3.0</td>\n",
       "      <td>360</td>\n",
       "      <td>23</td>\n",
       "      <td>37</td>\n",
       "      <td>...</td>\n",
       "      <td>44</td>\n",
       "      <td>613</td>\n",
       "      <td>8</td>\n",
       "      <td>25</td>\n",
       "      <td>223</td>\n",
       "      <td>1</td>\n",
       "      <td>35</td>\n",
       "      <td>475</td>\n",
       "      <td>737</td>\n",
       "      <td>109</td>\n",
       "    </tr>\n",
       "    <tr>\n",
       "      <th>4</th>\n",
       "      <td>[{'text': '1 pound bulk mild Italian sausage'}...</td>\n",
       "      <td>http://allrecipes.com/recipe/quick-super-delic...</td>\n",
       "      <td>train</td>\n",
       "      <td>Quick Super-Delicious Zuppa Toscana</td>\n",
       "      <td>588170fd85</td>\n",
       "      <td>[{'text': 'Cook and stir Italian sausage and r...</td>\n",
       "      <td>4.0</td>\n",
       "      <td>154</td>\n",
       "      <td>8</td>\n",
       "      <td>19</td>\n",
       "      <td>...</td>\n",
       "      <td>19</td>\n",
       "      <td>474</td>\n",
       "      <td>1</td>\n",
       "      <td>14</td>\n",
       "      <td>304</td>\n",
       "      <td>0</td>\n",
       "      <td>35</td>\n",
       "      <td>427</td>\n",
       "      <td>104</td>\n",
       "      <td>47</td>\n",
       "    </tr>\n",
       "  </tbody>\n",
       "</table>\n",
       "<p>5 rows × 24 columns</p>\n",
       "</div>"
      ],
      "text/plain": [
       "                                         ingredients  \\\n",
       "0  [{'text': '1 pound dried red beans, soaked ove...   \n",
       "1  [{'text': '1 (14 ounce) bag green split peas, ...   \n",
       "2  [{'text': '1 1/4 cups milk'}, {'text': '1 cup ...   \n",
       "3  [{'text': '4 fluid ounces amaretto (almond fla...   \n",
       "4  [{'text': '1 pound bulk mild Italian sausage'}...   \n",
       "\n",
       "                                                 url partition  \\\n",
       "0  http://allrecipes.com/recipe/authentic-no-shor...       val   \n",
       "1  http://allrecipes.com/recipe/ricks-yummy-split...     train   \n",
       "2  http://allrecipes.com/recipe/skillet-corn-brea...     train   \n",
       "3            http://allrecipes.com/recipe/the-emily/     train   \n",
       "4  http://allrecipes.com/recipe/quick-super-delic...     train   \n",
       "\n",
       "                                               title          id  \\\n",
       "0  Authentic, No Shortcuts, Louisiana Red Beans a...  587c9a00a9   \n",
       "1               Rick's Yummy Split Pea Soup with Ham  587f0bd408   \n",
       "2                                 Skillet Corn Bread  587fca5893   \n",
       "3                                          The Emily  5881213bc1   \n",
       "4                Quick Super-Delicious Zuppa Toscana  588170fd85   \n",
       "\n",
       "                                        instructions  Unnamed: 0  calories  \\\n",
       "0  [{'text': 'Place the beans and water into a sl...         0.0       285   \n",
       "1  [{'text': 'Place the split peas into a large c...         1.0       166   \n",
       "2  [{'text': 'Preheat oven to 425 degrees F (220 ...         2.0       552   \n",
       "3  [{'text': 'Combine the amaretto and sweetened ...         3.0       360   \n",
       "4  [{'text': 'Cook and stir Italian sausage and r...         4.0       154   \n",
       "\n",
       "   protein  carbohydrates  ...  cholesterol  vitamin a iu  niacin equivalents  \\\n",
       "0        5             22  ...          148           571                   1   \n",
       "1        1             31  ...            2          1062                   0   \n",
       "2       25             67  ...           71          1556                  13   \n",
       "3       23             37  ...           44           613                   8   \n",
       "4        8             19  ...           19           474                   1   \n",
       "\n",
       "   folate  calcium  iron  magnesium  potassium  sodium  calories from fat  \n",
       "0      17       28     2         31        114     142                190  \n",
       "1      20        7     0         34        461      11                 47  \n",
       "2     238      150     8         84        786     324                171  \n",
       "3      25      223     1         35        475     737                109  \n",
       "4      14      304     0         35        427     104                 47  \n",
       "\n",
       "[5 rows x 24 columns]"
      ]
     },
     "execution_count": 4,
     "metadata": {},
     "output_type": "execute_result"
    }
   ],
   "source": [
    "df.head()"
   ]
  },
  {
   "cell_type": "code",
   "execution_count": 5,
   "id": "instant-living",
   "metadata": {},
   "outputs": [],
   "source": [
    "df_nutrients = [df[\"calories\"], df[\"carbohydrates\"], df[\"cholesterol\"], df[\"sodium\"], df[\"protein\"]]\n",
    "\n",
    "df_nutrients = pd.concat(df_nutrients, axis=1)"
   ]
  },
  {
   "cell_type": "code",
   "execution_count": 6,
   "id": "provincial-polymer",
   "metadata": {},
   "outputs": [
    {
     "data": {
      "text/html": [
       "<div>\n",
       "<style scoped>\n",
       "    .dataframe tbody tr th:only-of-type {\n",
       "        vertical-align: middle;\n",
       "    }\n",
       "\n",
       "    .dataframe tbody tr th {\n",
       "        vertical-align: top;\n",
       "    }\n",
       "\n",
       "    .dataframe thead th {\n",
       "        text-align: right;\n",
       "    }\n",
       "</style>\n",
       "<table border=\"1\" class=\"dataframe\">\n",
       "  <thead>\n",
       "    <tr style=\"text-align: right;\">\n",
       "      <th></th>\n",
       "      <th>calories</th>\n",
       "      <th>carbohydrates</th>\n",
       "      <th>cholesterol</th>\n",
       "      <th>sodium</th>\n",
       "      <th>protein</th>\n",
       "    </tr>\n",
       "  </thead>\n",
       "  <tbody>\n",
       "    <tr>\n",
       "      <th>0</th>\n",
       "      <td>285</td>\n",
       "      <td>22</td>\n",
       "      <td>148</td>\n",
       "      <td>142</td>\n",
       "      <td>5</td>\n",
       "    </tr>\n",
       "    <tr>\n",
       "      <th>1</th>\n",
       "      <td>166</td>\n",
       "      <td>31</td>\n",
       "      <td>2</td>\n",
       "      <td>11</td>\n",
       "      <td>1</td>\n",
       "    </tr>\n",
       "    <tr>\n",
       "      <th>2</th>\n",
       "      <td>552</td>\n",
       "      <td>67</td>\n",
       "      <td>71</td>\n",
       "      <td>324</td>\n",
       "      <td>25</td>\n",
       "    </tr>\n",
       "    <tr>\n",
       "      <th>3</th>\n",
       "      <td>360</td>\n",
       "      <td>37</td>\n",
       "      <td>44</td>\n",
       "      <td>737</td>\n",
       "      <td>23</td>\n",
       "    </tr>\n",
       "    <tr>\n",
       "      <th>4</th>\n",
       "      <td>154</td>\n",
       "      <td>19</td>\n",
       "      <td>19</td>\n",
       "      <td>104</td>\n",
       "      <td>8</td>\n",
       "    </tr>\n",
       "  </tbody>\n",
       "</table>\n",
       "</div>"
      ],
      "text/plain": [
       "   calories  carbohydrates  cholesterol  sodium  protein\n",
       "0       285             22          148     142        5\n",
       "1       166             31            2      11        1\n",
       "2       552             67           71     324       25\n",
       "3       360             37           44     737       23\n",
       "4       154             19           19     104        8"
      ]
     },
     "execution_count": 6,
     "metadata": {},
     "output_type": "execute_result"
    }
   ],
   "source": [
    "df_nutrients.head()"
   ]
  },
  {
   "cell_type": "code",
   "execution_count": 7,
   "id": "american-account",
   "metadata": {},
   "outputs": [],
   "source": [
    "import pandas as pd\n",
    "from sklearn.cluster import KMeans"
   ]
  },
  {
   "cell_type": "code",
   "execution_count": 8,
   "id": "incident-league",
   "metadata": {},
   "outputs": [],
   "source": [
    "features = list(df_nutrients.columns)\n",
    "\n",
    "### Get the features data\n",
    "data = df_nutrients[features]"
   ]
  },
  {
   "cell_type": "code",
   "execution_count": 9,
   "id": "thirty-induction",
   "metadata": {},
   "outputs": [],
   "source": [
    "clustering_kmeans = KMeans(n_clusters=8, precompute_distances=\"auto\", n_jobs=-1)\n",
    "df_nutrients['clusters'] = clustering_kmeans.fit_predict(data)"
   ]
  },
  {
   "cell_type": "code",
   "execution_count": 10,
   "id": "exotic-nerve",
   "metadata": {},
   "outputs": [
    {
     "data": {
      "text/plain": [
       "3    520\n",
       "6    250\n",
       "0    152\n",
       "4     36\n",
       "5      7\n",
       "7      1\n",
       "2      1\n",
       "1      1\n",
       "Name: clusters, dtype: int64"
      ]
     },
     "execution_count": 10,
     "metadata": {},
     "output_type": "execute_result"
    }
   ],
   "source": [
    "df_nutrients.clusters.value_counts()"
   ]
  },
  {
   "cell_type": "code",
   "execution_count": 11,
   "id": "regulated-income",
   "metadata": {},
   "outputs": [
    {
     "data": {
      "image/png": "[encoded data removed]",
      "text/plain": [
       "<Figure size 432x288 with 1 Axes>"
      ]
     },
     "metadata": {
      "needs_background": "light"
     },
     "output_type": "display_data"
    }
   ],
   "source": [
    "reduced_data = PCA(n_components=2).fit_transform(df_nutrients)\n",
    "results = pd.DataFrame(reduced_data,columns=['pca1','pca2'])\n",
    "\n",
    "sns.scatterplot(x=\"pca1\", y=\"pca2\", hue=df_nutrients['clusters'], data=results)\n",
    "plt.title('K-means Clustering with 2 dimensions')\n",
    "plt.show()"
   ]
  },
  {
   "cell_type": "code",
   "execution_count": 12,
   "id": "continental-variable",
   "metadata": {},
   "outputs": [
    {
     "data": {
      "text/html": [
       "<div>\n",
       "<style scoped>\n",
       "    .dataframe tbody tr th:only-of-type {\n",
       "        vertical-align: middle;\n",
       "    }\n",
       "\n",
       "    .dataframe tbody tr th {\n",
       "        vertical-align: top;\n",
       "    }\n",
       "\n",
       "    .dataframe thead th {\n",
       "        text-align: right;\n",
       "    }\n",
       "</style>\n",
       "<table border=\"1\" class=\"dataframe\">\n",
       "  <thead>\n",
       "    <tr style=\"text-align: right;\">\n",
       "      <th></th>\n",
       "      <th>calories</th>\n",
       "      <th>carbohydrates</th>\n",
       "      <th>cholesterol</th>\n",
       "      <th>sodium</th>\n",
       "      <th>protein</th>\n",
       "      <th>clusters</th>\n",
       "    </tr>\n",
       "  </thead>\n",
       "  <tbody>\n",
       "    <tr>\n",
       "      <th>0</th>\n",
       "      <td>285</td>\n",
       "      <td>22</td>\n",
       "      <td>148</td>\n",
       "      <td>142</td>\n",
       "      <td>5</td>\n",
       "      <td>3</td>\n",
       "    </tr>\n",
       "    <tr>\n",
       "      <th>1</th>\n",
       "      <td>166</td>\n",
       "      <td>31</td>\n",
       "      <td>2</td>\n",
       "      <td>11</td>\n",
       "      <td>1</td>\n",
       "      <td>3</td>\n",
       "    </tr>\n",
       "    <tr>\n",
       "      <th>2</th>\n",
       "      <td>552</td>\n",
       "      <td>67</td>\n",
       "      <td>71</td>\n",
       "      <td>324</td>\n",
       "      <td>25</td>\n",
       "      <td>6</td>\n",
       "    </tr>\n",
       "    <tr>\n",
       "      <th>3</th>\n",
       "      <td>360</td>\n",
       "      <td>37</td>\n",
       "      <td>44</td>\n",
       "      <td>737</td>\n",
       "      <td>23</td>\n",
       "      <td>6</td>\n",
       "    </tr>\n",
       "    <tr>\n",
       "      <th>4</th>\n",
       "      <td>154</td>\n",
       "      <td>19</td>\n",
       "      <td>19</td>\n",
       "      <td>104</td>\n",
       "      <td>8</td>\n",
       "      <td>3</td>\n",
       "    </tr>\n",
       "  </tbody>\n",
       "</table>\n",
       "</div>"
      ],
      "text/plain": [
       "   calories  carbohydrates  cholesterol  sodium  protein  clusters\n",
       "0       285             22          148     142        5         3\n",
       "1       166             31            2      11        1         3\n",
       "2       552             67           71     324       25         6\n",
       "3       360             37           44     737       23         6\n",
       "4       154             19           19     104        8         3"
      ]
     },
     "execution_count": 12,
     "metadata": {},
     "output_type": "execute_result"
    }
   ],
   "source": [
    "df_nutrients.head()"
   ]
  },
  {
   "cell_type": "code",
   "execution_count": 13,
   "id": "gentle-commercial",
   "metadata": {},
   "outputs": [],
   "source": [
    "# scaling the data\n",
    "from sklearn.preprocessing import StandardScaler\n",
    "sc_X = StandardScaler()\n",
    "X =  pd.DataFrame(sc_X.fit_transform(df_nutrients.drop([\"clusters\"],axis = 1),),\n",
    "        columns=['calories', 'carbohydrates', 'cholesterol', 'sodium', 'protein'])"
   ]
  },
  {
   "cell_type": "code",
   "execution_count": 14,
   "id": "raising-italy",
   "metadata": {},
   "outputs": [
    {
     "data": {
      "text/html": [
       "<div>\n",
       "<style scoped>\n",
       "    .dataframe tbody tr th:only-of-type {\n",
       "        vertical-align: middle;\n",
       "    }\n",
       "\n",
       "    .dataframe tbody tr th {\n",
       "        vertical-align: top;\n",
       "    }\n",
       "\n",
       "    .dataframe thead th {\n",
       "        text-align: right;\n",
       "    }\n",
       "</style>\n",
       "<table border=\"1\" class=\"dataframe\">\n",
       "  <thead>\n",
       "    <tr style=\"text-align: right;\">\n",
       "      <th></th>\n",
       "      <th>calories</th>\n",
       "      <th>carbohydrates</th>\n",
       "      <th>cholesterol</th>\n",
       "      <th>sodium</th>\n",
       "      <th>protein</th>\n",
       "    </tr>\n",
       "  </thead>\n",
       "  <tbody>\n",
       "    <tr>\n",
       "      <th>0</th>\n",
       "      <td>-0.161647</td>\n",
       "      <td>-0.341998</td>\n",
       "      <td>1.243878</td>\n",
       "      <td>-0.103614</td>\n",
       "      <td>-0.499550</td>\n",
       "    </tr>\n",
       "    <tr>\n",
       "      <th>1</th>\n",
       "      <td>-0.694026</td>\n",
       "      <td>-0.022550</td>\n",
       "      <td>-0.814465</td>\n",
       "      <td>-0.124779</td>\n",
       "      <td>-0.771369</td>\n",
       "    </tr>\n",
       "    <tr>\n",
       "      <th>2</th>\n",
       "      <td>1.032850</td>\n",
       "      <td>1.255238</td>\n",
       "      <td>0.158314</td>\n",
       "      <td>-0.074209</td>\n",
       "      <td>0.859541</td>\n",
       "    </tr>\n",
       "    <tr>\n",
       "      <th>3</th>\n",
       "      <td>0.173886</td>\n",
       "      <td>0.190414</td>\n",
       "      <td>-0.222339</td>\n",
       "      <td>-0.007481</td>\n",
       "      <td>0.723632</td>\n",
       "    </tr>\n",
       "    <tr>\n",
       "      <th>4</th>\n",
       "      <td>-0.747712</td>\n",
       "      <td>-0.448480</td>\n",
       "      <td>-0.574795</td>\n",
       "      <td>-0.109753</td>\n",
       "      <td>-0.295687</td>\n",
       "    </tr>\n",
       "  </tbody>\n",
       "</table>\n",
       "</div>"
      ],
      "text/plain": [
       "   calories  carbohydrates  cholesterol    sodium   protein\n",
       "0 -0.161647      -0.341998     1.243878 -0.103614 -0.499550\n",
       "1 -0.694026      -0.022550    -0.814465 -0.124779 -0.771369\n",
       "2  1.032850       1.255238     0.158314 -0.074209  0.859541\n",
       "3  0.173886       0.190414    -0.222339 -0.007481  0.723632\n",
       "4 -0.747712      -0.448480    -0.574795 -0.109753 -0.295687"
      ]
     },
     "execution_count": 14,
     "metadata": {},
     "output_type": "execute_result"
    }
   ],
   "source": [
    "X.head()"
   ]
  },
  {
   "cell_type": "code",
   "execution_count": 15,
   "id": "eight-shopping",
   "metadata": {},
   "outputs": [],
   "source": [
    "features = list(X.columns)\n",
    "\n",
    "### Get the features data\n",
    "data = X[features]"
   ]
  },
  {
   "cell_type": "code",
   "execution_count": 16,
   "id": "similar-pleasure",
   "metadata": {},
   "outputs": [],
   "source": [
    "clustering_kmeans = KMeans(n_clusters=8, precompute_distances=\"auto\", n_jobs=-1)\n",
    "X['clusters'] = clustering_kmeans.fit_predict(data)"
   ]
  },
  {
   "cell_type": "code",
   "execution_count": null,
   "id": "hearing-frost",
   "metadata": {},
   "outputs": [],
   "source": []
  },
  {
   "cell_type": "code",
   "execution_count": 17,
   "id": "cutting-dialogue",
   "metadata": {},
   "outputs": [
    {
     "data": {
      "text/plain": [
       "3    384\n",
       "0    255\n",
       "1    161\n",
       "4     68\n",
       "5     47\n",
       "7     44\n",
       "6      8\n",
       "2      1\n",
       "Name: clusters, dtype: int64"
      ]
     },
     "execution_count": 17,
     "metadata": {},
     "output_type": "execute_result"
    }
   ],
   "source": [
    "X.clusters.value_counts()"
   ]
  },
  {
   "cell_type": "code",
   "execution_count": 18,
   "id": "resident-cycling",
   "metadata": {},
   "outputs": [
    {
     "data": {
      "image/png": "[encoded data removed]",
      "text/plain": [
       "<Figure size 432x288 with 1 Axes>"
      ]
     },
     "metadata": {
      "needs_background": "light"
     },
     "output_type": "display_data"
    }
   ],
   "source": [
    "reduced_data = PCA(n_components=2).fit_transform(X)\n",
    "results = pd.DataFrame(reduced_data,columns=['pca1','pca2'])\n",
    "\n",
    "sns.scatterplot(x=\"pca1\", y=\"pca2\", hue=X['clusters'], data=results)\n",
    "plt.title('K-means Clustering with 2 dimensions')\n",
    "plt.show()"
   ]
  },
  {
   "cell_type": "code",
   "execution_count": 19,
   "id": "thirty-portfolio",
   "metadata": {},
   "outputs": [],
   "source": [
    "df_0 = X[clustering_kmeans.labels_==0]"
   ]
  },
  {
   "cell_type": "code",
   "execution_count": 20,
   "id": "abandoned-semiconductor",
   "metadata": {},
   "outputs": [
    {
     "data": {
      "text/html": [
       "<div>\n",
       "<style scoped>\n",
       "    .dataframe tbody tr th:only-of-type {\n",
       "        vertical-align: middle;\n",
       "    }\n",
       "\n",
       "    .dataframe tbody tr th {\n",
       "        vertical-align: top;\n",
       "    }\n",
       "\n",
       "    .dataframe thead th {\n",
       "        text-align: right;\n",
       "    }\n",
       "</style>\n",
       "<table border=\"1\" class=\"dataframe\">\n",
       "  <thead>\n",
       "    <tr style=\"text-align: right;\">\n",
       "      <th></th>\n",
       "      <th>calories</th>\n",
       "      <th>carbohydrates</th>\n",
       "      <th>cholesterol</th>\n",
       "      <th>sodium</th>\n",
       "      <th>protein</th>\n",
       "      <th>clusters</th>\n",
       "    </tr>\n",
       "  </thead>\n",
       "  <tbody>\n",
       "    <tr>\n",
       "      <th>6</th>\n",
       "      <td>-0.201911</td>\n",
       "      <td>0.793814</td>\n",
       "      <td>-0.574795</td>\n",
       "      <td>-0.116701</td>\n",
       "      <td>-0.703414</td>\n",
       "      <td>0</td>\n",
       "    </tr>\n",
       "    <tr>\n",
       "      <th>21</th>\n",
       "      <td>0.124674</td>\n",
       "      <td>0.580849</td>\n",
       "      <td>0.017332</td>\n",
       "      <td>-0.105553</td>\n",
       "      <td>0.383859</td>\n",
       "      <td>0</td>\n",
       "    </tr>\n",
       "    <tr>\n",
       "      <th>28</th>\n",
       "      <td>-0.157174</td>\n",
       "      <td>-0.058045</td>\n",
       "      <td>-0.264633</td>\n",
       "      <td>-0.059829</td>\n",
       "      <td>-0.567505</td>\n",
       "      <td>0</td>\n",
       "    </tr>\n",
       "    <tr>\n",
       "      <th>31</th>\n",
       "      <td>-0.099015</td>\n",
       "      <td>-0.164527</td>\n",
       "      <td>-0.278731</td>\n",
       "      <td>0.552025</td>\n",
       "      <td>-0.227732</td>\n",
       "      <td>0</td>\n",
       "    </tr>\n",
       "    <tr>\n",
       "      <th>32</th>\n",
       "      <td>-0.000592</td>\n",
       "      <td>0.829308</td>\n",
       "      <td>0.341591</td>\n",
       "      <td>-0.096990</td>\n",
       "      <td>-0.635459</td>\n",
       "      <td>0</td>\n",
       "    </tr>\n",
       "  </tbody>\n",
       "</table>\n",
       "</div>"
      ],
      "text/plain": [
       "    calories  carbohydrates  cholesterol    sodium   protein  clusters\n",
       "6  -0.201911       0.793814    -0.574795 -0.116701 -0.703414         0\n",
       "21  0.124674       0.580849     0.017332 -0.105553  0.383859         0\n",
       "28 -0.157174      -0.058045    -0.264633 -0.059829 -0.567505         0\n",
       "31 -0.099015      -0.164527    -0.278731  0.552025 -0.227732         0\n",
       "32 -0.000592       0.829308     0.341591 -0.096990 -0.635459         0"
      ]
     },
     "execution_count": 20,
     "metadata": {},
     "output_type": "execute_result"
    }
   ],
   "source": [
    "df_0.head()"
   ]
  },
  {
   "cell_type": "code",
   "execution_count": 21,
   "id": "numeric-drill",
   "metadata": {},
   "outputs": [],
   "source": [
    "df_original_0 = df_nutrients[df_nutrients.index.isin(df_0.index)]"
   ]
  },
  {
   "cell_type": "code",
   "execution_count": 22,
   "id": "functioning-blind",
   "metadata": {},
   "outputs": [
    {
     "data": {
      "text/html": [
       "<div>\n",
       "<style scoped>\n",
       "    .dataframe tbody tr th:only-of-type {\n",
       "        vertical-align: middle;\n",
       "    }\n",
       "\n",
       "    .dataframe tbody tr th {\n",
       "        vertical-align: top;\n",
       "    }\n",
       "\n",
       "    .dataframe thead th {\n",
       "        text-align: right;\n",
       "    }\n",
       "</style>\n",
       "<table border=\"1\" class=\"dataframe\">\n",
       "  <thead>\n",
       "    <tr style=\"text-align: right;\">\n",
       "      <th></th>\n",
       "      <th>calories</th>\n",
       "      <th>carbohydrates</th>\n",
       "      <th>cholesterol</th>\n",
       "      <th>sodium</th>\n",
       "      <th>protein</th>\n",
       "      <th>clusters</th>\n",
       "    </tr>\n",
       "  </thead>\n",
       "  <tbody>\n",
       "    <tr>\n",
       "      <th>6</th>\n",
       "      <td>276</td>\n",
       "      <td>54</td>\n",
       "      <td>19</td>\n",
       "      <td>61</td>\n",
       "      <td>2</td>\n",
       "      <td>3</td>\n",
       "    </tr>\n",
       "    <tr>\n",
       "      <th>21</th>\n",
       "      <td>349</td>\n",
       "      <td>48</td>\n",
       "      <td>61</td>\n",
       "      <td>130</td>\n",
       "      <td>18</td>\n",
       "      <td>3</td>\n",
       "    </tr>\n",
       "    <tr>\n",
       "      <th>28</th>\n",
       "      <td>286</td>\n",
       "      <td>30</td>\n",
       "      <td>41</td>\n",
       "      <td>413</td>\n",
       "      <td>4</td>\n",
       "      <td>6</td>\n",
       "    </tr>\n",
       "    <tr>\n",
       "      <th>31</th>\n",
       "      <td>299</td>\n",
       "      <td>27</td>\n",
       "      <td>40</td>\n",
       "      <td>4200</td>\n",
       "      <td>9</td>\n",
       "      <td>5</td>\n",
       "    </tr>\n",
       "    <tr>\n",
       "      <th>32</th>\n",
       "      <td>321</td>\n",
       "      <td>55</td>\n",
       "      <td>84</td>\n",
       "      <td>183</td>\n",
       "      <td>3</td>\n",
       "      <td>3</td>\n",
       "    </tr>\n",
       "  </tbody>\n",
       "</table>\n",
       "</div>"
      ],
      "text/plain": [
       "    calories  carbohydrates  cholesterol  sodium  protein  clusters\n",
       "6        276             54           19      61        2         3\n",
       "21       349             48           61     130       18         3\n",
       "28       286             30           41     413        4         6\n",
       "31       299             27           40    4200        9         5\n",
       "32       321             55           84     183        3         3"
      ]
     },
     "execution_count": 22,
     "metadata": {},
     "output_type": "execute_result"
    }
   ],
   "source": [
    "df_original_0.head()"
   ]
  },
  {
   "cell_type": "code",
   "execution_count": 29,
   "id": "classical-theology",
   "metadata": {},
   "outputs": [],
   "source": [
    "#dataframe from each cluster\n",
    "df_cluster = []\n",
    "for i in range(8):\n",
    "    df_0 = X[clustering_kmeans.labels_==i]\n",
    "    df_cluster.append(df_nutrients[df_nutrients.index.isin(df_0.index)])\n",
    "    \n",
    "    \n"
   ]
  },
  {
   "cell_type": "code",
   "execution_count": 30,
   "id": "important-separation",
   "metadata": {},
   "outputs": [
    {
     "data": {
      "text/html": [
       "<div>\n",
       "<style scoped>\n",
       "    .dataframe tbody tr th:only-of-type {\n",
       "        vertical-align: middle;\n",
       "    }\n",
       "\n",
       "    .dataframe tbody tr th {\n",
       "        vertical-align: top;\n",
       "    }\n",
       "\n",
       "    .dataframe thead th {\n",
       "        text-align: right;\n",
       "    }\n",
       "</style>\n",
       "<table border=\"1\" class=\"dataframe\">\n",
       "  <thead>\n",
       "    <tr style=\"text-align: right;\">\n",
       "      <th></th>\n",
       "      <th>calories</th>\n",
       "      <th>carbohydrates</th>\n",
       "      <th>cholesterol</th>\n",
       "      <th>sodium</th>\n",
       "      <th>protein</th>\n",
       "      <th>clusters</th>\n",
       "    </tr>\n",
       "  </thead>\n",
       "  <tbody>\n",
       "    <tr>\n",
       "      <th>3</th>\n",
       "      <td>360</td>\n",
       "      <td>37</td>\n",
       "      <td>44</td>\n",
       "      <td>737</td>\n",
       "      <td>23</td>\n",
       "      <td>6</td>\n",
       "    </tr>\n",
       "    <tr>\n",
       "      <th>5</th>\n",
       "      <td>475</td>\n",
       "      <td>37</td>\n",
       "      <td>62</td>\n",
       "      <td>267</td>\n",
       "      <td>24</td>\n",
       "      <td>6</td>\n",
       "    </tr>\n",
       "    <tr>\n",
       "      <th>9</th>\n",
       "      <td>197</td>\n",
       "      <td>15</td>\n",
       "      <td>65</td>\n",
       "      <td>905</td>\n",
       "      <td>23</td>\n",
       "      <td>0</td>\n",
       "    </tr>\n",
       "    <tr>\n",
       "      <th>11</th>\n",
       "      <td>509</td>\n",
       "      <td>38</td>\n",
       "      <td>126</td>\n",
       "      <td>809</td>\n",
       "      <td>27</td>\n",
       "      <td>6</td>\n",
       "    </tr>\n",
       "    <tr>\n",
       "      <th>15</th>\n",
       "      <td>616</td>\n",
       "      <td>49</td>\n",
       "      <td>75</td>\n",
       "      <td>229</td>\n",
       "      <td>35</td>\n",
       "      <td>6</td>\n",
       "    </tr>\n",
       "  </tbody>\n",
       "</table>\n",
       "</div>"
      ],
      "text/plain": [
       "    calories  carbohydrates  cholesterol  sodium  protein  clusters\n",
       "3        360             37           44     737       23         6\n",
       "5        475             37           62     267       24         6\n",
       "9        197             15           65     905       23         0\n",
       "11       509             38          126     809       27         6\n",
       "15       616             49           75     229       35         6"
      ]
     },
     "execution_count": 30,
     "metadata": {},
     "output_type": "execute_result"
    }
   ],
   "source": [
    "df_cluster[1].head()"
   ]
  },
  {
   "cell_type": "code",
   "execution_count": 31,
   "id": "suffering-horizontal",
   "metadata": {},
   "outputs": [],
   "source": [
    "#total calorie count from each cluster\n",
    "calorie_sum_of_each_cluster = []\n",
    "\n",
    "for i in range(len(df_cluster)):\n",
    "    sum = 0\n",
    "    for j in df_cluster[i].calories:\n",
    "        sum = sum + j\n",
    "    calorie_sum_of_each_cluster.append(sum)    "
   ]
  },
  {
   "cell_type": "code",
   "execution_count": 32,
   "id": "impressed-variable",
   "metadata": {},
   "outputs": [
    {
     "name": "stdout",
     "output_type": "stream",
     "text": [
      "8\n"
     ]
    }
   ],
   "source": [
    "print(len(df_cluster))"
   ]
  },
  {
   "cell_type": "code",
   "execution_count": 33,
   "id": "encouraging-condition",
   "metadata": {},
   "outputs": [
    {
     "data": {
      "text/plain": [
       "[84802, 64450, 1964, 55818, 45942, 36064, 7089, 14727]"
      ]
     },
     "execution_count": 33,
     "metadata": {},
     "output_type": "execute_result"
    }
   ],
   "source": [
    "calorie_sum_of_each_cluster"
   ]
  },
  {
   "cell_type": "code",
   "execution_count": 34,
   "id": "quantitative-function",
   "metadata": {},
   "outputs": [
    {
     "name": "stdout",
     "output_type": "stream",
     "text": [
      "310856\n"
     ]
    }
   ],
   "source": [
    "total_sum = 0\n",
    "for i in calorie_sum_of_each_cluster:\n",
    "    total_sum = total_sum + i\n",
    "print(total_sum)"
   ]
  },
  {
   "cell_type": "code",
   "execution_count": 35,
   "id": "racial-pillow",
   "metadata": {},
   "outputs": [],
   "source": [
    "#let BMR value = 3000\n",
    "BMR = 3000"
   ]
  },
  {
   "cell_type": "code",
   "execution_count": 37,
   "id": "statistical-denver",
   "metadata": {},
   "outputs": [],
   "source": [
    "each_cluster_calories_after_ratio = []\n",
    "for i in range(len(calorie_sum_of_each_cluster)):\n",
    "    ratio = (calorie_sum_of_each_cluster[i]/(total_sum))* BMR\n",
    "    each_cluster_calories_after_ratio.append(ratio)\n",
    "    "
   ]
  },
  {
   "cell_type": "code",
   "execution_count": 38,
   "id": "freelance-holocaust",
   "metadata": {},
   "outputs": [
    {
     "data": {
      "text/plain": [
       "[818.4046632524385,\n",
       " 621.9921764418251,\n",
       " 18.954113801888976,\n",
       " 538.6867231129526,\n",
       " 443.3757109401137,\n",
       " 348.0453972257251,\n",
       " 68.41431402321332,\n",
       " 142.12690120184266]"
      ]
     },
     "execution_count": 38,
     "metadata": {},
     "output_type": "execute_result"
    }
   ],
   "source": [
    "each_cluster_calories_after_ratio"
   ]
  },
  {
   "cell_type": "code",
   "execution_count": null,
   "id": "finite-output",
   "metadata": {},
   "outputs": [],
   "source": []
  },
  {
   "cell_type": "code",
   "execution_count": null,
   "id": "steady-performance",
   "metadata": {},
   "outputs": [],
   "source": []
  },
  {
   "cell_type": "code",
   "execution_count": 40,
   "id": "marine-encoding",
   "metadata": {},
   "outputs": [],
   "source": [
    "df_index_list = []\n",
    "for i in range(len(df_cluster)):\n",
    "    df_index_list.append(df_cluster[i].index.tolist())\n",
    "    \n",
    "    \n"
   ]
  },
  {
   "cell_type": "code",
   "execution_count": 52,
   "id": "architectural-geometry",
   "metadata": {},
   "outputs": [
    {
     "data": {
      "text/plain": [
       "[467]"
      ]
     },
     "execution_count": 52,
     "metadata": {},
     "output_type": "execute_result"
    }
   ],
   "source": [
    "df_index_list[2]"
   ]
  },
  {
   "cell_type": "code",
   "execution_count": 42,
   "id": "contemporary-regard",
   "metadata": {},
   "outputs": [
    {
     "data": {
      "text/plain": [
       "347"
      ]
     },
     "execution_count": 42,
     "metadata": {},
     "output_type": "execute_result"
    }
   ],
   "source": [
    "import random\n",
    "x = random.choice(df_index_list[1])\n",
    "x"
   ]
  },
  {
   "cell_type": "code",
   "execution_count": 43,
   "id": "weighted-creativity",
   "metadata": {},
   "outputs": [
    {
     "data": {
      "text/plain": [
       "1964"
      ]
     },
     "execution_count": 43,
     "metadata": {},
     "output_type": "execute_result"
    }
   ],
   "source": [
    "j = df.iloc[467]\n",
    "j.calories"
   ]
  },
  {
   "cell_type": "code",
   "execution_count": 44,
   "id": "lonely-handle",
   "metadata": {},
   "outputs": [
    {
     "name": "stdout",
     "output_type": "stream",
     "text": [
      "Wall time: 7.98 ms\n"
     ]
    }
   ],
   "source": [
    "%%time\n",
    "\n",
    "cal_list = []\n",
    "for i in range(len(df_index_list)):\n",
    "    observe = 0\n",
    "    sum = 0\n",
    "    count = 0\n",
    "    while(True):\n",
    "        x = random.choice(df_index_list[i])\n",
    "        j = df.iloc[x]\n",
    "\n",
    "        if j.calories > each_cluster_calories_after_ratio[i]:\n",
    "            observe = observe + 1\n",
    "            if observe <= 5:\n",
    "                continue\n",
    "            else:\n",
    "                break\n",
    "        count = count + 1\n",
    "        if sum + j.calories <= each_cluster_calories_after_ratio[i]:\n",
    "            sum = sum + j.calories\n",
    "            cal_list.append(x) \n",
    "\n",
    "        elif ((sum + j.calories - each_cluster_calories_after_ratio[i]) <= 300):\n",
    "            sum = sum + j.calories\n",
    "            cal_list.append(x)\n",
    "            break\n",
    "\n",
    "        elif count > len(df_index_list[i]):\n",
    "            break"
   ]
  },
  {
   "cell_type": "code",
   "execution_count": null,
   "id": "ultimate-masters",
   "metadata": {},
   "outputs": [],
   "source": []
  },
  {
   "cell_type": "code",
   "execution_count": 148,
   "id": "legislative-independence",
   "metadata": {},
   "outputs": [],
   "source": [
    "s = 0\n",
    "for i in cal_list:\n",
    "    s = s + i"
   ]
  },
  {
   "cell_type": "code",
   "execution_count": 45,
   "id": "adjustable-runner",
   "metadata": {},
   "outputs": [
    {
     "data": {
      "text/plain": [
       "[933, 130, 21, 545, 900, 131, 193, 337, 809, 343]"
      ]
     },
     "execution_count": 45,
     "metadata": {},
     "output_type": "execute_result"
    }
   ],
   "source": [
    "cal_list"
   ]
  },
  {
   "cell_type": "code",
   "execution_count": 46,
   "id": "transsexual-spirit",
   "metadata": {},
   "outputs": [
    {
     "data": {
      "text/plain": [
       "621.9921764418251"
      ]
     },
     "execution_count": 46,
     "metadata": {},
     "output_type": "execute_result"
    }
   ],
   "source": [
    "each_cluster_calories_after_ratio[1]"
   ]
  },
  {
   "cell_type": "code",
   "execution_count": null,
   "id": "final-argument",
   "metadata": {},
   "outputs": [],
   "source": []
  },
  {
   "cell_type": "code",
   "execution_count": 47,
   "id": "civilian-memphis",
   "metadata": {},
   "outputs": [],
   "source": [
    "title = []\n",
    "ingredients = []\n",
    "for i in cal_list:\n",
    "    j = df.iloc[i]\n",
    "    title.append(j.title)\n",
    "    ingredients.append(j.ingredients)\n",
    "    "
   ]
  },
  {
   "cell_type": "code",
   "execution_count": 48,
   "id": "representative-median",
   "metadata": {},
   "outputs": [
    {
     "data": {
      "text/plain": [
       "['2-Ingredient Wheat-Free Banana Pancakes (Paleo)',\n",
       " \"Santa's Whiskers III\",\n",
       " 'Torta di Formaggio (Savory Cheese Torte)',\n",
       " 'Healthy Harvest Soup',\n",
       " \"Simple Shepherd's Pie\",\n",
       " \"Deb's Bread and Butter Pickles\",\n",
       " 'Simple Savory Pork Roast',\n",
       " 'Hearty Vegetable Lasagna',\n",
       " 'Apple Cheddar Bread',\n",
       " 'Boxty']"
      ]
     },
     "execution_count": 48,
     "metadata": {},
     "output_type": "execute_result"
    }
   ],
   "source": [
    "title"
   ]
  },
  {
   "cell_type": "code",
   "execution_count": null,
   "id": "strategic-transfer",
   "metadata": {},
   "outputs": [],
   "source": []
  }
 ],
 "metadata": {
  "kernelspec": {
   "display_name": "Python 3",
   "language": "python",
   "name": "python3"
  },
  "language_info": {
   "codemirror_mode": {
    "name": "ipython",
    "version": 3
   },
   "file_extension": ".py",
   "mimetype": "text/x-python",
   "name": "python",
   "nbconvert_exporter": "python",
   "pygments_lexer": "ipython3",
   "version": "3.8.5"
  }
 },
 "nbformat": 4,
 "nbformat_minor": 5
}
