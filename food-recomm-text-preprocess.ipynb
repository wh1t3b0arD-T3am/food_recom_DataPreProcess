{
 "cells": [
  {
   "cell_type": "markdown",
   "metadata": {},
   "source": [
    "# Data Preprocessing "
   ]
  },
  {
   "cell_type": "code",
   "execution_count": 1,
   "metadata": {},
   "outputs": [],
   "source": [
    "#Author: Sandesh Padiyar\n",
    "#importing required modules\n",
    "import pandas as pd\n",
    "import re\n",
    "import string\n",
    "from nltk.corpus import stopwords\n",
    "from nltk.stem import PorterStemmer\n",
    "from nltk.stem.wordnet import WordNetLemmatizer\n",
    "import numpy as np\n",
    "import spacy"
   ]
  },
  {
   "cell_type": "code",
   "execution_count": 4,
   "metadata": {},
   "outputs": [],
   "source": [
    "chunk=pd.read_csv('../food_recommendation.csv',chunksize=1000)"
   ]
  },
  {
   "cell_type": "code",
   "execution_count": 5,
   "metadata": {},
   "outputs": [],
   "source": [
    "df=pd.concat(chunk)"
   ]
  },
  {
   "cell_type": "code",
   "execution_count": 6,
   "metadata": {},
   "outputs": [
    {
     "data": {
      "text/html": [
       "<div>\n",
       "<style scoped>\n",
       "    .dataframe tbody tr th:only-of-type {\n",
       "        vertical-align: middle;\n",
       "    }\n",
       "\n",
       "    .dataframe tbody tr th {\n",
       "        vertical-align: top;\n",
       "    }\n",
       "\n",
       "    .dataframe thead th {\n",
       "        text-align: right;\n",
       "    }\n",
       "</style>\n",
       "<table border=\"1\" class=\"dataframe\">\n",
       "  <thead>\n",
       "    <tr style=\"text-align: right;\">\n",
       "      <th></th>\n",
       "      <th>ingredients</th>\n",
       "      <th>url</th>\n",
       "      <th>partition</th>\n",
       "      <th>title</th>\n",
       "      <th>id</th>\n",
       "      <th>instructions</th>\n",
       "      <th>type</th>\n",
       "    </tr>\n",
       "  </thead>\n",
       "  <tbody>\n",
       "    <tr>\n",
       "      <th>0</th>\n",
       "      <td>5 cups water 4 cups frozen hash brown potatoes...</td>\n",
       "      <td>http://www.epicurious.com/recipes/food/views/m...</td>\n",
       "      <td>train</td>\n",
       "      <td>mashed potato bake</td>\n",
       "      <td>165413dfa5</td>\n",
       "      <td>preheat the oven to 350 degrees. bring the wat...</td>\n",
       "      <td>0</td>\n",
       "    </tr>\n",
       "    <tr>\n",
       "      <th>1</th>\n",
       "      <td>2 whole sheets of lavash bread 1 teaspoon grou...</td>\n",
       "      <td>http://tastykitchen.com/recipes/appetizers-and...</td>\n",
       "      <td>train</td>\n",
       "      <td>cinnamon and sugar lavash chips</td>\n",
       "      <td>1654357cd3</td>\n",
       "      <td>preheat oven to 350 degrees f. line a baking s...</td>\n",
       "      <td>0</td>\n",
       "    </tr>\n",
       "    <tr>\n",
       "      <th>2</th>\n",
       "      <td>1 c. sugar 1/2 c. butter 1/2 c. white corn syr...</td>\n",
       "      <td>http://cookeatshare.com/recipes/almond-toffee-...</td>\n",
       "      <td>train</td>\n",
       "      <td>almond toffee popcorn recipe</td>\n",
       "      <td>165438a19c</td>\n",
       "      <td>in heavy saucepan, combine sugar, butter, corn...</td>\n",
       "      <td>0</td>\n",
       "    </tr>\n",
       "    <tr>\n",
       "      <th>3</th>\n",
       "      <td>2 tablespoons ground paprika 1 tablespoon grou...</td>\n",
       "      <td>http://allrecipes.com/recipe/blackened-salmon-...</td>\n",
       "      <td>val</td>\n",
       "      <td>blackened salmon fillets</td>\n",
       "      <td>1654587b71</td>\n",
       "      <td>in a small bowl, mix paprika, cayenne pepper, ...</td>\n",
       "      <td>1</td>\n",
       "    </tr>\n",
       "    <tr>\n",
       "      <th>4</th>\n",
       "      <td>2 lb ground turkey 1 quart speghetti sauce 1 b...</td>\n",
       "      <td>https://cookpad.com/us/recipes/349446-baked-ziti</td>\n",
       "      <td>train</td>\n",
       "      <td>baked ziti</td>\n",
       "      <td>16545e6d7e</td>\n",
       "      <td>make your pasta and sauce like you normally wo...</td>\n",
       "      <td>1</td>\n",
       "    </tr>\n",
       "  </tbody>\n",
       "</table>\n",
       "</div>"
      ],
      "text/plain": [
       "                                         ingredients  \\\n",
       "0  5 cups water 4 cups frozen hash brown potatoes...   \n",
       "1  2 whole sheets of lavash bread 1 teaspoon grou...   \n",
       "2  1 c. sugar 1/2 c. butter 1/2 c. white corn syr...   \n",
       "3  2 tablespoons ground paprika 1 tablespoon grou...   \n",
       "4  2 lb ground turkey 1 quart speghetti sauce 1 b...   \n",
       "\n",
       "                                                 url partition  \\\n",
       "0  http://www.epicurious.com/recipes/food/views/m...     train   \n",
       "1  http://tastykitchen.com/recipes/appetizers-and...     train   \n",
       "2  http://cookeatshare.com/recipes/almond-toffee-...     train   \n",
       "3  http://allrecipes.com/recipe/blackened-salmon-...       val   \n",
       "4   https://cookpad.com/us/recipes/349446-baked-ziti     train   \n",
       "\n",
       "                             title          id  \\\n",
       "0               mashed potato bake  165413dfa5   \n",
       "1  cinnamon and sugar lavash chips  1654357cd3   \n",
       "2     almond toffee popcorn recipe  165438a19c   \n",
       "3         blackened salmon fillets  1654587b71   \n",
       "4                       baked ziti  16545e6d7e   \n",
       "\n",
       "                                        instructions  type  \n",
       "0  preheat the oven to 350 degrees. bring the wat...     0  \n",
       "1  preheat oven to 350 degrees f. line a baking s...     0  \n",
       "2  in heavy saucepan, combine sugar, butter, corn...     0  \n",
       "3  in a small bowl, mix paprika, cayenne pepper, ...     1  \n",
       "4  make your pasta and sauce like you normally wo...     1  "
      ]
     },
     "execution_count": 6,
     "metadata": {},
     "output_type": "execute_result"
    }
   ],
   "source": [
    "df.head()"
   ]
  },
  {
   "cell_type": "code",
   "execution_count": 7,
   "metadata": {},
   "outputs": [
    {
     "name": "stdout",
     "output_type": "stream",
     "text": [
      "494         blueberry crisp\n",
      "540              baked ziti\n",
      "987        hot buttered rum\n",
      "1040            tomato soup\n",
      "1986    asparagus casserole\n",
      "               ...         \n",
      "9829       creamy fruit dip\n",
      "9880         raspberry bars\n",
      "9891       watermelon salsa\n",
      "9960    italian pasta salad\n",
      "9963      hot artichoke dip\n",
      "Name: title, Length: 139, dtype: object\n"
     ]
    },
    {
     "data": {
      "text/html": [
       "<div>\n",
       "<style scoped>\n",
       "    .dataframe tbody tr th:only-of-type {\n",
       "        vertical-align: middle;\n",
       "    }\n",
       "\n",
       "    .dataframe tbody tr th {\n",
       "        vertical-align: top;\n",
       "    }\n",
       "\n",
       "    .dataframe thead th {\n",
       "        text-align: right;\n",
       "    }\n",
       "</style>\n",
       "<table border=\"1\" class=\"dataframe\">\n",
       "  <thead>\n",
       "    <tr style=\"text-align: right;\">\n",
       "      <th></th>\n",
       "      <th>ingredients</th>\n",
       "      <th>url</th>\n",
       "      <th>partition</th>\n",
       "      <th>title</th>\n",
       "      <th>id</th>\n",
       "      <th>instructions</th>\n",
       "      <th>type</th>\n",
       "    </tr>\n",
       "  </thead>\n",
       "  <tbody>\n",
       "    <tr>\n",
       "      <th>79</th>\n",
       "      <td>2 sticks margarine 2 cups all-purpose flour 1 ...</td>\n",
       "      <td>http://www.foodgeeks.com/recipes/16110</td>\n",
       "      <td>train</td>\n",
       "      <td>blueberry crisp</td>\n",
       "      <td>16591c7b5c</td>\n",
       "      <td>melt butter and mix with flour and pecans. pac...</td>\n",
       "      <td>0</td>\n",
       "    </tr>\n",
       "    <tr>\n",
       "      <th>494</th>\n",
       "      <td>12 cup sugar 13 cup flour 1 teaspoon cinnamon ...</td>\n",
       "      <td>http://www.food.com/recipe/blueberry-crisp-83767</td>\n",
       "      <td>train</td>\n",
       "      <td>blueberry crisp</td>\n",
       "      <td>167228d018</td>\n",
       "      <td>in a small bowl, combine sugar, flour, cinnamo...</td>\n",
       "      <td>0</td>\n",
       "    </tr>\n",
       "  </tbody>\n",
       "</table>\n",
       "</div>"
      ],
      "text/plain": [
       "                                           ingredients  \\\n",
       "79   2 sticks margarine 2 cups all-purpose flour 1 ...   \n",
       "494  12 cup sugar 13 cup flour 1 teaspoon cinnamon ...   \n",
       "\n",
       "                                                  url partition  \\\n",
       "79             http://www.foodgeeks.com/recipes/16110     train   \n",
       "494  http://www.food.com/recipe/blueberry-crisp-83767     train   \n",
       "\n",
       "               title          id  \\\n",
       "79   blueberry crisp  16591c7b5c   \n",
       "494  blueberry crisp  167228d018   \n",
       "\n",
       "                                          instructions  type  \n",
       "79   melt butter and mix with flour and pecans. pac...     0  \n",
       "494  in a small bowl, combine sugar, flour, cinnamo...     0  "
      ]
     },
     "execution_count": 7,
     "metadata": {},
     "output_type": "execute_result"
    }
   ],
   "source": [
    "#Finding same name dishes (Note: the ingrediants are different , therefore same dishes with different style of preparation)\n",
    "dish_dup=df[df.duplicated(subset='title')]\n",
    "print(dish_dup.title)\n",
    "df[df.title=='blueberry crisp']"
   ]
  },
  {
   "cell_type": "markdown",
   "metadata": {},
   "source": [
    "<strong>Observation: </strong>Finding dishes with same name (Note: the ingrediants are different , therefore same dishes with different style of preparation)"
   ]
  },
  {
   "cell_type": "code",
   "execution_count": 8,
   "metadata": {},
   "outputs": [
    {
     "data": {
      "text/plain": [
       "0"
      ]
     },
     "execution_count": 8,
     "metadata": {},
     "output_type": "execute_result"
    }
   ],
   "source": [
    "sum(df.id.duplicated())"
   ]
  },
  {
   "cell_type": "code",
   "execution_count": 9,
   "metadata": {},
   "outputs": [
    {
     "data": {
      "text/html": [
       "<div>\n",
       "<style scoped>\n",
       "    .dataframe tbody tr th:only-of-type {\n",
       "        vertical-align: middle;\n",
       "    }\n",
       "\n",
       "    .dataframe tbody tr th {\n",
       "        vertical-align: top;\n",
       "    }\n",
       "\n",
       "    .dataframe thead th {\n",
       "        text-align: right;\n",
       "    }\n",
       "</style>\n",
       "<table border=\"1\" class=\"dataframe\">\n",
       "  <thead>\n",
       "    <tr style=\"text-align: right;\">\n",
       "      <th></th>\n",
       "      <th>ingredients</th>\n",
       "      <th>partition</th>\n",
       "      <th>title</th>\n",
       "      <th>id</th>\n",
       "      <th>instructions</th>\n",
       "    </tr>\n",
       "  </thead>\n",
       "  <tbody>\n",
       "    <tr>\n",
       "      <th>0</th>\n",
       "      <td>5 cups water 4 cups frozen hash brown potatoes...</td>\n",
       "      <td>train</td>\n",
       "      <td>mashed potato bake</td>\n",
       "      <td>165413dfa5</td>\n",
       "      <td>preheat the oven to 350 degrees. bring the wat...</td>\n",
       "    </tr>\n",
       "    <tr>\n",
       "      <th>1</th>\n",
       "      <td>2 whole sheets of lavash bread 1 teaspoon grou...</td>\n",
       "      <td>train</td>\n",
       "      <td>cinnamon and sugar lavash chips</td>\n",
       "      <td>1654357cd3</td>\n",
       "      <td>preheat oven to 350 degrees f. line a baking s...</td>\n",
       "    </tr>\n",
       "    <tr>\n",
       "      <th>2</th>\n",
       "      <td>1 c. sugar 1/2 c. butter 1/2 c. white corn syr...</td>\n",
       "      <td>train</td>\n",
       "      <td>almond toffee popcorn recipe</td>\n",
       "      <td>165438a19c</td>\n",
       "      <td>in heavy saucepan, combine sugar, butter, corn...</td>\n",
       "    </tr>\n",
       "    <tr>\n",
       "      <th>3</th>\n",
       "      <td>2 tablespoons ground paprika 1 tablespoon grou...</td>\n",
       "      <td>val</td>\n",
       "      <td>blackened salmon fillets</td>\n",
       "      <td>1654587b71</td>\n",
       "      <td>in a small bowl, mix paprika, cayenne pepper, ...</td>\n",
       "    </tr>\n",
       "    <tr>\n",
       "      <th>4</th>\n",
       "      <td>2 lb ground turkey 1 quart speghetti sauce 1 b...</td>\n",
       "      <td>train</td>\n",
       "      <td>baked ziti</td>\n",
       "      <td>16545e6d7e</td>\n",
       "      <td>make your pasta and sauce like you normally wo...</td>\n",
       "    </tr>\n",
       "  </tbody>\n",
       "</table>\n",
       "</div>"
      ],
      "text/plain": [
       "                                         ingredients partition  \\\n",
       "0  5 cups water 4 cups frozen hash brown potatoes...     train   \n",
       "1  2 whole sheets of lavash bread 1 teaspoon grou...     train   \n",
       "2  1 c. sugar 1/2 c. butter 1/2 c. white corn syr...     train   \n",
       "3  2 tablespoons ground paprika 1 tablespoon grou...       val   \n",
       "4  2 lb ground turkey 1 quart speghetti sauce 1 b...     train   \n",
       "\n",
       "                             title          id  \\\n",
       "0               mashed potato bake  165413dfa5   \n",
       "1  cinnamon and sugar lavash chips  1654357cd3   \n",
       "2     almond toffee popcorn recipe  165438a19c   \n",
       "3         blackened salmon fillets  1654587b71   \n",
       "4                       baked ziti  16545e6d7e   \n",
       "\n",
       "                                        instructions  \n",
       "0  preheat the oven to 350 degrees. bring the wat...  \n",
       "1  preheat oven to 350 degrees f. line a baking s...  \n",
       "2  in heavy saucepan, combine sugar, butter, corn...  \n",
       "3  in a small bowl, mix paprika, cayenne pepper, ...  \n",
       "4  make your pasta and sauce like you normally wo...  "
      ]
     },
     "execution_count": 9,
     "metadata": {},
     "output_type": "execute_result"
    }
   ],
   "source": [
    "#dropping url as it does not provide any useful information (type column will be modified later)\n",
    "new_df=df.drop(['url','type'],axis=1)\n",
    "new_df.head()"
   ]
  },
  {
   "cell_type": "markdown",
   "metadata": {},
   "source": [
    "# Text Preprocessing"
   ]
  },
  {
   "cell_type": "code",
   "execution_count": 10,
   "metadata": {},
   "outputs": [
    {
     "data": {
      "text/plain": [
       "(10002, 5)"
      ]
     },
     "execution_count": 10,
     "metadata": {},
     "output_type": "execute_result"
    }
   ],
   "source": [
    "new_df.shape"
   ]
  },
  {
   "cell_type": "code",
   "execution_count": 11,
   "metadata": {},
   "outputs": [
    {
     "name": "stdout",
     "output_type": "stream",
     "text": [
      "5092 ... 1 (3 ounce) package cream cheese, softened 14 cup creamy peanut butter 2 tablespoons sugar 1 tablespoon milk batter 2 cups sugar 1 34 cups all-purpose flour 12 cup baking cocoa 1 12 teaspoons baking powder 1 teaspoon salt 14 teaspoon baking soda 2 eggs 1 cup water 1 cup milk 12 cup vegetable oil 2 teaspoons vanilla extract frosting 13 cup butter, softened 2 cups confectioners' sugar 6 tablespoons baking cocoa 3 -4 tablespoons milk\n",
      "1481 ... 1 (16 ounce) package imitation crabmeat (i like flake or chunk style, but any style will do) 14 cup mayonnaise\n",
      "6376 ... 14 cup low-fat mayonnaise 34 cup plain nonfat yogurt 2 teaspoons tarragon vinegar 18 teaspoon thyme 12 teaspoon curry powder 2 teaspoons chili sauce\n",
      "694 ... 4 whole thin cut boneless pork chops (1/4-inch thickness) 4 slices prosciutto di parma 1/2 pounds gruyere cheese, grated 1/4 cups all-pupose flour 1/2 teaspoons kosher or sea salt 1/2 teaspoons freshly ground black pepper 1 cup panko bread crumbs 4 sprigs fresh thyme leaves, chopped 1 clove garlic, peeled and micro-planed 4 tablespoons unsalted butter, divided 2 whole eggs, beaten 2 tablespoons extra virgin olive oil\n",
      "550 ... 2 lbs salmon steaks 1 tablespoon garlic powder 1 tablespoon seasoning salt 1 cup poppy seed salad dressing\n",
      "5369 ... 6 cups boiling water 2 tea bags 4 whole cloves 3 sticks cinnamon 2 cups cranberry juice 2 cups orange juice 14 cup sugar 2 tablespoons lemon juice\n",
      "3802 ... 2 tablespoons unsulfured molasses 1 tablespoon bourbon small pinch of cinnamon 1 1/2 sticks unsalted butter, softened salt 4 cups all-purpose flour 1 tablespoon plus 1 teaspoon baking powder 2 teaspoons kosher salt 1 1/2 teaspoons coarsely ground black pepper, plus more for sprinkling 1 teaspoon baking soda 1 stick plus 6 tablespoon unsalted butter, cubed and chilled 2 cups cold buttermilk, plus more for brushing\n",
      "9132 ... 1 1/2 tablespoons olive oil 2 1/2-inch-thick eggplant rounds 2 3- to 4-ounce meatless patties 3 tablespoons mayonnaise 2 teaspoons chopped fresh tarragon or 1 teaspoon dried 2 3- to 4-inch square pieces focaccia or ciabatta, split horizontally 2 large 1/2-inch-thick tomato slices mixed baby greens\n",
      "6237 ... 4 12 cups flour 1 34 cups shortening 3 tablespoons sugar 1 teaspoon baking powder 1 teaspoon salt 1 egg 1 teaspoon vinegar 12 cup cold water 20 tablespoons strawberry jam\n",
      "4490 ... 1 34 cups all-purpose flour 13 cup sugar 12 teaspoon salt 1 12 teaspoons baking powder 12 teaspoon baking soda 14 cup vegetable oil 34 cup buttermilk 1 egg 1 cup mashed very ripe mango 34 cup chopped pecans 1 tablespoon sugar\n"
     ]
    }
   ],
   "source": [
    "#printing random rows to get idea of preprocessing to be done\n",
    "for i in np.random.randint(0,10000,10):\n",
    "    print(i,'...',df.loc[i,'ingredients'])\n"
   ]
  },
  {
   "cell_type": "markdown",
   "metadata": {},
   "source": [
    "<strong>Observation: </strong>The punctuations , numbers can be removed as those factors do not play role in a user's reason to like the ingredient"
   ]
  },
  {
   "cell_type": "code",
   "execution_count": 12,
   "metadata": {},
   "outputs": [
    {
     "name": "stderr",
     "output_type": "stream",
     "text": [
      "<ipython-input-12-575fd1652a34>:24: SettingWithCopyWarning: \n",
      "A value is trying to be set on a copy of a slice from a DataFrame\n",
      "\n",
      "See the caveats in the documentation: https://pandas.pydata.org/pandas-docs/stable/user_guide/indexing.html#returning-a-view-versus-a-copy\n",
      "  new_df['is_veg'][i] = True\n",
      "E:\\anaconda3\\lib\\site-packages\\pandas\\core\\indexing.py:1637: SettingWithCopyWarning: \n",
      "A value is trying to be set on a copy of a slice from a DataFrame\n",
      "\n",
      "See the caveats in the documentation: https://pandas.pydata.org/pandas-docs/stable/user_guide/indexing.html#returning-a-view-versus-a-copy\n",
      "  self._setitem_single_block(indexer, value, name)\n",
      "<ipython-input-12-575fd1652a34>:19: SettingWithCopyWarning: \n",
      "A value is trying to be set on a copy of a slice from a DataFrame\n",
      "\n",
      "See the caveats in the documentation: https://pandas.pydata.org/pandas-docs/stable/user_guide/indexing.html#returning-a-view-versus-a-copy\n",
      "  new_df['is_veg'][i] = False\n"
     ]
    }
   ],
   "source": [
    "#classifying to veg and non-veg based on most common words (more words to be added ..not 100% accurate) based on ingredients\n",
    "non_veg = ['turkey', 'chicken', 'egg', 'fish', 'milk', 'beef', 'pork', 'salmon','prawn','squid','crab','lobster']\n",
    "\n",
    "new_df['is_veg']=np.nan\n",
    "new_df['lactose_content']=np.nan\n",
    "lst = []               \n",
    "for i in new_df.ingredients:\n",
    "    lst.append(i)         #putting all title values into the list 'lst'\n",
    "    \n",
    "    \n",
    "\n",
    "#for nonveg ---> False   for veg ---> True\n",
    "\n",
    "for i in range(len(lst)):\n",
    "    count = 0\n",
    "    j = lst[i].split(\" \")   #getting words for each list values\n",
    "    for k in j:\n",
    "        if  k in non_veg:\n",
    "            new_df['is_veg'][i] = False\n",
    "            break\n",
    "        else:\n",
    "            count = count+1      #traversing through j into the last word, if last word is also not in 'non_veg list' then 0\n",
    "            if(count == len(j)):\n",
    "                new_df['is_veg'][i] = True\n",
    "                break\n",
    "            continue"
   ]
  },
  {
   "cell_type": "code",
   "execution_count": 13,
   "metadata": {},
   "outputs": [
    {
     "data": {
      "text/html": [
       "<div>\n",
       "<style scoped>\n",
       "    .dataframe tbody tr th:only-of-type {\n",
       "        vertical-align: middle;\n",
       "    }\n",
       "\n",
       "    .dataframe tbody tr th {\n",
       "        vertical-align: top;\n",
       "    }\n",
       "\n",
       "    .dataframe thead th {\n",
       "        text-align: right;\n",
       "    }\n",
       "</style>\n",
       "<table border=\"1\" class=\"dataframe\">\n",
       "  <thead>\n",
       "    <tr style=\"text-align: right;\">\n",
       "      <th></th>\n",
       "      <th>ingredients</th>\n",
       "      <th>partition</th>\n",
       "      <th>title</th>\n",
       "      <th>id</th>\n",
       "      <th>instructions</th>\n",
       "      <th>is_veg</th>\n",
       "      <th>lactose_content</th>\n",
       "    </tr>\n",
       "  </thead>\n",
       "  <tbody>\n",
       "    <tr>\n",
       "      <th>0</th>\n",
       "      <td>5 cups water 4 cups frozen hash brown potatoes...</td>\n",
       "      <td>train</td>\n",
       "      <td>mashed potato bake</td>\n",
       "      <td>165413dfa5</td>\n",
       "      <td>preheat the oven to 350 degrees. bring the wat...</td>\n",
       "      <td>True</td>\n",
       "      <td>NaN</td>\n",
       "    </tr>\n",
       "    <tr>\n",
       "      <th>1</th>\n",
       "      <td>2 whole sheets of lavash bread 1 teaspoon grou...</td>\n",
       "      <td>train</td>\n",
       "      <td>cinnamon and sugar lavash chips</td>\n",
       "      <td>1654357cd3</td>\n",
       "      <td>preheat oven to 350 degrees f. line a baking s...</td>\n",
       "      <td>True</td>\n",
       "      <td>NaN</td>\n",
       "    </tr>\n",
       "    <tr>\n",
       "      <th>2</th>\n",
       "      <td>1 c. sugar 1/2 c. butter 1/2 c. white corn syr...</td>\n",
       "      <td>train</td>\n",
       "      <td>almond toffee popcorn recipe</td>\n",
       "      <td>165438a19c</td>\n",
       "      <td>in heavy saucepan, combine sugar, butter, corn...</td>\n",
       "      <td>True</td>\n",
       "      <td>NaN</td>\n",
       "    </tr>\n",
       "    <tr>\n",
       "      <th>3</th>\n",
       "      <td>2 tablespoons ground paprika 1 tablespoon grou...</td>\n",
       "      <td>val</td>\n",
       "      <td>blackened salmon fillets</td>\n",
       "      <td>1654587b71</td>\n",
       "      <td>in a small bowl, mix paprika, cayenne pepper, ...</td>\n",
       "      <td>False</td>\n",
       "      <td>NaN</td>\n",
       "    </tr>\n",
       "    <tr>\n",
       "      <th>4</th>\n",
       "      <td>2 lb ground turkey 1 quart speghetti sauce 1 b...</td>\n",
       "      <td>train</td>\n",
       "      <td>baked ziti</td>\n",
       "      <td>16545e6d7e</td>\n",
       "      <td>make your pasta and sauce like you normally wo...</td>\n",
       "      <td>False</td>\n",
       "      <td>NaN</td>\n",
       "    </tr>\n",
       "  </tbody>\n",
       "</table>\n",
       "</div>"
      ],
      "text/plain": [
       "                                         ingredients partition  \\\n",
       "0  5 cups water 4 cups frozen hash brown potatoes...     train   \n",
       "1  2 whole sheets of lavash bread 1 teaspoon grou...     train   \n",
       "2  1 c. sugar 1/2 c. butter 1/2 c. white corn syr...     train   \n",
       "3  2 tablespoons ground paprika 1 tablespoon grou...       val   \n",
       "4  2 lb ground turkey 1 quart speghetti sauce 1 b...     train   \n",
       "\n",
       "                             title          id  \\\n",
       "0               mashed potato bake  165413dfa5   \n",
       "1  cinnamon and sugar lavash chips  1654357cd3   \n",
       "2     almond toffee popcorn recipe  165438a19c   \n",
       "3         blackened salmon fillets  1654587b71   \n",
       "4                       baked ziti  16545e6d7e   \n",
       "\n",
       "                                        instructions is_veg  lactose_content  \n",
       "0  preheat the oven to 350 degrees. bring the wat...   True              NaN  \n",
       "1  preheat oven to 350 degrees f. line a baking s...   True              NaN  \n",
       "2  in heavy saucepan, combine sugar, butter, corn...   True              NaN  \n",
       "3  in a small bowl, mix paprika, cayenne pepper, ...  False              NaN  \n",
       "4  make your pasta and sauce like you normally wo...  False              NaN  "
      ]
     },
     "execution_count": 13,
     "metadata": {},
     "output_type": "execute_result"
    }
   ],
   "source": [
    "new_df.head()"
   ]
  },
  {
   "cell_type": "code",
   "execution_count": 14,
   "metadata": {},
   "outputs": [
    {
     "name": "stderr",
     "output_type": "stream",
     "text": [
      "<ipython-input-14-40bbea068892>:18: SettingWithCopyWarning: \n",
      "A value is trying to be set on a copy of a slice from a DataFrame\n",
      "\n",
      "See the caveats in the documentation: https://pandas.pydata.org/pandas-docs/stable/user_guide/indexing.html#returning-a-view-versus-a-copy\n",
      "  new_df['lactose_content'][i] = True\n",
      "E:\\anaconda3\\lib\\site-packages\\pandas\\core\\indexing.py:1637: SettingWithCopyWarning: \n",
      "A value is trying to be set on a copy of a slice from a DataFrame\n",
      "\n",
      "See the caveats in the documentation: https://pandas.pydata.org/pandas-docs/stable/user_guide/indexing.html#returning-a-view-versus-a-copy\n",
      "  self._setitem_single_block(indexer, value, name)\n"
     ]
    }
   ],
   "source": [
    "#Adding columns for lactose content for lactose intolerant people based on ingredients(I considered this as important\n",
    "#according to stats almost 65% of population of world have lactose intolerance issues)\n",
    "lactose=['milk','cheese','butter','yogurt','butter','cream']\n",
    "new_df['lactose_content']=np.nan\n",
    "lst = []               \n",
    "for i in new_df.ingredients:\n",
    "    lst.append(i)         #putting all title values into the list 'lst'\n",
    "    \n",
    "    \n",
    "\n",
    "#for lactose ---> True   for no_lactose ---> False\n",
    "\n",
    "for i in range(len(lst)):\n",
    "    count = 0\n",
    "    j = lst[i].split(\" \")   #getting words for each list values\n",
    "    for k in j:\n",
    "        if  k in lactose:\n",
    "            new_df['lactose_content'][i] = True\n",
    "            break\n",
    "        else:\n",
    "            count = count+1      #traversing through j into the last word, if last word is also not in 'non_veg list' then 0\n",
    "            if(count == len(j)):\n",
    "                new_df['lactose_content'][i] = False\n",
    "                break\n",
    "            continue"
   ]
  },
  {
   "cell_type": "code",
   "execution_count": 15,
   "metadata": {},
   "outputs": [
    {
     "data": {
      "text/html": [
       "<div>\n",
       "<style scoped>\n",
       "    .dataframe tbody tr th:only-of-type {\n",
       "        vertical-align: middle;\n",
       "    }\n",
       "\n",
       "    .dataframe tbody tr th {\n",
       "        vertical-align: top;\n",
       "    }\n",
       "\n",
       "    .dataframe thead th {\n",
       "        text-align: right;\n",
       "    }\n",
       "</style>\n",
       "<table border=\"1\" class=\"dataframe\">\n",
       "  <thead>\n",
       "    <tr style=\"text-align: right;\">\n",
       "      <th></th>\n",
       "      <th>ingredients</th>\n",
       "      <th>partition</th>\n",
       "      <th>title</th>\n",
       "      <th>id</th>\n",
       "      <th>instructions</th>\n",
       "      <th>is_veg</th>\n",
       "      <th>lactose_content</th>\n",
       "    </tr>\n",
       "  </thead>\n",
       "  <tbody>\n",
       "    <tr>\n",
       "      <th>0</th>\n",
       "      <td>5 cups water 4 cups frozen hash brown potatoes...</td>\n",
       "      <td>train</td>\n",
       "      <td>mashed potato bake</td>\n",
       "      <td>165413dfa5</td>\n",
       "      <td>preheat the oven to 350 degrees. bring the wat...</td>\n",
       "      <td>True</td>\n",
       "      <td>True</td>\n",
       "    </tr>\n",
       "    <tr>\n",
       "      <th>1</th>\n",
       "      <td>2 whole sheets of lavash bread 1 teaspoon grou...</td>\n",
       "      <td>train</td>\n",
       "      <td>cinnamon and sugar lavash chips</td>\n",
       "      <td>1654357cd3</td>\n",
       "      <td>preheat oven to 350 degrees f. line a baking s...</td>\n",
       "      <td>True</td>\n",
       "      <td>False</td>\n",
       "    </tr>\n",
       "    <tr>\n",
       "      <th>2</th>\n",
       "      <td>1 c. sugar 1/2 c. butter 1/2 c. white corn syr...</td>\n",
       "      <td>train</td>\n",
       "      <td>almond toffee popcorn recipe</td>\n",
       "      <td>165438a19c</td>\n",
       "      <td>in heavy saucepan, combine sugar, butter, corn...</td>\n",
       "      <td>True</td>\n",
       "      <td>True</td>\n",
       "    </tr>\n",
       "    <tr>\n",
       "      <th>3</th>\n",
       "      <td>2 tablespoons ground paprika 1 tablespoon grou...</td>\n",
       "      <td>val</td>\n",
       "      <td>blackened salmon fillets</td>\n",
       "      <td>1654587b71</td>\n",
       "      <td>in a small bowl, mix paprika, cayenne pepper, ...</td>\n",
       "      <td>False</td>\n",
       "      <td>False</td>\n",
       "    </tr>\n",
       "    <tr>\n",
       "      <th>4</th>\n",
       "      <td>2 lb ground turkey 1 quart speghetti sauce 1 b...</td>\n",
       "      <td>train</td>\n",
       "      <td>baked ziti</td>\n",
       "      <td>16545e6d7e</td>\n",
       "      <td>make your pasta and sauce like you normally wo...</td>\n",
       "      <td>False</td>\n",
       "      <td>False</td>\n",
       "    </tr>\n",
       "  </tbody>\n",
       "</table>\n",
       "</div>"
      ],
      "text/plain": [
       "                                         ingredients partition  \\\n",
       "0  5 cups water 4 cups frozen hash brown potatoes...     train   \n",
       "1  2 whole sheets of lavash bread 1 teaspoon grou...     train   \n",
       "2  1 c. sugar 1/2 c. butter 1/2 c. white corn syr...     train   \n",
       "3  2 tablespoons ground paprika 1 tablespoon grou...       val   \n",
       "4  2 lb ground turkey 1 quart speghetti sauce 1 b...     train   \n",
       "\n",
       "                             title          id  \\\n",
       "0               mashed potato bake  165413dfa5   \n",
       "1  cinnamon and sugar lavash chips  1654357cd3   \n",
       "2     almond toffee popcorn recipe  165438a19c   \n",
       "3         blackened salmon fillets  1654587b71   \n",
       "4                       baked ziti  16545e6d7e   \n",
       "\n",
       "                                        instructions is_veg lactose_content  \n",
       "0  preheat the oven to 350 degrees. bring the wat...   True            True  \n",
       "1  preheat oven to 350 degrees f. line a baking s...   True           False  \n",
       "2  in heavy saucepan, combine sugar, butter, corn...   True            True  \n",
       "3  in a small bowl, mix paprika, cayenne pepper, ...  False           False  \n",
       "4  make your pasta and sauce like you normally wo...  False           False  "
      ]
     },
     "execution_count": 15,
     "metadata": {},
     "output_type": "execute_result"
    }
   ],
   "source": [
    "new_df.head()"
   ]
  },
  {
   "cell_type": "markdown",
   "metadata": {},
   "source": [
    "<h3>Word substitution and Punctuation, Digits Removal"
   ]
  },
  {
   "cell_type": "code",
   "execution_count": 16,
   "metadata": {},
   "outputs": [],
   "source": [
    "#Reason: Seeing random reviews it was clear that there was mix of shortforms and the expansions, though the meaning of both is same)\n",
    "\n",
    "def pre_processing(phrase):\n",
    "    phrase = re.sub(r\"tbsp.\", \"tablespoon \", phrase)\n",
    "    phrase = re.sub(r\"tablespoons\", \"tablespoon \", phrase)\n",
    "    phrase = re.sub(r\"tsp.\", \"teaspoon \", phrase)\n",
    "    phrase = re.sub(r\"oz.\", \"ounce \", phrase)\n",
    "    phrase = re.sub(r\"teaspoons\", \"tablespoon \", phrase)\n",
    "    phrase = re.sub(r\"\\b\\d+\\b\", '', phrase) #remving digits\n",
    "    phrase = phrase.translate(str.maketrans('', '', string.punctuation)) #removing punctuations\n",
    "    phrase=re.sub(' +', ' ', phrase) #removing unwanted spaces\n",
    "    return phrase"
   ]
  },
  {
   "cell_type": "code",
   "execution_count": 17,
   "metadata": {},
   "outputs": [],
   "source": [
    "new_df.ingredients=new_df['ingredients'].apply(pre_processing)\n",
    "new_df.instructions=new_df['instructions'].apply(pre_processing)"
   ]
  },
  {
   "cell_type": "markdown",
   "metadata": {},
   "source": [
    "# Stop word Removal"
   ]
  },
  {
   "cell_type": "code",
   "execution_count": 18,
   "metadata": {},
   "outputs": [],
   "source": [
    "#defining the set of stopwords aside from the general stop words in english (source=https://gist.github.com/sebleier/554280)\n",
    "word_set=set(['cup','cups','teaspoon','tablespoon','teaspoons','tablespoons','spoon','ounce','c','store','tbsp','tsp','lbs','inches',\n",
    "              'into','divided','tbs','pounds','possibly','with','lb','cans','optional','cut','chop','ounces','chopped','optional','pound',\n",
    "             'can','or','if','but','or',\"i\", \"me\", \"my\", \"myself\", \"we\", \"our\", \"ours\", \"ourselves\", \"you\", \"your\", \"yours\", \n",
    "              \"yourself\", \"yourselves\", \"he\", \"him\", \"his\", \"himself\", \"she\", \"her\", \"hers\", \"herself\", \"it\", \"its\", \"itself\",\n",
    "              \"they\", \"them\", \"their\", \"theirs\", \"themselves\", \"what\", \"which\", \"who\", \"whom\", \"this\", \"that\", \"these\", \"those\",\n",
    "              \"am\", \"is\", \"are\", \"was\", \"were\", \"be\", \"been\", \"being\", \"have\", \"has\", \"had\", \"having\", \"do\", \"does\", \"did\", \n",
    "              \"doing\", \"a\", \"an\", \"the\", \"and\", \"but\", \"if\", \"or\", \"because\", \"as\", \"until\", \"while\", \"of\", \"at\", \"by\", \"for\",\n",
    "              \"with\", \"about\", \"against\", \"between\", \"into\", \"through\", \"during\", \"before\", \"after\", \"above\", \"below\", \"to\", \n",
    "              \"from\", \"up\", \"down\", \"in\", \"out\", \"on\", \"off\", \"over\", \"under\", \"again\", \"further\", \"then\", \"once\", \"here\", \n",
    "              \"there\", \"when\", \"where\", \"why\", \"how\", \"all\", \"any\", \"both\", \"each\", \"few\", \"more\", \"most\", \"other\", \"some\", \n",
    "              \"such\", \"no\", \"nor\", \"not\", \"only\", \"own\", \"same\", \"so\", \"than\", \"too\", \"very\", \"s\", \"t\", \"can\", \"will\", \"just\", \n",
    "              \"don\", \"should\", \"now\",'a','b','c','d','e','f','g','h','i','j','k','l','m','n','o','p','q','r','s','t','u'\n",
    "              ,'v','w','x','y','z','also'])"
   ]
  },
  {
   "cell_type": "code",
   "execution_count": 19,
   "metadata": {},
   "outputs": [],
   "source": [
    "for i in range(len(new_df.ingredients)):\n",
    "    words = [word for word in new_df.ingredients[i].strip().split(' ') if word.lower() not in word_set]\n",
    "    new_df.ingredients[i] = \" \".join(words)\n",
    "    \n",
    "new_df.ingredients=new_df['ingredients'].apply(pre_processing)"
   ]
  },
  {
   "cell_type": "code",
   "execution_count": 20,
   "metadata": {},
   "outputs": [
    {
     "data": {
      "text/plain": [
       "0        water frounce hash brown potatoes one package ...\n",
       "1          whole sheets lavash bread ground cinnamon sugar\n",
       "2        sugar butter white corn syrup water toasted al...\n",
       "3        ground paprika ground cayenne pepper onion pow...\n",
       "4        ground turkey quart speghetti sauce box ziti p...\n",
       "                               ...                        \n",
       "9997     butter shortening sugar vanilla eggs cocoa flo...\n",
       "9998     crispy chicken homade brought lettuce tomatoes...\n",
       "9999     hanger steak inch cubes trimmed needed irish s...\n",
       "10000    unsalted butter roasted unsalted peanuts sugar...\n",
       "10001    hazelnuts melted butter good quality semisweet...\n",
       "Name: ingredients, Length: 10002, dtype: object"
      ]
     },
     "execution_count": 20,
     "metadata": {},
     "output_type": "execute_result"
    }
   ],
   "source": [
    "new_df.ingredients"
   ]
  },
  {
   "cell_type": "code",
   "execution_count": 21,
   "metadata": {},
   "outputs": [],
   "source": [
    "for i in range(len(new_df.instructions)):\n",
    "    words = [word for word in new_df.instructions[i].strip().split(' ') if word.lower() not in word_set]\n",
    "    new_df.instructions[i] = \" \".join(words)\n",
    "    \n",
    "new_df.instructions=new_df['instructions'].apply(pre_processing)"
   ]
  },
  {
   "cell_type": "code",
   "execution_count": 22,
   "metadata": {},
   "outputs": [
    {
     "data": {
      "text/plain": [
       "0        preheat oven degrees bring water boil add hash...\n",
       "1        preheat oven degrees line baking sheet aluminu...\n",
       "2        heavy saucepan combine sugar butter corn syrup...\n",
       "3        small bowl mix paprika cayenne pepper onion po...\n",
       "4        make pasta sauce like normally would adding ve...\n",
       "                               ...                        \n",
       "9997     generously grease flour inch round 13x9 cake p...\n",
       "9998     ingriedients personal size add ingredients pla...\n",
       "9999     pair hearty stew dry irish stout marinade gall...\n",
       "10000    position oven rack center oven preheat oven 35...\n",
       "10001    butter springform pan process nuts food proces...\n",
       "Name: instructions, Length: 10002, dtype: object"
      ]
     },
     "execution_count": 22,
     "metadata": {},
     "output_type": "execute_result"
    }
   ],
   "source": [
    "new_df.instructions"
   ]
  },
  {
   "cell_type": "code",
   "execution_count": 23,
   "metadata": {},
   "outputs": [
    {
     "name": "stdout",
     "output_type": "stream",
     "text": [
      "whole red tomatoes bags bag fresh baby spinach finely minced pieces artichoke hearts jar minced minced garlic little water white wine parmesan cheese feta cheese reduced fat works bread crumbs extra virgin olive oil melted butter\n",
      "little candy canes chocolates choice grams white chocolate melts\n",
      "flour shortening sugar baking powder salt egg vinegar cold water strawberry jam\n",
      "box yellow cake mix whole eggs vegetable oil water box instant vanilla pudding mix butter room temperature shortening room temperature vanilla salt confectioners sugar container marshmallow fluff 0z boiling water box raspberry gelatin shredded flake coconut sweetened cornstarch\n",
      "large eggs grated cheddar cheese salsa verde breakfast sausage cooked\n",
      "gelatin unflavored water mangos ripe sugar lemon juice heavy whipping cream whipped stiff pistachio nuts shelled roasted ground\n",
      "wind puffs water butter salt sifted flour large eggs veg oil frying sugar peel lime\n",
      "round steaks cooking oil onion minced garlic catsup vinegar water brown sugar prepared mustard worcestershire sauce salt pepper like\n",
      "chuck roast package lipton onion soup mix cream chicken soup water salt pepper garlic powder cornstarch cold water\n",
      "gallon vanilla ice cream bought homemade toasted pecans fine caramel chocolate sauce bought homemade\n"
     ]
    }
   ],
   "source": [
    "#displaying random ingredient \n",
    "for i in np.random.randint(0,10000,10):\n",
    "    print(new_df.loc[i,'ingredients'])"
   ]
  },
  {
   "cell_type": "code",
   "execution_count": 24,
   "metadata": {},
   "outputs": [
    {
     "name": "stdout",
     "output_type": "stream",
     "text": [
      "large pan melt butter add cream cheese chicken broth stirring sauce bring sauce boil minute dont burn sauce simmer minutes serve atop meal delicious\n",
      "blanch cavolo nero heavily salted boiling water minutes drain let cool squeeze excess water hands greens inch ribbons heat large saute pan high heat minutes pour olive oil wait minute add onion fennel garlic crumbled chiles rosemary thyme pan season salt lots pepper cook medium heat minutes onion starts wilt add greens stir coat oil onions cook minutes vegetables translucent tender greens start break drain beans reserve liquid add beans vegetables cook minute two turn heat high add clams cook minutes stirring occasionally add mussels stir well combine pour vermouth cover pan let shellfish steam minutes open remove lid add beancooking liquid dish doesnt seem brothy enough add little bring boil stirring well combine flavors swirl butter taste seasoning serve large shallow bowl large serving pass supergood extravirgin olive oil hunks crusty bread table remember provide small bowls shells toast fennel seeds small pan medium heat minutes release aroma golden brown fennel seeds coarsely mortar heat medium pot high heat minutes pour olive oil add rosemary sprig crumbled chile let sizzle oil minute add onion thyme fennel seeds saute minutes onion wilted add beans pan cook another minute stirring coat well cover water bring boil high heat turn heat low place paper towel beans keep underwater simmer stirring minutes add salt beans continue cooking low simmer beans tender hour remove beans heat let cool juices beans cook add water necessary much want bean liquid rich little starchy important part finished broth like use wide pan ideally across opposed deep pan dish way shellfish get coated cook evenly deeper pot difficult stir inevitably mussels clams end top brothless dried dont lid wide pan use piece tinfoil two fake lid steaming dont really wide pan use two widest pans split recipe make beans day\n",
      "preheat oven 350f mix first seven ingredients large bowl set aside glass measuring bowl microwave honey oil vanilla extract one minute pour honey mixture dry ingredients stir mixture well coated spread lightly grease cookie sheet bake minutes stir granola spread bake additional minutes cool completely break granola add desired extras chocolate dried fruit enjoy\n",
      "spread whipped topping bottom pie crust freeze min carefully jam whipped topping gradually blend lowfat milk peanut butter add pie filling mix beat till smooth minute mix whipped topping crust freeze hour\n",
      "mix ingredients adjust panko patties runny sticky form patties fry patties approximately minutes side\n"
     ]
    }
   ],
   "source": [
    "for i in np.random.randint(0,10000,5): #random 5 instructions\n",
    "    print(new_df.loc[i,'instructions'])"
   ]
  },
  {
   "cell_type": "markdown",
   "metadata": {},
   "source": [
    "<h3>Lammetizing"
   ]
  },
  {
   "cell_type": "code",
   "execution_count": 25,
   "metadata": {},
   "outputs": [],
   "source": [
    "import nltk\n",
    "from nltk.stem import WordNetLemmatizer"
   ]
  },
  {
   "cell_type": "code",
   "execution_count": 26,
   "metadata": {},
   "outputs": [
    {
     "name": "stderr",
     "output_type": "stream",
     "text": [
      "[nltk_data] Downloading package wordnet to\n",
      "[nltk_data]     C:\\Users\\Sandesh\\AppData\\Roaming\\nltk_data...\n",
      "[nltk_data]   Package wordnet is already up-to-date!\n"
     ]
    }
   ],
   "source": [
    "nltk.download('wordnet')\n",
    "lemmatizer=WordNetLemmatizer()"
   ]
  },
  {
   "cell_type": "code",
   "execution_count": 27,
   "metadata": {},
   "outputs": [],
   "source": [
    "for i in range(len(new_df.ingredients)):\n",
    "    words_ingr = [lemmatizer.lemmatize(word) for word in new_df.ingredients[i].strip().split(' ')]\n",
    "    words_instr= [lemmatizer.lemmatize(word) for word in new_df.instructions[i].strip().split(' ')]\n",
    "    new_df.ingredients[i] = \" \".join(words_ingr)\n",
    "    new_df.instructions[i]=\" \".join(words_instr)\n"
   ]
  },
  {
   "cell_type": "markdown",
   "metadata": {},
   "source": [
    "<h3> Old Dataset before Preprocessing"
   ]
  },
  {
   "cell_type": "code",
   "execution_count": 28,
   "metadata": {},
   "outputs": [
    {
     "name": "stdout",
     "output_type": "stream",
     "text": [
      "preheat the oven to 350 degrees. bring the water to a boil, add the hash browns, and cook for 5 minutes; drain. prepare the mashed-potato mix according to package directions. soften the butter and cream cheese together in the microwave. in a large bowl, mix together the hash browns, mashed potatoes, butter and cream cheese, jack cheese, sour cream, garlic salt, salt, and pepper. place in a greased 2-quart casserole. bake for 25 to 35 minutes, or until golden on top. sprinkle the onion rings over the casserole and bake for about 5 to 8 minutes longer, or until onions are golden brown.\n",
      "preheat oven to 350 degrees f. line a baking sheet with aluminum foil and spray with cooking spray. cut one sheet of lavash bread into 30 squares. do the same with the other pieces. i found cutting them with a pizza cutter works quick and easy. line the lavash bread on baking sheet. try not to overlap them. lightly spray with cooking spray. in a small bowl add cinnamon and sugar. with a sifter, add the sugar and cinnamon and shake over the lavash bread. place in oven and bake for 5 minutes. flip the crackers and bake for 2 minutes more.\n",
      "in heavy saucepan, combine sugar, butter, corn syrup, water and almonds. cook over a moderate heat to 280 on a candy thermometer. add in the vanilla. stir well and pour over the popped corn.\n",
      "in a small bowl, mix paprika, cayenne pepper, onion powder, salt, white pepper, black pepper, thyme, basil and oregano. brush salmon fillets on both sides with 1/4 cup butter, and sprinkle evenly with the cayenne pepper mixture. drizzle one side of each fillet with 1/2 remaining butter. in a large, heavy skillet over high heat, cook salmon, butter side down, until blackened, 2 to 5 minutes. turn fillets, drizzle with remaining butter, and continue cooking until blackened and fish is easily flaked with a fork.\n",
      "make your pasta and sauce like you normally would. adding what veggies and spices. pre heat oven to 400f mix sauce and pasta in an oven safe dish. i added fresh frozen spinach and a variety of cheeses. bake for 30 mins.\n"
     ]
    }
   ],
   "source": [
    "for i in range(5): #random 5 instructions\n",
    "    print(df.loc[i,'instructions'])"
   ]
  },
  {
   "cell_type": "code",
   "execution_count": 29,
   "metadata": {},
   "outputs": [
    {
     "data": {
      "text/html": [
       "<div>\n",
       "<style scoped>\n",
       "    .dataframe tbody tr th:only-of-type {\n",
       "        vertical-align: middle;\n",
       "    }\n",
       "\n",
       "    .dataframe tbody tr th {\n",
       "        vertical-align: top;\n",
       "    }\n",
       "\n",
       "    .dataframe thead th {\n",
       "        text-align: right;\n",
       "    }\n",
       "</style>\n",
       "<table border=\"1\" class=\"dataframe\">\n",
       "  <thead>\n",
       "    <tr style=\"text-align: right;\">\n",
       "      <th></th>\n",
       "      <th>ingredients</th>\n",
       "      <th>url</th>\n",
       "      <th>partition</th>\n",
       "      <th>title</th>\n",
       "      <th>id</th>\n",
       "      <th>instructions</th>\n",
       "      <th>type</th>\n",
       "    </tr>\n",
       "  </thead>\n",
       "  <tbody>\n",
       "    <tr>\n",
       "      <th>0</th>\n",
       "      <td>5 cups water 4 cups frozen hash brown potatoes...</td>\n",
       "      <td>http://www.epicurious.com/recipes/food/views/m...</td>\n",
       "      <td>train</td>\n",
       "      <td>mashed potato bake</td>\n",
       "      <td>165413dfa5</td>\n",
       "      <td>preheat the oven to 350 degrees. bring the wat...</td>\n",
       "      <td>0</td>\n",
       "    </tr>\n",
       "    <tr>\n",
       "      <th>1</th>\n",
       "      <td>2 whole sheets of lavash bread 1 teaspoon grou...</td>\n",
       "      <td>http://tastykitchen.com/recipes/appetizers-and...</td>\n",
       "      <td>train</td>\n",
       "      <td>cinnamon and sugar lavash chips</td>\n",
       "      <td>1654357cd3</td>\n",
       "      <td>preheat oven to 350 degrees f. line a baking s...</td>\n",
       "      <td>0</td>\n",
       "    </tr>\n",
       "    <tr>\n",
       "      <th>2</th>\n",
       "      <td>1 c. sugar 1/2 c. butter 1/2 c. white corn syr...</td>\n",
       "      <td>http://cookeatshare.com/recipes/almond-toffee-...</td>\n",
       "      <td>train</td>\n",
       "      <td>almond toffee popcorn recipe</td>\n",
       "      <td>165438a19c</td>\n",
       "      <td>in heavy saucepan, combine sugar, butter, corn...</td>\n",
       "      <td>0</td>\n",
       "    </tr>\n",
       "    <tr>\n",
       "      <th>3</th>\n",
       "      <td>2 tablespoons ground paprika 1 tablespoon grou...</td>\n",
       "      <td>http://allrecipes.com/recipe/blackened-salmon-...</td>\n",
       "      <td>val</td>\n",
       "      <td>blackened salmon fillets</td>\n",
       "      <td>1654587b71</td>\n",
       "      <td>in a small bowl, mix paprika, cayenne pepper, ...</td>\n",
       "      <td>1</td>\n",
       "    </tr>\n",
       "    <tr>\n",
       "      <th>4</th>\n",
       "      <td>2 lb ground turkey 1 quart speghetti sauce 1 b...</td>\n",
       "      <td>https://cookpad.com/us/recipes/349446-baked-ziti</td>\n",
       "      <td>train</td>\n",
       "      <td>baked ziti</td>\n",
       "      <td>16545e6d7e</td>\n",
       "      <td>make your pasta and sauce like you normally wo...</td>\n",
       "      <td>1</td>\n",
       "    </tr>\n",
       "  </tbody>\n",
       "</table>\n",
       "</div>"
      ],
      "text/plain": [
       "                                         ingredients  \\\n",
       "0  5 cups water 4 cups frozen hash brown potatoes...   \n",
       "1  2 whole sheets of lavash bread 1 teaspoon grou...   \n",
       "2  1 c. sugar 1/2 c. butter 1/2 c. white corn syr...   \n",
       "3  2 tablespoons ground paprika 1 tablespoon grou...   \n",
       "4  2 lb ground turkey 1 quart speghetti sauce 1 b...   \n",
       "\n",
       "                                                 url partition  \\\n",
       "0  http://www.epicurious.com/recipes/food/views/m...     train   \n",
       "1  http://tastykitchen.com/recipes/appetizers-and...     train   \n",
       "2  http://cookeatshare.com/recipes/almond-toffee-...     train   \n",
       "3  http://allrecipes.com/recipe/blackened-salmon-...       val   \n",
       "4   https://cookpad.com/us/recipes/349446-baked-ziti     train   \n",
       "\n",
       "                             title          id  \\\n",
       "0               mashed potato bake  165413dfa5   \n",
       "1  cinnamon and sugar lavash chips  1654357cd3   \n",
       "2     almond toffee popcorn recipe  165438a19c   \n",
       "3         blackened salmon fillets  1654587b71   \n",
       "4                       baked ziti  16545e6d7e   \n",
       "\n",
       "                                        instructions  type  \n",
       "0  preheat the oven to 350 degrees. bring the wat...     0  \n",
       "1  preheat oven to 350 degrees f. line a baking s...     0  \n",
       "2  in heavy saucepan, combine sugar, butter, corn...     0  \n",
       "3  in a small bowl, mix paprika, cayenne pepper, ...     1  \n",
       "4  make your pasta and sauce like you normally wo...     1  "
      ]
     },
     "execution_count": 29,
     "metadata": {},
     "output_type": "execute_result"
    }
   ],
   "source": [
    "df.head()"
   ]
  },
  {
   "cell_type": "markdown",
   "metadata": {},
   "source": [
    "<h3> After Preprocessing"
   ]
  },
  {
   "cell_type": "code",
   "execution_count": 37,
   "metadata": {},
   "outputs": [
    {
     "name": "stdout",
     "output_type": "stream",
     "text": [
      "preheat oven degree bring water boil add hash brown cook minute drain prepare mashedpotato mix according package direction soften butter cream cheese together microwave large bowl mix together hash brown mashed potato butter cream cheese jack cheese sour cream garlic salt salt pepper place greased quart casserole bake minute golden top sprinkle onion ring casserole bake minute longer onion golden brown\n",
      "preheat oven degree line baking sheet aluminum foil spray cooking spray one sheet lavash bread square piece found cutting pizza cutter work quick easy line lavash bread baking sheet try overlap lightly spray cooking spray small bowl add cinnamon sugar sifter add sugar cinnamon shake lavash bread place oven bake minute flip cracker bake minute\n",
      "heavy saucepan combine sugar butter corn syrup water almond cook moderate heat candy thermometer add vanilla stir well pour popped corn\n",
      "small bowl mix paprika cayenne pepper onion powder salt white pepper black pepper thyme basil oregano brush salmon fillet side butter sprinkle evenly cayenne pepper mixture drizzle one side fillet remaining butter large heavy skillet high heat cook salmon butter side blackened minute turn fillet drizzle remaining butter continue cooking blackened fish easily flaked fork\n",
      "make pasta sauce like normally would adding veggie spice pre heat oven 400f mix sauce pasta oven safe dish added fresh frounce spinach variety cheese bake min\n"
     ]
    }
   ],
   "source": [
    "for i in range(5): #random 5 instructions\n",
    "    print(new_df.loc[i,'instructions'])"
   ]
  },
  {
   "cell_type": "code",
   "execution_count": 30,
   "metadata": {},
   "outputs": [
    {
     "data": {
      "text/html": [
       "<div>\n",
       "<style scoped>\n",
       "    .dataframe tbody tr th:only-of-type {\n",
       "        vertical-align: middle;\n",
       "    }\n",
       "\n",
       "    .dataframe tbody tr th {\n",
       "        vertical-align: top;\n",
       "    }\n",
       "\n",
       "    .dataframe thead th {\n",
       "        text-align: right;\n",
       "    }\n",
       "</style>\n",
       "<table border=\"1\" class=\"dataframe\">\n",
       "  <thead>\n",
       "    <tr style=\"text-align: right;\">\n",
       "      <th></th>\n",
       "      <th>ingredients</th>\n",
       "      <th>partition</th>\n",
       "      <th>title</th>\n",
       "      <th>id</th>\n",
       "      <th>instructions</th>\n",
       "      <th>is_veg</th>\n",
       "      <th>lactose_content</th>\n",
       "    </tr>\n",
       "  </thead>\n",
       "  <tbody>\n",
       "    <tr>\n",
       "      <th>0</th>\n",
       "      <td>water frounce hash brown potato one package be...</td>\n",
       "      <td>train</td>\n",
       "      <td>mashed potato bake</td>\n",
       "      <td>165413dfa5</td>\n",
       "      <td>preheat oven degree bring water boil add hash ...</td>\n",
       "      <td>True</td>\n",
       "      <td>True</td>\n",
       "    </tr>\n",
       "    <tr>\n",
       "      <th>1</th>\n",
       "      <td>whole sheet lavash bread ground cinnamon sugar</td>\n",
       "      <td>train</td>\n",
       "      <td>cinnamon and sugar lavash chips</td>\n",
       "      <td>1654357cd3</td>\n",
       "      <td>preheat oven degree line baking sheet aluminum...</td>\n",
       "      <td>True</td>\n",
       "      <td>False</td>\n",
       "    </tr>\n",
       "    <tr>\n",
       "      <th>2</th>\n",
       "      <td>sugar butter white corn syrup water toasted al...</td>\n",
       "      <td>train</td>\n",
       "      <td>almond toffee popcorn recipe</td>\n",
       "      <td>165438a19c</td>\n",
       "      <td>heavy saucepan combine sugar butter corn syrup...</td>\n",
       "      <td>True</td>\n",
       "      <td>True</td>\n",
       "    </tr>\n",
       "    <tr>\n",
       "      <th>3</th>\n",
       "      <td>ground paprika ground cayenne pepper onion pow...</td>\n",
       "      <td>val</td>\n",
       "      <td>blackened salmon fillets</td>\n",
       "      <td>1654587b71</td>\n",
       "      <td>small bowl mix paprika cayenne pepper onion po...</td>\n",
       "      <td>False</td>\n",
       "      <td>False</td>\n",
       "    </tr>\n",
       "    <tr>\n",
       "      <th>4</th>\n",
       "      <td>ground turkey quart speghetti sauce box ziti p...</td>\n",
       "      <td>train</td>\n",
       "      <td>baked ziti</td>\n",
       "      <td>16545e6d7e</td>\n",
       "      <td>make pasta sauce like normally would adding ve...</td>\n",
       "      <td>False</td>\n",
       "      <td>False</td>\n",
       "    </tr>\n",
       "  </tbody>\n",
       "</table>\n",
       "</div>"
      ],
      "text/plain": [
       "                                         ingredients partition  \\\n",
       "0  water frounce hash brown potato one package be...     train   \n",
       "1     whole sheet lavash bread ground cinnamon sugar     train   \n",
       "2  sugar butter white corn syrup water toasted al...     train   \n",
       "3  ground paprika ground cayenne pepper onion pow...       val   \n",
       "4  ground turkey quart speghetti sauce box ziti p...     train   \n",
       "\n",
       "                             title          id  \\\n",
       "0               mashed potato bake  165413dfa5   \n",
       "1  cinnamon and sugar lavash chips  1654357cd3   \n",
       "2     almond toffee popcorn recipe  165438a19c   \n",
       "3         blackened salmon fillets  1654587b71   \n",
       "4                       baked ziti  16545e6d7e   \n",
       "\n",
       "                                        instructions is_veg lactose_content  \n",
       "0  preheat oven degree bring water boil add hash ...   True            True  \n",
       "1  preheat oven degree line baking sheet aluminum...   True           False  \n",
       "2  heavy saucepan combine sugar butter corn syrup...   True            True  \n",
       "3  small bowl mix paprika cayenne pepper onion po...  False           False  \n",
       "4  make pasta sauce like normally would adding ve...  False           False  "
      ]
     },
     "execution_count": 30,
     "metadata": {},
     "output_type": "execute_result"
    }
   ],
   "source": [
    "new_df.head()"
   ]
  },
  {
   "cell_type": "code",
   "execution_count": null,
   "metadata": {},
   "outputs": [],
   "source": []
  }
 ],
 "metadata": {
  "kernelspec": {
   "display_name": "Python 3",
   "language": "python",
   "name": "python3"
  },
  "language_info": {
   "codemirror_mode": {
    "name": "ipython",
    "version": 3
   },
   "file_extension": ".py",
   "mimetype": "text/x-python",
   "name": "python",
   "nbconvert_exporter": "python",
   "pygments_lexer": "ipython3",
   "version": "3.8.3"
  }
 },
 "nbformat": 4,
 "nbformat_minor": 4
}
